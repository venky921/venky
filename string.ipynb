{
 "cells": [
  {
   "cell_type": "markdown",
   "id": "749e05fa-595f-4413-9b24-502d44f1a8ff",
   "metadata": {},
   "source": [
    "#### what is string"
   ]
  },
  {
   "cell_type": "markdown",
   "id": "7625200d-6684-4afe-bcd1-8585db8a855a",
   "metadata": {},
   "source": [
    "In Python, a string is a sequence of characters.\n",
    "Enclosed in single quotes ('), double quotes (\"), or triple quotes (''' or \"\"\") for multi-line strings.\n",
    "Strings are used to represent textual data and are a fundamental data type in Python. \n",
    " \n",
    " EXAMPLES:\n",
    "- a=\"venky\"\n",
    "- b=\"apple\"\n",
    "- c=\"my name is ram\"\n",
    "- ram=\"ONE two three\"\n",
    "- acv=\"APPLE BOLL CAT DOG\"\n",
    "- h='data analytics'\n",
    "- d='hy friends'\n",
    "- k='it is a pen'\n",
    "- rav='its beautiful'\n",
    "- ex=\"I AM FROM ap\""
   ]
  },
  {
   "cell_type": "markdown",
   "id": "665c2e39-297f-47c6-967c-a5e39d75c204",
   "metadata": {},
   "source": [
    "#### string format methods\n",
    "#### 1).format method()"
   ]
  },
  {
   "cell_type": "code",
   "execution_count": 20,
   "id": "e533633f-f723-4ea7-902d-1c1860fd56f1",
   "metadata": {},
   "outputs": [
    {
     "name": "stdout",
     "output_type": "stream",
     "text": [
      "my name is venky and i am 21 old\n"
     ]
    }
   ],
   "source": [
    "name=\"venky\"\n",
    "age=21\n",
    "print('my name is {} and i am {} old'.format(name,age))"
   ]
  },
  {
   "cell_type": "code",
   "execution_count": 22,
   "id": "cc6e3545-ab54-46f3-888a-e982222340a9",
   "metadata": {},
   "outputs": [
    {
     "name": "stdout",
     "output_type": "stream",
     "text": [
      "my name is ravi and i am from hyd\n"
     ]
    }
   ],
   "source": [
    "name=\"ravi\"\n",
    "location=\"hyd\"\n",
    "print('my name is {} and i am from {}'.format(name,location)) "
   ]
  },
  {
   "cell_type": "code",
   "execution_count": 26,
   "id": "91b4b5d0-ec69-40e2-ba37-d994f52bc764",
   "metadata": {},
   "outputs": [
    {
     "name": "stdout",
     "output_type": "stream",
     "text": [
      "this is pen and its used to write anything\n"
     ]
    }
   ],
   "source": [
    "name=\"pen\"\n",
    "use=\"write\"\n",
    "print('this is {} and its used to {} anything'.format(name,use))"
   ]
  },
  {
   "cell_type": "code",
   "execution_count": 30,
   "id": "8e3bdeec-d6ee-4567-a35f-77d2852eb6ad",
   "metadata": {},
   "outputs": [
    {
     "name": "stdout",
     "output_type": "stream",
     "text": [
      "ravi joined teks academy to take data analytics coaching\n"
     ]
    }
   ],
   "source": [
    "a=\"teks academy\"\n",
    "b=\"data analytics\"\n",
    "print('ravi joined {} to take {} coaching'.format(a,b))"
   ]
  },
  {
   "cell_type": "code",
   "execution_count": 34,
   "id": "69a369f0-cde8-4ed0-b0b6-f470f4b8a1d6",
   "metadata": {},
   "outputs": [
    {
     "name": "stdout",
     "output_type": "stream",
     "text": [
      "venky completed maths exam and scored 100 marks\n"
     ]
    }
   ],
   "source": [
    "c=\"maths\"\n",
    "d=100\n",
    "print('venky completed {} exam and scored {} marks'.format(c,d))"
   ]
  },
  {
   "cell_type": "markdown",
   "id": "574e1895-01a3-4106-a722-5ede2c633570",
   "metadata": {},
   "source": [
    "#### f-string method"
   ]
  },
  {
   "cell_type": "code",
   "execution_count": 37,
   "id": "317ec0a5-00f7-41aa-b187-d012fa85e1c6",
   "metadata": {},
   "outputs": [
    {
     "name": "stdout",
     "output_type": "stream",
     "text": [
      "my name is ravi and i am 23 old\n"
     ]
    }
   ],
   "source": [
    "a=\"ravi\"\n",
    "b=23\n",
    "print(f'my name is {a} and i am {b} old')"
   ]
  },
  {
   "cell_type": "code",
   "execution_count": 39,
   "id": "c3794870-e2b2-4a67-8071-d49ee837859c",
   "metadata": {},
   "outputs": [
    {
     "name": "stdout",
     "output_type": "stream",
     "text": [
      "i am studying ramachandra degree college at jangareddygudem\n"
     ]
    }
   ],
   "source": [
    "c=\"ramachandra\"\n",
    "d=\"jangareddygudem\"\n",
    "print(f'i am studying {c} degree college at {d}')"
   ]
  },
  {
   "cell_type": "code",
   "execution_count": 41,
   "id": "4c49d0d9-66ad-4c75-8958-04ddd0d2e389",
   "metadata": {},
   "outputs": [
    {
     "name": "stdout",
     "output_type": "stream",
     "text": [
      "vamsi sir is data analytics trainer\n"
     ]
    }
   ],
   "source": [
    "e=\"vamsi\"\n",
    "f=\"data analytics\"\n",
    "print(f'{e} sir is {f} trainer')"
   ]
  },
  {
   "cell_type": "code",
   "execution_count": 43,
   "id": "daf83a5c-85fa-4a0b-a3d8-3f98dbf53425",
   "metadata": {},
   "outputs": [
    {
     "name": "stdout",
     "output_type": "stream",
     "text": [
      "complete my degree with 99 percentage\n"
     ]
    }
   ],
   "source": [
    "g=\"degree\"\n",
    "h=99\n",
    "print(f'complete my {g} with {h} percentage')"
   ]
  },
  {
   "cell_type": "code",
   "execution_count": 45,
   "id": "00388c06-d45a-44bb-9a31-cd68ece4b1d8",
   "metadata": {},
   "outputs": [
    {
     "name": "stdout",
     "output_type": "stream",
     "text": [
      "these are examples of f-string method\n"
     ]
    }
   ],
   "source": [
    "i=\"examples\"\n",
    "j=\"f-string\"\n",
    "print(f'these are {i} of {j} method')"
   ]
  },
  {
   "cell_type": "markdown",
   "id": "9b45d254-d429-42ad-87d0-606151c8212a",
   "metadata": {},
   "source": [
    "#### index\n",
    "#### positive and negative"
   ]
  },
  {
   "cell_type": "code",
   "execution_count": 50,
   "id": "ef19d02b-1aa6-4c57-b60c-01cab4a8fc15",
   "metadata": {},
   "outputs": [
    {
     "data": {
      "text/plain": [
       "' '"
      ]
     },
     "execution_count": 50,
     "metadata": {},
     "output_type": "execute_result"
    }
   ],
   "source": [
    "name=\"data analytics\"\n",
    "name[4]"
   ]
  },
  {
   "cell_type": "code",
   "execution_count": 52,
   "id": "8be816a0-c4b0-446f-87da-c845d20b9a8d",
   "metadata": {},
   "outputs": [
    {
     "data": {
      "text/plain": [
       "'t'"
      ]
     },
     "execution_count": 52,
     "metadata": {},
     "output_type": "execute_result"
    }
   ],
   "source": [
    "name[-4]"
   ]
  },
  {
   "cell_type": "code",
   "execution_count": 54,
   "id": "af2ee0e0-da38-4360-adc6-8c7dd54242c4",
   "metadata": {},
   "outputs": [
    {
     "data": {
      "text/plain": [
       "'e'"
      ]
     },
     "execution_count": 54,
     "metadata": {},
     "output_type": "execute_result"
    }
   ],
   "source": [
    "a=\"my name is venky\"\n",
    "a[6]"
   ]
  },
  {
   "cell_type": "code",
   "execution_count": 56,
   "id": "1090a2a0-3a87-456c-8306-95691d67d66e",
   "metadata": {},
   "outputs": [
    {
     "data": {
      "text/plain": [
       "'s'"
      ]
     },
     "execution_count": 56,
     "metadata": {},
     "output_type": "execute_result"
    }
   ],
   "source": [
    "a[-7]"
   ]
  },
  {
   "cell_type": "code",
   "execution_count": 58,
   "id": "5ee3c556-14f8-435a-be9c-cbb8f824c9c3",
   "metadata": {},
   "outputs": [
    {
     "data": {
      "text/plain": [
       "'o'"
      ]
     },
     "execution_count": 58,
     "metadata": {},
     "output_type": "execute_result"
    }
   ],
   "source": [
    "h=\"i am from hyd\"\n",
    "h[7]"
   ]
  },
  {
   "cell_type": "code",
   "execution_count": 62,
   "id": "7e4fbfc1-9a3f-4a3e-be6c-e2f6845bbf95",
   "metadata": {},
   "outputs": [
    {
     "data": {
      "text/plain": [
       "' '"
      ]
     },
     "execution_count": 62,
     "metadata": {},
     "output_type": "execute_result"
    }
   ],
   "source": [
    "h[-9]"
   ]
  },
  {
   "cell_type": "code",
   "execution_count": 64,
   "id": "b790c652-1e46-4509-aa45-3a9e272fea7e",
   "metadata": {},
   "outputs": [
    {
     "data": {
      "text/plain": [
       "'p'"
      ]
     },
     "execution_count": 64,
     "metadata": {},
     "output_type": "execute_result"
    }
   ],
   "source": [
    "u=\"apple\"\n",
    "u[2]"
   ]
  },
  {
   "cell_type": "code",
   "execution_count": 66,
   "id": "9ea224e6-771d-42af-9de5-c0339685067f",
   "metadata": {},
   "outputs": [
    {
     "data": {
      "text/plain": [
       "'p'"
      ]
     },
     "execution_count": 66,
     "metadata": {},
     "output_type": "execute_result"
    }
   ],
   "source": [
    "u[-4]"
   ]
  },
  {
   "cell_type": "code",
   "execution_count": 68,
   "id": "5e3f7111-83ca-444a-a153-eb78c957a846",
   "metadata": {},
   "outputs": [
    {
     "data": {
      "text/plain": [
       "'i'"
      ]
     },
     "execution_count": 68,
     "metadata": {},
     "output_type": "execute_result"
    }
   ],
   "source": [
    "k=\"my age is 20\"\n",
    "k[7]"
   ]
  },
  {
   "cell_type": "code",
   "execution_count": 70,
   "id": "3e8e8458-b350-427f-a8c8-5c08873aaa75",
   "metadata": {},
   "outputs": [
    {
     "data": {
      "text/plain": [
       "'2'"
      ]
     },
     "execution_count": 70,
     "metadata": {},
     "output_type": "execute_result"
    }
   ],
   "source": [
    "k[-2]"
   ]
  },
  {
   "cell_type": "markdown",
   "id": "3ef58853-983a-493f-a64d-c43a0ca6e1da",
   "metadata": {},
   "source": [
    "#### slicing"
   ]
  },
  {
   "cell_type": "code",
   "execution_count": 73,
   "id": "8f6e27ff-b87f-4eca-afa5-eb4938e31918",
   "metadata": {},
   "outputs": [
    {
     "data": {
      "text/plain": [
       "'am'"
      ]
     },
     "execution_count": 73,
     "metadata": {},
     "output_type": "execute_result"
    }
   ],
   "source": [
    "a=\"my name is venky\"\n",
    "a[4:6]"
   ]
  },
  {
   "cell_type": "code",
   "execution_count": 75,
   "id": "4314d2d1-928c-4c5a-bccf-d8a5eaca9b1f",
   "metadata": {},
   "outputs": [
    {
     "data": {
      "text/plain": [
       "'venk'"
      ]
     },
     "execution_count": 75,
     "metadata": {},
     "output_type": "execute_result"
    }
   ],
   "source": [
    "a[-5:-1]"
   ]
  },
  {
   "cell_type": "code",
   "execution_count": 77,
   "id": "539bf2ce-c7f1-4bdd-95c8-cc72fc0beaea",
   "metadata": {},
   "outputs": [
    {
     "data": {
      "text/plain": [
       "'OLL'"
      ]
     },
     "execution_count": 77,
     "metadata": {},
     "output_type": "execute_result"
    }
   ],
   "source": [
    "b=\"APPLEBOLLCATDOG\"\n",
    "b[6:9]"
   ]
  },
  {
   "cell_type": "code",
   "execution_count": 79,
   "id": "0b2a4025-2c1e-4276-a3d5-fffd197e39fe",
   "metadata": {},
   "outputs": [
    {
     "data": {
      "text/plain": [
       "'OLLCATDO'"
      ]
     },
     "execution_count": 79,
     "metadata": {},
     "output_type": "execute_result"
    }
   ],
   "source": [
    "b[-9:-1]"
   ]
  },
  {
   "cell_type": "code",
   "execution_count": 81,
   "id": "b48eac84-2d58-4b26-af89-5029fef1a985",
   "metadata": {},
   "outputs": [
    {
     "data": {
      "text/plain": [
       "'y age i'"
      ]
     },
     "execution_count": 81,
     "metadata": {},
     "output_type": "execute_result"
    }
   ],
   "source": [
    "c=\" my age is 20       \"\n",
    "c[2:9]"
   ]
  },
  {
   "cell_type": "code",
   "execution_count": 89,
   "id": "fc7f43ee-e7dc-4553-84a4-9d078d2861d3",
   "metadata": {},
   "outputs": [
    {
     "data": {
      "text/plain": [
       "'age is 20      '"
      ]
     },
     "execution_count": 89,
     "metadata": {},
     "output_type": "execute_result"
    }
   ],
   "source": [
    "c[-16:-1]"
   ]
  },
  {
   "cell_type": "code",
   "execution_count": 105,
   "id": "c456f9a1-7e39-4258-b17f-06e1ea988f5f",
   "metadata": {},
   "outputs": [
    {
     "data": {
      "text/plain": [
       "'FROM RJY '"
      ]
     },
     "execution_count": 105,
     "metadata": {},
     "output_type": "execute_result"
    }
   ],
   "source": [
    "d=\"i am FROM RJY \"\n",
    "d[5:14]"
   ]
  },
  {
   "cell_type": "code",
   "execution_count": 107,
   "id": "af1bd8ed-4abd-4942-9ada-4e74a5b485f3",
   "metadata": {},
   "outputs": [
    {
     "data": {
      "text/plain": [
       "'am FROM RJY'"
      ]
     },
     "execution_count": 107,
     "metadata": {},
     "output_type": "execute_result"
    }
   ],
   "source": [
    "d[-12:-1]"
   ]
  },
  {
   "cell_type": "code",
   "execution_count": 115,
   "id": "3aa38efe-dcd1-4325-b317-2d2e4cc05ed8",
   "metadata": {},
   "outputs": [
    {
     "data": {
      "text/plain": [
       "' salary is 700'"
      ]
     },
     "execution_count": 115,
     "metadata": {},
     "output_type": "execute_result"
    }
   ],
   "source": [
    "rajesh=\"my salary is 70000 per month \"\n",
    "rajesh[2:16]"
   ]
  },
  {
   "cell_type": "code",
   "execution_count": 117,
   "id": "98dd3e8c-a17d-4191-853c-1370cd2f8d35",
   "metadata": {},
   "outputs": [
    {
     "data": {
      "text/plain": [
       "' is 70000 per month'"
      ]
     },
     "execution_count": 117,
     "metadata": {},
     "output_type": "execute_result"
    }
   ],
   "source": [
    "rajesh[-20:-1]"
   ]
  },
  {
   "cell_type": "markdown",
   "id": "950ef06d-0a58-4d73-8756-9b7735e2712c",
   "metadata": {},
   "source": [
    "#### All string methods with one example"
   ]
  },
  {
   "cell_type": "markdown",
   "id": "0a6a9b7b-5884-4c26-9663-f2ef098ed2fc",
   "metadata": {},
   "source": [
    "1. str.lower()\n",
    "\n",
    "Converts all characters in the string to lowercase."
   ]
  },
  {
   "cell_type": "code",
   "execution_count": 124,
   "id": "2899682d-3d4f-46a5-9717-407ed2e78d4f",
   "metadata": {},
   "outputs": [
    {
     "name": "stdout",
     "output_type": "stream",
     "text": [
      "hello world\n"
     ]
    }
   ],
   "source": [
    "text = \"HELLO WORLD\"\n",
    "print(text.lower())  "
   ]
  },
  {
   "cell_type": "markdown",
   "id": "e15d84d9-1aa7-4beb-b2e2-ba97d9e22c8c",
   "metadata": {},
   "source": [
    "2. str.upper()\n",
    "\n",
    "Converts all characters in the string to uppercase."
   ]
  },
  {
   "cell_type": "code",
   "execution_count": 135,
   "id": "81727e2d-11bc-4d1e-9969-5194aa2cb2a7",
   "metadata": {},
   "outputs": [
    {
     "name": "stdout",
     "output_type": "stream",
     "text": [
      "HELLO WORLD\n"
     ]
    }
   ],
   "source": [
    "text = \"hello world\"\n",
    "print(text.upper())  "
   ]
  },
  {
   "cell_type": "markdown",
   "id": "9436e4b2-9a35-41b5-a8de-14ecae94e783",
   "metadata": {},
   "source": [
    "3. str.capitalize()\n",
    "\n",
    "Capitalizes the first letter of the string and lowercases the rest."
   ]
  },
  {
   "cell_type": "code",
   "execution_count": 138,
   "id": "ced64575-8c82-473a-a127-06e4296195a5",
   "metadata": {},
   "outputs": [
    {
     "name": "stdout",
     "output_type": "stream",
     "text": [
      "Hello world\n"
     ]
    }
   ],
   "source": [
    "text = \"hello world\"\n",
    "print(text.capitalize())  \n"
   ]
  },
  {
   "cell_type": "markdown",
   "id": "53d53b5d-36c2-4f91-a1e5-b06797377585",
   "metadata": {},
   "source": [
    "4. str.title()\n",
    "\n",
    "Capitalizes the first letter of each word in the string."
   ]
  },
  {
   "cell_type": "code",
   "execution_count": 141,
   "id": "36466749-2030-4192-afdc-19a577338a33",
   "metadata": {},
   "outputs": [
    {
     "name": "stdout",
     "output_type": "stream",
     "text": [
      "Hello World\n"
     ]
    }
   ],
   "source": [
    "text = \"hello world\"\n",
    "print(text.title())  "
   ]
  },
  {
   "cell_type": "markdown",
   "id": "2d43e745-e895-405c-a7c8-82c52a0819d3",
   "metadata": {},
   "source": [
    "5. str.strip()\n",
    "\n",
    "Removes leading and trailing whitespace from the string."
   ]
  },
  {
   "cell_type": "code",
   "execution_count": 144,
   "id": "d12d4f1f-c137-4cdb-ac11-31234f6be7d7",
   "metadata": {},
   "outputs": [
    {
     "name": "stdout",
     "output_type": "stream",
     "text": [
      "hello world\n"
     ]
    }
   ],
   "source": [
    "text = \"  hello world  \"\n",
    "print(text.strip())  "
   ]
  },
  {
   "cell_type": "markdown",
   "id": "386a9def-d0c2-4279-895d-c9711c8dfa9c",
   "metadata": {},
   "source": [
    "6. str.lstrip()\n",
    "\n",
    "Removes leading (left) whitespace from the string."
   ]
  },
  {
   "cell_type": "code",
   "execution_count": 147,
   "id": "0a73f4db-d8ac-4d70-90ef-2f540461d8d3",
   "metadata": {},
   "outputs": [
    {
     "name": "stdout",
     "output_type": "stream",
     "text": [
      "hello world\n"
     ]
    }
   ],
   "source": [
    "text = \"  hello world\"\n",
    "print(text.lstrip()) "
   ]
  },
  {
   "cell_type": "markdown",
   "id": "b51844af-7437-4dab-b49e-16f7243ff284",
   "metadata": {},
   "source": [
    "7. str.rstrip()\n",
    "\n",
    "Removes trailing (right) whitespace from the string."
   ]
  },
  {
   "cell_type": "code",
   "execution_count": 151,
   "id": "d6d0aadf-8e0f-4904-ac67-e8d01de2ebfb",
   "metadata": {},
   "outputs": [
    {
     "name": "stdout",
     "output_type": "stream",
     "text": [
      "hello world\n"
     ]
    }
   ],
   "source": [
    "text = \"hello world  \"\n",
    "print(text.rstrip())"
   ]
  },
  {
   "cell_type": "markdown",
   "id": "d13d6e69-1367-43a8-9e03-1a361ada7023",
   "metadata": {},
   "source": [
    "8. str.replace(old, new)\n",
    "\n",
    "Replaces occurrences of a substring with another substring."
   ]
  },
  {
   "cell_type": "code",
   "execution_count": 154,
   "id": "d8980604-9a42-4eca-91d9-725ffbddb117",
   "metadata": {},
   "outputs": [
    {
     "name": "stdout",
     "output_type": "stream",
     "text": [
      "Hello Python\n"
     ]
    }
   ],
   "source": [
    "text = \"Hello World\"\n",
    "print(text.replace(\"World\", \"Python\")) "
   ]
  },
  {
   "cell_type": "markdown",
   "id": "6a268dc5-dc88-4042-847c-3e00ee9a26a6",
   "metadata": {},
   "source": [
    "9. str.split()\n",
    "\n",
    "Splits the string into a list of substrings based on a delimiter (space by default)."
   ]
  },
  {
   "cell_type": "code",
   "execution_count": 157,
   "id": "636ff583-5a55-4e07-8776-610eca0b1ddf",
   "metadata": {},
   "outputs": [
    {
     "name": "stdout",
     "output_type": "stream",
     "text": [
      "['hello', 'world']\n"
     ]
    }
   ],
   "source": [
    "text = \"hello world\"\n",
    "print(text.split())  "
   ]
  },
  {
   "cell_type": "markdown",
   "id": "c84ec6b3-d54a-41de-b81c-314cd0aa6b0f",
   "metadata": {},
   "source": [
    "10. str.join(iterable)\n",
    "\n",
    "Joins a list of strings into one string with a specified separator."
   ]
  },
  {
   "cell_type": "code",
   "execution_count": 160,
   "id": "312e78fa-f591-49b3-b27c-7aab98dac779",
   "metadata": {},
   "outputs": [
    {
     "name": "stdout",
     "output_type": "stream",
     "text": [
      "hello world\n"
     ]
    }
   ],
   "source": [
    "words = ['hello', 'world']\n",
    "print(' '.join(words))  "
   ]
  },
  {
   "cell_type": "markdown",
   "id": "b181f58a-c922-4408-a978-c02f8851555f",
   "metadata": {},
   "source": [
    "11. str.find(sub)\n",
    "\n",
    "Returns the index of the first occurrence of a substring. Returns -1 if not found."
   ]
  },
  {
   "cell_type": "code",
   "execution_count": 163,
   "id": "f5d3e3f8-706e-4236-a214-16e2273a7949",
   "metadata": {},
   "outputs": [
    {
     "name": "stdout",
     "output_type": "stream",
     "text": [
      "6\n"
     ]
    }
   ],
   "source": [
    "text = \"Hello World\"\n",
    "print(text.find(\"World\"))  "
   ]
  },
  {
   "cell_type": "markdown",
   "id": "c6162327-e199-4feb-81bb-9e9e16ad8a02",
   "metadata": {},
   "source": [
    "12. str.rfind(sub)\n",
    "\n",
    "Returns the index of the last occurrence of a substring. Returns -1 if not found."
   ]
  },
  {
   "cell_type": "code",
   "execution_count": 166,
   "id": "9d822302-0411-437c-a49f-ad539d887efa",
   "metadata": {},
   "outputs": [
    {
     "name": "stdout",
     "output_type": "stream",
     "text": [
      "7\n"
     ]
    }
   ],
   "source": [
    "text = \"Hello World\"\n",
    "print(text.rfind(\"o\")) "
   ]
  },
  {
   "cell_type": "markdown",
   "id": "77aa50f6-b782-4a78-86af-1dbfb7166cf4",
   "metadata": {},
   "source": [
    "13. str.index(sub)\n",
    "    \n",
    "Similar to find(), but raises a ValueError if the substring is not found."
   ]
  },
  {
   "cell_type": "code",
   "execution_count": 169,
   "id": "7d56d6e4-09fa-4b27-9e78-999efea12d77",
   "metadata": {},
   "outputs": [
    {
     "name": "stdout",
     "output_type": "stream",
     "text": [
      "6\n"
     ]
    }
   ],
   "source": [
    "text = \"Hello World\"\n",
    "print(text.index(\"World\"))  "
   ]
  },
  {
   "cell_type": "markdown",
   "id": "2281175e-3962-49d8-8dfa-2cadd5894d07",
   "metadata": {},
   "source": [
    "14. str.rindex(sub)\n",
    "\n",
    "Similar to rfind(), but raises a ValueError if the substring is not found."
   ]
  },
  {
   "cell_type": "code",
   "execution_count": 172,
   "id": "c51bbdc1-8940-409a-bcff-a196fce2cf84",
   "metadata": {},
   "outputs": [
    {
     "name": "stdout",
     "output_type": "stream",
     "text": [
      "7\n"
     ]
    }
   ],
   "source": [
    "text = \"Hello World\"\n",
    "print(text.rindex(\"o\"))  "
   ]
  },
  {
   "cell_type": "markdown",
   "id": "2eba16ef-c64f-4ed5-9c0d-9fbc5e28ffda",
   "metadata": {},
   "source": [
    "15. str.count(sub)\n",
    "\n",
    "Returns the number of occurrences of a substring."
   ]
  },
  {
   "cell_type": "code",
   "execution_count": 175,
   "id": "98fb58cd-712c-4f86-8a26-a2735f4cd4f8",
   "metadata": {},
   "outputs": [
    {
     "name": "stdout",
     "output_type": "stream",
     "text": [
      "2\n"
     ]
    }
   ],
   "source": [
    "text = \"Hello World\"\n",
    "print(text.count(\"o\"))  "
   ]
  },
  {
   "cell_type": "markdown",
   "id": "59d06140-3be5-4567-9606-4cea27230b6f",
   "metadata": {},
   "source": [
    "16. str.startswith(prefix)\n",
    "\n",
    "Checks if the string starts with a given prefix."
   ]
  },
  {
   "cell_type": "code",
   "execution_count": 178,
   "id": "1397fec8-e667-4ac4-9e32-408517a32766",
   "metadata": {},
   "outputs": [
    {
     "name": "stdout",
     "output_type": "stream",
     "text": [
      "True\n"
     ]
    }
   ],
   "source": [
    "text = \"Hello World\"\n",
    "print(text.startswith(\"Hello\"))\n"
   ]
  },
  {
   "cell_type": "markdown",
   "id": "dd7c16d0-b3dd-43b8-9a16-a5c415aef4b2",
   "metadata": {},
   "source": [
    "17. str.endswith(suffix)\n",
    "\n",
    "Checks if the string ends with a given suffix."
   ]
  },
  {
   "cell_type": "code",
   "execution_count": 181,
   "id": "7ddd14e5-d2b3-4f73-af83-f50ef4fe190b",
   "metadata": {},
   "outputs": [
    {
     "name": "stdout",
     "output_type": "stream",
     "text": [
      "True\n"
     ]
    }
   ],
   "source": [
    "text = \"Hello World\"\n",
    "print(text.endswith(\"World\"))  "
   ]
  },
  {
   "cell_type": "markdown",
   "id": "3ce092e3-76d2-479e-9ef2-b7b2affd823b",
   "metadata": {},
   "source": [
    "18. str.isdigit()\n",
    "\n",
    "Returns True if all characters in the string are digits."
   ]
  },
  {
   "cell_type": "code",
   "execution_count": 184,
   "id": "2c4e4bc4-6a91-4e3e-85b7-e43fbc8a5afa",
   "metadata": {},
   "outputs": [
    {
     "name": "stdout",
     "output_type": "stream",
     "text": [
      "True\n"
     ]
    }
   ],
   "source": [
    "text = \"12345\"\n",
    "print(text.isdigit())  "
   ]
  },
  {
   "cell_type": "markdown",
   "id": "bbe7115b-f517-4909-b34c-78a198d1a277",
   "metadata": {},
   "source": [
    "19. str.isalpha()\n",
    "\n",
    "Returns True if all characters in the string are alphabetic."
   ]
  },
  {
   "cell_type": "code",
   "execution_count": 187,
   "id": "dc26a069-c1c4-4121-9781-37a924faad8b",
   "metadata": {},
   "outputs": [
    {
     "name": "stdout",
     "output_type": "stream",
     "text": [
      "True\n"
     ]
    }
   ],
   "source": [
    "text = \"Hello\"\n",
    "print(text.isalpha())"
   ]
  },
  {
   "cell_type": "markdown",
   "id": "3d71b650-6300-40a2-ad62-271a8e147543",
   "metadata": {},
   "source": [
    "20. str.isalnum()\n",
    "\n",
    "Returns True if all characters in the string are alphanumeric (letters and digits)."
   ]
  },
  {
   "cell_type": "code",
   "execution_count": 190,
   "id": "00e9ef9a-791f-4a6f-9ebb-43d8c1f1d02a",
   "metadata": {},
   "outputs": [
    {
     "name": "stdout",
     "output_type": "stream",
     "text": [
      "True\n"
     ]
    }
   ],
   "source": [
    "text = \"Hello123\"\n",
    "print(text.isalnum())  "
   ]
  },
  {
   "cell_type": "markdown",
   "id": "008e33fe-c8a9-41ea-b0f7-120fa8daec1a",
   "metadata": {},
   "source": [
    "21. str.islower()\n",
    "\n",
    "Returns True if all characters in the string are lowercase."
   ]
  },
  {
   "cell_type": "code",
   "execution_count": 193,
   "id": "d7927c06-12f6-4327-b78b-05209d37dc09",
   "metadata": {},
   "outputs": [
    {
     "name": "stdout",
     "output_type": "stream",
     "text": [
      "True\n"
     ]
    }
   ],
   "source": [
    "text = \"hello\"\n",
    "print(text.islower())  "
   ]
  },
  {
   "cell_type": "markdown",
   "id": "f7a5afd1-bbe0-4800-b230-f1cd155b3544",
   "metadata": {},
   "source": [
    "22. str.isupper()\n",
    "\n",
    "Returns True if all characters in the string are uppercase."
   ]
  },
  {
   "cell_type": "code",
   "execution_count": 196,
   "id": "4965620d-5d2e-4bcb-bb10-6cb8ce9c5d09",
   "metadata": {},
   "outputs": [
    {
     "name": "stdout",
     "output_type": "stream",
     "text": [
      "True\n"
     ]
    }
   ],
   "source": [
    "text = \"HELLO\"\n",
    "print(text.isupper())"
   ]
  },
  {
   "cell_type": "markdown",
   "id": "79b8c2a6-802a-41a9-b617-db99110e16b9",
   "metadata": {},
   "source": [
    "23. str.swapcase()\n",
    "\n",
    "Swaps case of all characters in the string."
   ]
  },
  {
   "cell_type": "code",
   "execution_count": 199,
   "id": "16980f2e-7bd7-41ae-b35a-100678527d69",
   "metadata": {},
   "outputs": [
    {
     "name": "stdout",
     "output_type": "stream",
     "text": [
      "hELLO wORLD\n"
     ]
    }
   ],
   "source": [
    "text = \"Hello World\"\n",
    "print(text.swapcase()) "
   ]
  },
  {
   "cell_type": "markdown",
   "id": "567bc1bd-2def-4d0e-af42-9ea523ce4fd2",
   "metadata": {},
   "source": [
    "24. str.isspace()\n",
    "\n",
    "Returns True if all characters in the string are whitespace."
   ]
  },
  {
   "cell_type": "code",
   "execution_count": 202,
   "id": "ecb7b04b-fc7e-4f19-9dfb-b3f5f27e562c",
   "metadata": {},
   "outputs": [
    {
     "name": "stdout",
     "output_type": "stream",
     "text": [
      "True\n"
     ]
    }
   ],
   "source": [
    "text = \"    \"\n",
    "print(text.isspace())  "
   ]
  },
  {
   "cell_type": "markdown",
   "id": "ccc8a4dc-c164-4aea-b358-2d5a65703aff",
   "metadata": {},
   "source": [
    "25. str.zfill(width)\n",
    "\n",
    "Pads the string on the left with zeros until it reaches the specified width."
   ]
  },
  {
   "cell_type": "code",
   "execution_count": 205,
   "id": "7fbc833f-e99f-404b-a4cf-8bc094b62e5d",
   "metadata": {},
   "outputs": [
    {
     "name": "stdout",
     "output_type": "stream",
     "text": [
      "00042\n"
     ]
    }
   ],
   "source": [
    "text = \"42\"\n",
    "print(text.zfill(5))"
   ]
  },
  {
   "cell_type": "markdown",
   "id": "20fcbf96-d850-4688-9b44-872498078d03",
   "metadata": {},
   "source": [
    "26. str.expandtabs(tabsize)\n",
    "\n",
    "Expands all tab characters (\\t) in the string to spaces, with the specified tab size."
   ]
  },
  {
   "cell_type": "code",
   "execution_count": 208,
   "id": "31a2106d-b897-41ee-9538-86097dea68f8",
   "metadata": {},
   "outputs": [
    {
     "name": "stdout",
     "output_type": "stream",
     "text": [
      "Hello   World\n"
     ]
    }
   ],
   "source": [
    "text = \"Hello\\tWorld\"\n",
    "print(text.expandtabs(4))  "
   ]
  },
  {
   "cell_type": "markdown",
   "id": "42028ba1-f204-42e8-88de-75de1bebf447",
   "metadata": {},
   "source": [
    "27. str.format(*args, **kwargs)\n",
    "\n",
    "Formats the string using placeholders."
   ]
  },
  {
   "cell_type": "code",
   "execution_count": 211,
   "id": "acbbbbaa-336d-4aa4-8403-b5ff8cf53d97",
   "metadata": {},
   "outputs": [
    {
     "name": "stdout",
     "output_type": "stream",
     "text": [
      "Hello World\n"
     ]
    }
   ],
   "source": [
    "text = \"Hello {}\"\n",
    "print(text.format(\"World\"))  "
   ]
  },
  {
   "cell_type": "markdown",
   "id": "4ad22c74-803a-4c03-8fc0-99a8539058ea",
   "metadata": {},
   "source": [
    "28. str.isnumeric()\n",
    "\n",
    "Returns True if all characters in the string are numeric characters."
   ]
  },
  {
   "cell_type": "code",
   "execution_count": 216,
   "id": "a4cf2386-1de4-4bf8-9018-66b167a0c763",
   "metadata": {},
   "outputs": [
    {
     "name": "stdout",
     "output_type": "stream",
     "text": [
      "True\n"
     ]
    }
   ],
   "source": [
    "text = \"12345\"\n",
    "print(text.isnumeric())  "
   ]
  },
  {
   "cell_type": "markdown",
   "id": "2e839e11-d9c9-4ed9-b6d2-db5e52fd8bd7",
   "metadata": {},
   "source": [
    "29. str.rsplit()\n",
    "\n",
    "Splits the string from the right side."
   ]
  },
  {
   "cell_type": "code",
   "execution_count": 223,
   "id": "e9c51d8f-7ba5-4caa-9832-29b52195b647",
   "metadata": {},
   "outputs": [
    {
     "name": "stdout",
     "output_type": "stream",
     "text": [
      "['apple,banana', 'cherry']\n"
     ]
    }
   ],
   "source": [
    "text = \"apple,banana,cherry\"\n",
    "print(text.rsplit(\",\", 1))"
   ]
  },
  {
   "cell_type": "markdown",
   "id": "ef1bdc5f-fe62-48b6-8038-e92269479103",
   "metadata": {},
   "source": [
    "30. str.partition(sep)\n",
    "\n",
    "Splits the string into three parts: the part before the separator, the separator, and the part after."
   ]
  },
  {
   "cell_type": "code",
   "execution_count": 226,
   "id": "b97abf14-d36a-48e1-85ae-e3cca769acba",
   "metadata": {},
   "outputs": [
    {
     "name": "stdout",
     "output_type": "stream",
     "text": [
      "('apple', '-', 'banana-cherry')\n"
     ]
    }
   ],
   "source": [
    "text = \"apple-banana-cherry\"\n",
    "print(text.partition(\"-\"))  "
   ]
  },
  {
   "cell_type": "markdown",
   "id": "a2eaa747-979f-4b0c-b14d-7fb7a82c7a94",
   "metadata": {},
   "source": [
    "31. str.removeprefix(prefix) \n",
    "\n",
    "Removes the specified prefix from the string, if it starts with that prefix."
   ]
  },
  {
   "cell_type": "code",
   "execution_count": 231,
   "id": "f0096c10-8b55-4d6b-b22f-5b9934953980",
   "metadata": {},
   "outputs": [
    {
     "name": "stdout",
     "output_type": "stream",
     "text": [
      "Hook\n"
     ]
    }
   ],
   "source": [
    "text = \"TestHook\"\n",
    "print(text.removeprefix(\"Test\")) "
   ]
  },
  {
   "cell_type": "markdown",
   "id": "a959ed21-0c0f-465e-bf0e-b94470bf5b06",
   "metadata": {},
   "source": [
    "32. str.removesuffix(suffix) \n",
    "\n",
    "Removes the specified suffix from the string, if it ends with that suffix."
   ]
  },
  {
   "cell_type": "code",
   "execution_count": 234,
   "id": "b035fcd2-4968-4bf6-94b9-2c93b6ff6e41",
   "metadata": {},
   "outputs": [
    {
     "name": "stdout",
     "output_type": "stream",
     "text": [
      "Misc\n"
     ]
    }
   ],
   "source": [
    "text = \"MiscTests\"\n",
    "print(text.removesuffix(\"Tests\")) "
   ]
  },
  {
   "cell_type": "code",
   "execution_count": null,
   "id": "9caeefb2-8381-4ed8-aa8d-23fc9d4f7870",
   "metadata": {},
   "outputs": [],
   "source": []
  }
 ],
 "metadata": {
  "kernelspec": {
   "display_name": "Python 3 (ipykernel)",
   "language": "python",
   "name": "python3"
  },
  "language_info": {
   "codemirror_mode": {
    "name": "ipython",
    "version": 3
   },
   "file_extension": ".py",
   "mimetype": "text/x-python",
   "name": "python",
   "nbconvert_exporter": "python",
   "pygments_lexer": "ipython3",
   "version": "3.12.7"
  }
 },
 "nbformat": 4,
 "nbformat_minor": 5
}
