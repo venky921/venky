{
 "cells": [
  {
   "cell_type": "markdown",
   "id": "f6772b55-b2b8-4703-9985-bb5b66f74de6",
   "metadata": {},
   "source": [
    "#### python inheritance:\n",
    " inheritance is a way creating a new class for using details of an exciting class without modifying it.\n",
    " The newly formed class is a derived class(or children class) and similarly exciting clas is a base class(parent class)"
   ]
  },
  {
   "cell_type": "code",
   "execution_count": 6,
   "id": "0b6cfec7-7a2b-4e2b-bfde-cb474f09014f",
   "metadata": {},
   "outputs": [],
   "source": [
    "class animal:\n",
    "    def eat(self):\n",
    "        print(\"i can eat\")\n",
    "    def sleep(self):\n",
    "        print(\"I can sleep\")\n",
    "class dog(animal):\n",
    "    def bark(self):\n",
    "        print(\"dog is bark..boow..boow\")\n",
    "              "
   ]
  },
  {
   "cell_type": "code",
   "execution_count": 18,
   "id": "ff9597e1-23eb-4949-a00c-5d0647744e03",
   "metadata": {},
   "outputs": [
    {
     "name": "stdout",
     "output_type": "stream",
     "text": [
      "i can eat\n",
      "I can sleep\n",
      "dog is bark..boow..boow\n"
     ]
    }
   ],
   "source": [
    "dog1=dog()\n",
    "dog1.eat()\n",
    "dog1.sleep()\n",
    "dog1.bark()"
   ]
  },
  {
   "cell_type": "code",
   "execution_count": 38,
   "id": "99ffb3be-0dd9-4ece-b014-491b25e3aa77",
   "metadata": {},
   "outputs": [],
   "source": [
    "class rohith:\n",
    "    def study(self):\n",
    "        print(\"sri ramachandra instituations\")\n",
    "    def coaching(self):\n",
    "        print(\"teks academy\")\n",
    "    def job(self):\n",
    "        print(\"Delloite\")\n",
    "class bike(rohith):\n",
    "    def model(self):\n",
    "        print(\"GT 650\")"
   ]
  },
  {
   "cell_type": "code",
   "execution_count": 40,
   "id": "56db3f76-bb2d-491c-bf6d-36860044db8b",
   "metadata": {},
   "outputs": [],
   "source": [
    "rohith1=bike()"
   ]
  },
  {
   "cell_type": "code",
   "execution_count": 42,
   "id": "2d82d7f6-93f9-4d66-b1f5-f5c96fe58be7",
   "metadata": {},
   "outputs": [
    {
     "name": "stdout",
     "output_type": "stream",
     "text": [
      "sri ramachandra instituations\n",
      "teks academy\n",
      "Delloite\n",
      "GT 650\n"
     ]
    }
   ],
   "source": [
    "rohith1.study()\n",
    "rohith1.coaching()\n",
    "rohith1.job()\n",
    "rohith1.model()"
   ]
  },
  {
   "cell_type": "code",
   "execution_count": 44,
   "id": "33cec357-be9e-42be-a91d-dd0371b7f40f",
   "metadata": {},
   "outputs": [],
   "source": [
    "class venky:\n",
    "    def bday(self):\n",
    "        print(\"Aug 27\")\n",
    "    def graduation(self):\n",
    "        print(\"degree\")\n",
    "    def group(self):\n",
    "        print(\"MPCs\")\n",
    "class thota(venky):\n",
    "    def present(self):\n",
    "        print(\"take coaching\")"
   ]
  },
  {
   "cell_type": "code",
   "execution_count": 48,
   "id": "70a1ec58-4ea4-4037-9e94-c2ee9d1abf85",
   "metadata": {},
   "outputs": [],
   "source": [
    "venky1=thota()"
   ]
  },
  {
   "cell_type": "code",
   "execution_count": 50,
   "id": "6f7ec967-5f7f-4fd3-8f71-9a31a483665b",
   "metadata": {},
   "outputs": [
    {
     "name": "stdout",
     "output_type": "stream",
     "text": [
      "Aug 27\n",
      "degree\n",
      "MPCs\n",
      "take coaching\n"
     ]
    }
   ],
   "source": [
    "venky1.bday()\n",
    "venky1.graduation()\n",
    "venky1.group()\n",
    "venky1.present()"
   ]
  },
  {
   "cell_type": "markdown",
   "id": "c70de686-ef5c-4ad4-acdc-152f6f10ca16",
   "metadata": {},
   "source": [
    "#### python encapsulation\n",
    " Encapsulation refers to the bulding of attributes and methods inside a single class  "
   ]
  },
  {
   "cell_type": "code",
   "execution_count": 53,
   "id": "32059db8-1853-455a-a60c-9972c5713545",
   "metadata": {},
   "outputs": [],
   "source": [
    "class demo:\n",
    "    def __init__(self,a,b):\n",
    "        self.__a=a\n",
    "        self._b=b\n",
    "    def output(self):\n",
    "        print(self.__a)\n",
    "class demo1(demo):\n",
    "    def input(self):\n",
    "        print(self._b)\n",
    "        \n"
   ]
  },
  {
   "cell_type": "code",
   "execution_count": 55,
   "id": "e92f44a6-5400-4a5f-935d-df9ef8c99c4b",
   "metadata": {},
   "outputs": [
    {
     "name": "stdout",
     "output_type": "stream",
     "text": [
      "5\n"
     ]
    }
   ],
   "source": [
    "h=demo(5,9)\n",
    "h.output()"
   ]
  },
  {
   "cell_type": "code",
   "execution_count": 71,
   "id": "80d523c7-2c21-4595-bb3b-a2afb29a672d",
   "metadata": {},
   "outputs": [
    {
     "name": "stdout",
     "output_type": "stream",
     "text": [
      "88\n"
     ]
    }
   ],
   "source": [
    "obj=demo1(66,88)\n",
    "obj.input()"
   ]
  },
  {
   "cell_type": "code",
   "execution_count": 73,
   "id": "37a06d12-540e-4184-8fcb-13a9f3c670fb",
   "metadata": {},
   "outputs": [],
   "source": [
    "class ravi:\n",
    "    def __init__(self,name,age):\n",
    "        self._name=name\n",
    "        self.__age=age\n",
    "    def a(self):\n",
    "        print(self.__age)\n",
    "class shankar(ravi):\n",
    "    def b(self):\n",
    "        print(self._name)\n",
    "        "
   ]
  },
  {
   "cell_type": "code",
   "execution_count": 77,
   "id": "889112b2-211e-4ae4-8c2c-7125d9172901",
   "metadata": {},
   "outputs": [
    {
     "name": "stdout",
     "output_type": "stream",
     "text": [
      "66\n"
     ]
    }
   ],
   "source": [
    "obj=ravi(\"ravi\",66)\n",
    "obj.a()"
   ]
  },
  {
   "cell_type": "code",
   "execution_count": 81,
   "id": "619826ec-a4d6-4f51-958e-f861c6801f9b",
   "metadata": {},
   "outputs": [
    {
     "name": "stdout",
     "output_type": "stream",
     "text": [
      "shankar\n"
     ]
    }
   ],
   "source": [
    "j=shankar(\"shankar\",22)\n",
    "j.b()"
   ]
  },
  {
   "cell_type": "code",
   "execution_count": 85,
   "id": "4d4221a4-9028-4bfe-b965-b12dcf32e8bc",
   "metadata": {},
   "outputs": [],
   "source": [
    "class bus:\n",
    "    def __init__(self,name,busnumber):\n",
    "        self._name=name\n",
    "        self.__busnumber=busnumber\n",
    "    def a(self):\n",
    "        print(self.__busnumber)\n",
    "class red(bus):\n",
    "    def b(self):\n",
    "        print(self._name)"
   ]
  },
  {
   "cell_type": "code",
   "execution_count": 89,
   "id": "5595c29d-bec9-4dda-8d00-18a2f3b3dac8",
   "metadata": {},
   "outputs": [
    {
     "name": "stdout",
     "output_type": "stream",
     "text": [
      "6543\n"
     ]
    }
   ],
   "source": [
    "h=bus(\"abhi\",6543)\n",
    "h.a()"
   ]
  },
  {
   "cell_type": "code",
   "execution_count": 91,
   "id": "9ae7452b-efee-429e-8bf0-0c8d5f2cc420",
   "metadata": {},
   "outputs": [
    {
     "name": "stdout",
     "output_type": "stream",
     "text": [
      "siri\n"
     ]
    }
   ],
   "source": [
    "j=red(\"siri\",9876)\n",
    "j.b()"
   ]
  },
  {
   "cell_type": "markdown",
   "id": "0e7bcc28-a47d-42a6-b881-1b9a57fb5ead",
   "metadata": {},
   "source": [
    "#### polymorphism\n",
    "Polymorphism is another simply means more than one form.That is the same entity can perform dofferent operations in different scenerios"
   ]
  },
  {
   "cell_type": "code",
   "execution_count": 170,
   "id": "5ac3b7c2-16db-4fba-9976-0b0d6b730c0e",
   "metadata": {},
   "outputs": [],
   "source": [
    "class rea:\n",
    "    \n",
    "    def add(self,a,b):\n",
    "        return a+b"
   ]
  },
  {
   "cell_type": "code",
   "execution_count": 174,
   "id": "03e6178b-2069-4bb2-85fb-f5e3a8d0c1ef",
   "metadata": {},
   "outputs": [
    {
     "name": "stdout",
     "output_type": "stream",
     "text": [
      "8\n",
      "ab\n",
      "66.7\n",
      "(9+7j)\n"
     ]
    }
   ],
   "source": [
    "ven=rea()\n",
    "print(ven.add(3,5))\n",
    "print(ven.add('a','b'))\n",
    "print(ven.add(44.4,22.3))\n",
    "print(ven.add(3+4j,6+3j))"
   ]
  },
  {
   "cell_type": "code",
   "execution_count": 176,
   "id": "89106dfc-0d72-42fa-99b9-e5d1069f1cf0",
   "metadata": {},
   "outputs": [],
   "source": [
    "class min:\n",
    "    def list(self,name,age):\n",
    "        return f'my name is {name} and age is {age}'\n",
    "        "
   ]
  },
  {
   "cell_type": "code",
   "execution_count": 180,
   "id": "7a598a7b-ba1c-41e4-a762-98652ad64a19",
   "metadata": {},
   "outputs": [
    {
     "name": "stdout",
     "output_type": "stream",
     "text": [
      "my name is ram and age is 33\n",
      "my name is venky and age is 22\n",
      "my name is ravu and age is 31\n",
      "my name is gani and age is 27\n"
     ]
    }
   ],
   "source": [
    "a=min()\n",
    "print(a.list(\"ram\",33))\n",
    "print(a.list(\"venky\",22))\n",
    "print(a.list(\"ravu\",31))\n",
    "print(a.list(\"gani\",27))"
   ]
  },
  {
   "cell_type": "code",
   "execution_count": 182,
   "id": "ad2681e2-0062-42cd-baea-c3f825e420d0",
   "metadata": {},
   "outputs": [],
   "source": [
    "class a:\n",
    "    def b(self,c,d):\n",
    "        return c*d"
   ]
  },
  {
   "cell_type": "code",
   "execution_count": 188,
   "id": "37b03d96-354d-4200-a60d-22c928c1b42e",
   "metadata": {},
   "outputs": [
    {
     "name": "stdout",
     "output_type": "stream",
     "text": [
      "1815\n",
      "0\n",
      "47.2\n",
      "4158\n"
     ]
    }
   ],
   "source": [
    "n=a()\n",
    "print(n.b(55,33))\n",
    "print(n.b(0,33))\n",
    "print(n.b(5.9,8))\n",
    "print(n.b(54,77))"
   ]
  },
  {
   "cell_type": "markdown",
   "id": "eea17ff6-d119-4461-8437-b6b4910633d0",
   "metadata": {},
   "source": [
    "#### Abstraction\n",
    "\n",
    "Abstraction is one of the core principles of Object-Oriented Programming (OOP). It refers to the concept of hiding the complex implementation details of an object and exposing only the necessary and relevant features. The goal of abstraction is to allow the user to interact with an object at a higher level, without needing to understand its inner workings."
   ]
  },
  {
   "cell_type": "code",
   "execution_count": 11,
   "id": "aa51ebfd-06a4-4f2b-8123-93aec13291bf",
   "metadata": {},
   "outputs": [],
   "source": [
    "class Animal:\n",
    "    def make_sound(self):\n",
    "        pass\n",
    "class Dog(Animal):\n",
    "    def make_sound(self):\n",
    "        print(\"Woof! Woof!\")\n",
    "class Cat(Animal):\n",
    "    def make_sound(self):\n",
    "        print(\"Meow! Meow!\")\n"
   ]
  },
  {
   "cell_type": "code",
   "execution_count": 15,
   "id": "0480b37b-c7a4-4c1a-bce9-508a2ed64441",
   "metadata": {},
   "outputs": [],
   "source": [
    "dog=Dog()\n",
    "cat=Cat()"
   ]
  },
  {
   "cell_type": "code",
   "execution_count": 17,
   "id": "4cc187de-af6c-42a4-973c-a415662e4290",
   "metadata": {},
   "outputs": [
    {
     "name": "stdout",
     "output_type": "stream",
     "text": [
      "Woof! Woof!\n",
      "Meow! Meow!\n"
     ]
    }
   ],
   "source": [
    "dog.make_sound()\n",
    "cat.make_sound()"
   ]
  },
  {
   "cell_type": "code",
   "execution_count": 1,
   "id": "217751ce-3614-452b-98cc-40c4f1cd02c8",
   "metadata": {},
   "outputs": [],
   "source": [
    "class car:\n",
    "    def price(self):\n",
    "        pass\n",
    "class xuv(car):\n",
    "    def price(self):\n",
    "        print('xuv price is 14L')\n",
    "class swift(car):\n",
    "    def price(self):\n",
    "        print('swift price is 10L')\n",
    "        "
   ]
  },
  {
   "cell_type": "code",
   "execution_count": 3,
   "id": "eec7f38f-7281-4482-8e85-8b8d3dc4c49b",
   "metadata": {},
   "outputs": [],
   "source": [
    "Xuv=xuv()\n",
    "Swift=swift()"
   ]
  },
  {
   "cell_type": "code",
   "execution_count": 5,
   "id": "cb82ad95-d3b0-4b53-b83c-299dd1d48dcf",
   "metadata": {},
   "outputs": [
    {
     "name": "stdout",
     "output_type": "stream",
     "text": [
      "xuv price is 14L\n",
      "swift price is 10L\n"
     ]
    }
   ],
   "source": [
    "Xuv.price()\n",
    "Swift.price()"
   ]
  },
  {
   "cell_type": "code",
   "execution_count": 11,
   "id": "17f2762c-6a30-47ad-80db-ec4556e51653",
   "metadata": {},
   "outputs": [],
   "source": [
    "class colour:\n",
    "    def fruits(self):\n",
    "        pass\n",
    "class apples(colour):\n",
    "    def fruits(self):\n",
    "        print('apples colour is red')\n",
    "class orange(colour):\n",
    "    def fruits(self):\n",
    "        print('orange colour is orange')\n",
    "class banana(colour):\n",
    "    def fruits(self):\n",
    "        print('banana colour is yellow')\n",
    "class mango(colour):\n",
    "    def fruits(self):\n",
    "        print('mango colour is yellow')        "
   ]
  },
  {
   "cell_type": "code",
   "execution_count": 13,
   "id": "1fa5691c-70d9-4a49-8b19-03485c5f9277",
   "metadata": {},
   "outputs": [],
   "source": [
    "Apples=apples()\n",
    "Orange=orange()\n",
    "Banana=banana()\n",
    "Mango=mango()"
   ]
  },
  {
   "cell_type": "code",
   "execution_count": 17,
   "id": "ca9fdee5-db1f-4984-b6fa-a39597477dcd",
   "metadata": {},
   "outputs": [
    {
     "name": "stdout",
     "output_type": "stream",
     "text": [
      "apples colour is red\n",
      "orange colour is orange\n",
      "banana colour is yellow\n",
      "mango colour is yellow\n"
     ]
    }
   ],
   "source": [
    "Apples.fruits()\n",
    "Orange.fruits()\n",
    "Banana.fruits()\n",
    "Mango.fruits()"
   ]
  },
  {
   "cell_type": "code",
   "execution_count": null,
   "id": "7e8b9ac5-02be-4b86-b6b5-aac13f9dc186",
   "metadata": {},
   "outputs": [],
   "source": []
  }
 ],
 "metadata": {
  "kernelspec": {
   "display_name": "Python 3 (ipykernel)",
   "language": "python",
   "name": "python3"
  },
  "language_info": {
   "codemirror_mode": {
    "name": "ipython",
    "version": 3
   },
   "file_extension": ".py",
   "mimetype": "text/x-python",
   "name": "python",
   "nbconvert_exporter": "python",
   "pygments_lexer": "ipython3",
   "version": "3.12.7"
  }
 },
 "nbformat": 4,
 "nbformat_minor": 5
}
