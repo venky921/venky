{
 "cells": [
  {
   "attachments": {},
   "cell_type": "markdown",
   "id": "40cc21a5-9a94-461b-b227-67c274127bc9",
   "metadata": {},
   "source": [
    "#### explain dictionary\n",
    "\n",
    "In Python, a dictionary is a built-in data type that allows you to store collections of data in the form of key-value pairs. The keys are unique and are used to access the corresponding values. Dictionaries are mutable, meaning you can change their content after creation.\n",
    "\n",
    "A dictionary is created using curly braces {}, with key-value pairs separated by a colon :."
   ]
  },
  {
   "cell_type": "code",
   "execution_count": 10,
   "id": "8d5b0754-6049-4e42-a808-4322fc1d837a",
   "metadata": {},
   "outputs": [],
   "source": [
    "#EXAMPLES\n",
    "a={'name':'venky','age':20,'location':'ap'}\n",
    "z={'a':'A','b':'B','c':'C','d':'D'}\n",
    "ram={'name':'ramesh','age':30}\n",
    "c={'subject':'eng','marks':99,'grade':'A+'}\n",
    "ab={'name':'rohith','company':'TCS','salary':100000}\n",
    "d={'type of update':'aadhar date of birth','proof':'10th marks memo original','duration':'15 days}\n",
    "raj={'name':'venky','Phn num':9347734261,'location':'hyd'}\n",
    "c={'a':'around','b':'boll','c':'cat','d':'dog'}\n",
    "venk={1:'apple',2:'banana',3:'orange'}\n",
    "bus={'bus name':'venky travels','starting point':'jrg','dropping point':'hyd','time duration':'8hrs','ticket price':1000}"
   ]
  },
  {
   "cell_type": "code",
   "execution_count": 7,
   "id": "a0d385b2-f81b-4b64-99e4-90f195ad6b39",
   "metadata": {},
   "outputs": [
    {
     "data": {
      "text/plain": [
       "'venky'"
      ]
     },
     "execution_count": 7,
     "metadata": {},
     "output_type": "execute_result"
    }
   ],
   "source": [
    "a['name']"
   ]
  },
  {
   "cell_type": "code",
   "execution_count": 9,
   "id": "ad27510a-2535-4ce7-9bb5-ac923363b36d",
   "metadata": {},
   "outputs": [
    {
     "data": {
      "text/plain": [
       "20"
      ]
     },
     "execution_count": 9,
     "metadata": {},
     "output_type": "execute_result"
    }
   ],
   "source": [
    "a['age']"
   ]
  },
  {
   "cell_type": "code",
   "execution_count": 11,
   "id": "ad0a97a3-d99d-4fa1-859a-4b7d4b812766",
   "metadata": {},
   "outputs": [
    {
     "data": {
      "text/plain": [
       "'ap'"
      ]
     },
     "execution_count": 11,
     "metadata": {},
     "output_type": "execute_result"
    }
   ],
   "source": [
    "a['location']"
   ]
  },
  {
   "cell_type": "code",
   "execution_count": 21,
   "id": "9b64bacc-3f09-40af-b649-b79cde010b85",
   "metadata": {},
   "outputs": [
    {
     "data": {
      "text/plain": [
       "'A'"
      ]
     },
     "execution_count": 21,
     "metadata": {},
     "output_type": "execute_result"
    }
   ],
   "source": [
    "z={'a':'A','b':'B','c':'C','d':'D'}\n",
    "z['a']"
   ]
  },
  {
   "cell_type": "code",
   "execution_count": 15,
   "id": "f5158211-2d8d-4cbc-892e-6ae31e24390b",
   "metadata": {},
   "outputs": [
    {
     "data": {
      "text/plain": [
       "'B'"
      ]
     },
     "execution_count": 15,
     "metadata": {},
     "output_type": "execute_result"
    }
   ],
   "source": [
    "z['b']"
   ]
  },
  {
   "cell_type": "code",
   "execution_count": 17,
   "id": "8913689d-7041-4c4d-849e-727fce2b4a5c",
   "metadata": {},
   "outputs": [
    {
     "data": {
      "text/plain": [
       "'C'"
      ]
     },
     "execution_count": 17,
     "metadata": {},
     "output_type": "execute_result"
    }
   ],
   "source": [
    "z['c']"
   ]
  },
  {
   "cell_type": "code",
   "execution_count": 19,
   "id": "af851012-62c6-48c4-9ca7-dec25c6f596e",
   "metadata": {},
   "outputs": [
    {
     "data": {
      "text/plain": [
       "'D'"
      ]
     },
     "execution_count": 19,
     "metadata": {},
     "output_type": "execute_result"
    }
   ],
   "source": [
    "z['d']"
   ]
  },
  {
   "cell_type": "code",
   "execution_count": 23,
   "id": "a78c7e3b-6367-4267-a6cc-03472b0601ca",
   "metadata": {},
   "outputs": [
    {
     "data": {
      "text/plain": [
       "'ramesh'"
      ]
     },
     "execution_count": 23,
     "metadata": {},
     "output_type": "execute_result"
    }
   ],
   "source": [
    "ram={'name':'ramesh','age':30}\n",
    "ram['name']"
   ]
  },
  {
   "cell_type": "code",
   "execution_count": 25,
   "id": "79662468-36d0-47d6-9c65-d45a9d58625a",
   "metadata": {},
   "outputs": [
    {
     "data": {
      "text/plain": [
       "30"
      ]
     },
     "execution_count": 25,
     "metadata": {},
     "output_type": "execute_result"
    }
   ],
   "source": [
    "ram['age']"
   ]
  },
  {
   "cell_type": "code",
   "execution_count": 27,
   "id": "c5c538a0-c2e9-4b08-b458-3c0ce0403fc3",
   "metadata": {},
   "outputs": [
    {
     "data": {
      "text/plain": [
       "'eng'"
      ]
     },
     "execution_count": 27,
     "metadata": {},
     "output_type": "execute_result"
    }
   ],
   "source": [
    "c={'subject':'eng','marks':99,'grade':'A+'}\n",
    "c['subject']"
   ]
  },
  {
   "cell_type": "code",
   "execution_count": 29,
   "id": "6b5e600a-b26e-4d94-a732-623f6847e5dd",
   "metadata": {},
   "outputs": [
    {
     "data": {
      "text/plain": [
       "99"
      ]
     },
     "execution_count": 29,
     "metadata": {},
     "output_type": "execute_result"
    }
   ],
   "source": [
    "c['marks']"
   ]
  },
  {
   "cell_type": "code",
   "execution_count": 31,
   "id": "281384d6-8809-469f-a599-af4d897badf4",
   "metadata": {},
   "outputs": [
    {
     "data": {
      "text/plain": [
       "'A+'"
      ]
     },
     "execution_count": 31,
     "metadata": {},
     "output_type": "execute_result"
    }
   ],
   "source": [
    "c['grade']"
   ]
  },
  {
   "cell_type": "code",
   "execution_count": 33,
   "id": "5270503b-3c84-4889-ac37-b22adc138d57",
   "metadata": {},
   "outputs": [
    {
     "data": {
      "text/plain": [
       "'rohith'"
      ]
     },
     "execution_count": 33,
     "metadata": {},
     "output_type": "execute_result"
    }
   ],
   "source": [
    "ab={'name':'rohith','company':'TCS','salary':100000}\n",
    "ab['name']"
   ]
  },
  {
   "cell_type": "code",
   "execution_count": 37,
   "id": "2c859fb0-d27a-4031-9012-e0bed208efdc",
   "metadata": {},
   "outputs": [
    {
     "data": {
      "text/plain": [
       "'TCS'"
      ]
     },
     "execution_count": 37,
     "metadata": {},
     "output_type": "execute_result"
    }
   ],
   "source": [
    "ab['company']"
   ]
  },
  {
   "cell_type": "code",
   "execution_count": 41,
   "id": "24843e14-f49f-4c76-b406-b4709a423963",
   "metadata": {},
   "outputs": [
    {
     "data": {
      "text/plain": [
       "100000"
      ]
     },
     "execution_count": 41,
     "metadata": {},
     "output_type": "execute_result"
    }
   ],
   "source": [
    "ab['salary']"
   ]
  },
  {
   "cell_type": "code",
   "execution_count": 43,
   "id": "259574ab-be81-49e0-a30b-56d369350084",
   "metadata": {},
   "outputs": [
    {
     "data": {
      "text/plain": [
       "'venky'"
      ]
     },
     "execution_count": 43,
     "metadata": {},
     "output_type": "execute_result"
    }
   ],
   "source": [
    "raj={'name':'venky','Phn num':9347734261,'location':'hyd'}\n",
    "raj['name']"
   ]
  },
  {
   "cell_type": "code",
   "execution_count": 49,
   "id": "ba1327fc-ab74-42b4-8eb4-b0d0ed56b7e2",
   "metadata": {},
   "outputs": [
    {
     "data": {
      "text/plain": [
       "9347734261"
      ]
     },
     "execution_count": 49,
     "metadata": {},
     "output_type": "execute_result"
    }
   ],
   "source": [
    "raj['Phn num']"
   ]
  },
  {
   "cell_type": "code",
   "execution_count": 53,
   "id": "c1ecdb69-e620-49ec-b38e-249cdcec2040",
   "metadata": {},
   "outputs": [
    {
     "data": {
      "text/plain": [
       "'hyd'"
      ]
     },
     "execution_count": 53,
     "metadata": {},
     "output_type": "execute_result"
    }
   ],
   "source": [
    "raj['location']"
   ]
  },
  {
   "cell_type": "code",
   "execution_count": 55,
   "id": "aad1f0c3-5595-497e-b50a-9179bd0430c7",
   "metadata": {},
   "outputs": [
    {
     "data": {
      "text/plain": [
       "'aadhar date of birth'"
      ]
     },
     "execution_count": 55,
     "metadata": {},
     "output_type": "execute_result"
    }
   ],
   "source": [
    "d={'type of update':'aadhar date of birth','proof':'10th marks memo original','duration':'15 days'}\n",
    "d['type of update']"
   ]
  },
  {
   "cell_type": "code",
   "execution_count": 57,
   "id": "786a397e-9ba2-41ef-a610-b7e3ac085002",
   "metadata": {},
   "outputs": [
    {
     "data": {
      "text/plain": [
       "'10th marks memo original'"
      ]
     },
     "execution_count": 57,
     "metadata": {},
     "output_type": "execute_result"
    }
   ],
   "source": [
    "d['proof']"
   ]
  },
  {
   "cell_type": "code",
   "execution_count": 59,
   "id": "a563181e-5ad8-480d-b951-46ace477e774",
   "metadata": {},
   "outputs": [
    {
     "data": {
      "text/plain": [
       "'15 days'"
      ]
     },
     "execution_count": 59,
     "metadata": {},
     "output_type": "execute_result"
    }
   ],
   "source": [
    "d['duration']"
   ]
  },
  {
   "cell_type": "code",
   "execution_count": 61,
   "id": "2810d386-22b6-4a75-b20b-c3f0d3a430e4",
   "metadata": {},
   "outputs": [
    {
     "data": {
      "text/plain": [
       "'around'"
      ]
     },
     "execution_count": 61,
     "metadata": {},
     "output_type": "execute_result"
    }
   ],
   "source": [
    "c={'a':'around','b':'boll','c':'cat','d':'dog'}\n",
    "c['a']"
   ]
  },
  {
   "cell_type": "code",
   "execution_count": 63,
   "id": "733e7644-78fa-443c-81f4-5c200fc79dcb",
   "metadata": {},
   "outputs": [
    {
     "data": {
      "text/plain": [
       "'boll'"
      ]
     },
     "execution_count": 63,
     "metadata": {},
     "output_type": "execute_result"
    }
   ],
   "source": [
    "c['b']"
   ]
  },
  {
   "cell_type": "code",
   "execution_count": 65,
   "id": "8346ff99-a47d-450d-aeb1-80cedacf6a46",
   "metadata": {},
   "outputs": [
    {
     "data": {
      "text/plain": [
       "'cat'"
      ]
     },
     "execution_count": 65,
     "metadata": {},
     "output_type": "execute_result"
    }
   ],
   "source": [
    "c['c']"
   ]
  },
  {
   "cell_type": "code",
   "execution_count": 67,
   "id": "aeef564e-c9ee-4c06-829d-56cc72a47a22",
   "metadata": {},
   "outputs": [
    {
     "data": {
      "text/plain": [
       "'dog'"
      ]
     },
     "execution_count": 67,
     "metadata": {},
     "output_type": "execute_result"
    }
   ],
   "source": [
    "c['d']"
   ]
  },
  {
   "cell_type": "code",
   "execution_count": 69,
   "id": "d974693e-edd0-46e7-9ef1-03a731061ed9",
   "metadata": {},
   "outputs": [
    {
     "data": {
      "text/plain": [
       "'apple'"
      ]
     },
     "execution_count": 69,
     "metadata": {},
     "output_type": "execute_result"
    }
   ],
   "source": [
    "venk={1:'apple',2:'banana',3:'orange'}\n",
    "venk[1]"
   ]
  },
  {
   "cell_type": "code",
   "execution_count": 71,
   "id": "9ce84c23-369f-47ab-947c-0705f5fd5af4",
   "metadata": {},
   "outputs": [
    {
     "data": {
      "text/plain": [
       "'banana'"
      ]
     },
     "execution_count": 71,
     "metadata": {},
     "output_type": "execute_result"
    }
   ],
   "source": [
    "venk[2]"
   ]
  },
  {
   "cell_type": "code",
   "execution_count": 73,
   "id": "a2fc6022-622b-4fb6-98bd-7f8511fa5fdd",
   "metadata": {},
   "outputs": [
    {
     "data": {
      "text/plain": [
       "'orange'"
      ]
     },
     "execution_count": 73,
     "metadata": {},
     "output_type": "execute_result"
    }
   ],
   "source": [
    "venk[3]"
   ]
  },
  {
   "cell_type": "code",
   "execution_count": 95,
   "id": "89db0685-4cf8-419e-987e-7542ccd1d0fc",
   "metadata": {},
   "outputs": [
    {
     "data": {
      "text/plain": [
       "'venky travels'"
      ]
     },
     "execution_count": 95,
     "metadata": {},
     "output_type": "execute_result"
    }
   ],
   "source": [
    "bus={'bus name':'venky travels','starting point':'jrg','dropping point':'hyd','time duration':'8hrs','ticket price':1000}\n",
    "bus['bus name']"
   ]
  },
  {
   "cell_type": "code",
   "execution_count": 97,
   "id": "3def5b8a-f9f1-4d32-9948-f320cab17845",
   "metadata": {},
   "outputs": [
    {
     "data": {
      "text/plain": [
       "'jrg'"
      ]
     },
     "execution_count": 97,
     "metadata": {},
     "output_type": "execute_result"
    }
   ],
   "source": [
    "bus['starting point']"
   ]
  },
  {
   "cell_type": "code",
   "execution_count": 99,
   "id": "9bc3875d-dfbb-4168-84c2-0eb1509100ba",
   "metadata": {},
   "outputs": [
    {
     "data": {
      "text/plain": [
       "'hyd'"
      ]
     },
     "execution_count": 99,
     "metadata": {},
     "output_type": "execute_result"
    }
   ],
   "source": [
    "bus['dropping point']"
   ]
  },
  {
   "cell_type": "code",
   "execution_count": 101,
   "id": "bf930b9f-85bb-4179-9068-9a9604e74ba9",
   "metadata": {},
   "outputs": [
    {
     "data": {
      "text/plain": [
       "'8hrs'"
      ]
     },
     "execution_count": 101,
     "metadata": {},
     "output_type": "execute_result"
    }
   ],
   "source": [
    "bus['time duration']"
   ]
  },
  {
   "cell_type": "code",
   "execution_count": 111,
   "id": "09dabb79-0039-45c9-a1c7-b468de254fa5",
   "metadata": {},
   "outputs": [
    {
     "data": {
      "text/plain": [
       "1000"
      ]
     },
     "execution_count": 111,
     "metadata": {},
     "output_type": "execute_result"
    }
   ],
   "source": [
    "bus['ticket price']"
   ]
  },
  {
   "cell_type": "markdown",
   "id": "23bd373d-51fc-4fd9-a2ed-55c3060bfeea",
   "metadata": {},
   "source": [
    "#### dictionary methods"
   ]
  },
  {
   "cell_type": "code",
   "execution_count": 105,
   "id": "9769e909-c96d-4c60-98c6-0e2586430ad6",
   "metadata": {},
   "outputs": [
    {
     "data": {
      "text/plain": [
       "'rohith'"
      ]
     },
     "execution_count": 105,
     "metadata": {},
     "output_type": "execute_result"
    }
   ],
   "source": [
    "#get()method\n",
    "ab={'name':'rohith','company':'TCS','salary':100000}\n",
    "ab.get('name')"
   ]
  },
  {
   "cell_type": "code",
   "execution_count": 107,
   "id": "fca4c482-961e-4284-9b42-3efbaedf6707",
   "metadata": {},
   "outputs": [
    {
     "data": {
      "text/plain": [
       "'not found'"
      ]
     },
     "execution_count": 107,
     "metadata": {},
     "output_type": "execute_result"
    }
   ],
   "source": [
    "ab.get('Name','not found')"
   ]
  },
  {
   "cell_type": "code",
   "execution_count": 109,
   "id": "7b2e8043-b8d8-48f6-ba7e-a10a9c7fa994",
   "metadata": {},
   "outputs": [
    {
     "data": {
      "text/plain": [
       "'TCS'"
      ]
     },
     "execution_count": 109,
     "metadata": {},
     "output_type": "execute_result"
    }
   ],
   "source": [
    "ab.get('company')"
   ]
  },
  {
   "cell_type": "code",
   "execution_count": 114,
   "id": "8b4c329d-951a-451b-bd6c-68483fd5fc33",
   "metadata": {},
   "outputs": [
    {
     "data": {
      "text/plain": [
       "dict_keys(['a', 'b', 'c', 'd'])"
      ]
     },
     "execution_count": 114,
     "metadata": {},
     "output_type": "execute_result"
    }
   ],
   "source": [
    "#keys()method\n",
    "z={'a':'A','b':'B','c':'C','d':'D'}\n",
    "z.keys()"
   ]
  },
  {
   "cell_type": "code",
   "execution_count": 116,
   "id": "9965c52d-c48b-43d5-9cef-a2b77b525f25",
   "metadata": {},
   "outputs": [
    {
     "data": {
      "text/plain": [
       "dict_keys(['name', 'age', 'location'])"
      ]
     },
     "execution_count": 116,
     "metadata": {},
     "output_type": "execute_result"
    }
   ],
   "source": [
    "a={'name':'venky','age':20,'location':'ap'}\n",
    "a.keys()"
   ]
  },
  {
   "cell_type": "code",
   "execution_count": 118,
   "id": "1215ad67-3106-4e98-8a8c-951bce986b4f",
   "metadata": {},
   "outputs": [
    {
     "data": {
      "text/plain": [
       "dict_values(['venky', 20, 'ap'])"
      ]
     },
     "execution_count": 118,
     "metadata": {},
     "output_type": "execute_result"
    }
   ],
   "source": [
    "#values\n",
    "a={'name':'venky','age':20,'location':'ap'}\n",
    "a.values()"
   ]
  },
  {
   "cell_type": "code",
   "execution_count": 120,
   "id": "0e8f6b97-2621-4f27-b350-bfb44bba0c17",
   "metadata": {},
   "outputs": [
    {
     "data": {
      "text/plain": [
       "dict_values(['A', 'B', 'C', 'D'])"
      ]
     },
     "execution_count": 120,
     "metadata": {},
     "output_type": "execute_result"
    }
   ],
   "source": [
    "z={'a':'A','b':'B','c':'C','d':'D'}\n",
    "z.values()"
   ]
  },
  {
   "cell_type": "code",
   "execution_count": 122,
   "id": "874a247f-0cbe-419e-b25e-30ca3493bd55",
   "metadata": {},
   "outputs": [
    {
     "data": {
      "text/plain": [
       "dict_items([('name', 'venky'), ('Phn num', 9347734261), ('location', 'hyd')])"
      ]
     },
     "execution_count": 122,
     "metadata": {},
     "output_type": "execute_result"
    }
   ],
   "source": [
    "#items*()method\n",
    "raj={'name':'venky','Phn num':9347734261,'location':'hyd'}\n",
    "raj.items()"
   ]
  },
  {
   "cell_type": "code",
   "execution_count": 124,
   "id": "f5a9c260-83ea-4fcd-8efc-0563858fc2f9",
   "metadata": {},
   "outputs": [
    {
     "data": {
      "text/plain": [
       "dict_items([('a', 'A'), ('b', 'B'), ('c', 'C'), ('d', 'D')])"
      ]
     },
     "execution_count": 124,
     "metadata": {},
     "output_type": "execute_result"
    }
   ],
   "source": [
    "z={'a':'A','b':'B','c':'C','d':'D'}\n",
    "z.items()"
   ]
  },
  {
   "cell_type": "code",
   "execution_count": 130,
   "id": "027d32f8-0151-4a50-b001-067aed62b435",
   "metadata": {},
   "outputs": [
    {
     "data": {
      "text/plain": [
       "{'name': 'ramesh', 'age': 30, 'location': 'ap'}"
      ]
     },
     "execution_count": 130,
     "metadata": {},
     "output_type": "execute_result"
    }
   ],
   "source": [
    "#update()method\n",
    "a={'name':'venky','age':20,'location':'ap'}\n",
    "ram={'name':'ramesh','age':30}\n",
    "a.update(ram)\n",
    "a"
   ]
  },
  {
   "cell_type": "code",
   "execution_count": 132,
   "id": "4d747371-a76a-40c9-a6b2-761517f84700",
   "metadata": {},
   "outputs": [
    {
     "data": {
      "text/plain": [
       "{'a': 'around', 'b': 'boll', 'c': 'cat', 'd': 'dog'}"
      ]
     },
     "execution_count": 132,
     "metadata": {},
     "output_type": "execute_result"
    }
   ],
   "source": [
    "z={'a':'A','b':'B','c':'C','d':'D'}\n",
    "c={'a':'around','b':'boll','c':'cat','d':'dog'}\n",
    "z.update(c)\n",
    "z"
   ]
  },
  {
   "cell_type": "code",
   "execution_count": 146,
   "id": "e4b66d6e-7371-4417-8075-5ad0dc94c908",
   "metadata": {},
   "outputs": [
    {
     "data": {
      "text/plain": [
       "'around'"
      ]
     },
     "execution_count": 146,
     "metadata": {},
     "output_type": "execute_result"
    }
   ],
   "source": [
    "#pop() method\n",
    "c={'a':'around','b':'boll','c':'cat','d':'dog'}\n",
    "c.pop('a')"
   ]
  },
  {
   "cell_type": "code",
   "execution_count": 148,
   "id": "0c222ea3-f4ba-4ff9-893d-128b8f72564c",
   "metadata": {},
   "outputs": [
    {
     "data": {
      "text/plain": [
       "{'b': 'boll', 'c': 'cat', 'd': 'dog'}"
      ]
     },
     "execution_count": 148,
     "metadata": {},
     "output_type": "execute_result"
    }
   ],
   "source": [
    "c"
   ]
  },
  {
   "cell_type": "code",
   "execution_count": 144,
   "id": "88697f8a-f84b-4b75-8076-a5d31ec2d593",
   "metadata": {},
   "outputs": [
    {
     "data": {
      "text/plain": [
       "{'c': 'cat', 'd': 'dog'}"
      ]
     },
     "execution_count": 144,
     "metadata": {},
     "output_type": "execute_result"
    }
   ],
   "source": [
    "c.pop('b')\n",
    "c"
   ]
  },
  {
   "cell_type": "code",
   "execution_count": 152,
   "id": "26e8f86a-4e54-4c96-a589-28558b1b8bbd",
   "metadata": {},
   "outputs": [
    {
     "data": {
      "text/plain": [
       "'ap'"
      ]
     },
     "execution_count": 152,
     "metadata": {},
     "output_type": "execute_result"
    }
   ],
   "source": [
    "a={'name':'venky','age':20,'location':'ap'}\n",
    "a.pop('location')"
   ]
  },
  {
   "cell_type": "code",
   "execution_count": 154,
   "id": "2dece7f7-4d23-4709-b60d-3a83ac52feb9",
   "metadata": {},
   "outputs": [
    {
     "data": {
      "text/plain": [
       "{'name': 'venky', 'age': 20}"
      ]
     },
     "execution_count": 154,
     "metadata": {},
     "output_type": "execute_result"
    }
   ],
   "source": [
    "a"
   ]
  },
  {
   "cell_type": "code",
   "execution_count": 158,
   "id": "1a5f7625-c743-432e-be8a-f09a46b41755",
   "metadata": {},
   "outputs": [
    {
     "data": {
      "text/plain": [
       "20"
      ]
     },
     "execution_count": 158,
     "metadata": {},
     "output_type": "execute_result"
    }
   ],
   "source": [
    "a.pop('age')"
   ]
  },
  {
   "cell_type": "code",
   "execution_count": 160,
   "id": "c791ef5a-a181-4ddc-b8c5-99343c726864",
   "metadata": {},
   "outputs": [
    {
     "data": {
      "text/plain": [
       "{'name': 'venky'}"
      ]
     },
     "execution_count": 160,
     "metadata": {},
     "output_type": "execute_result"
    }
   ],
   "source": [
    "a"
   ]
  },
  {
   "cell_type": "code",
   "execution_count": 168,
   "id": "c56104e1-97a1-440f-b8b9-476792363c9a",
   "metadata": {},
   "outputs": [
    {
     "data": {
      "text/plain": [
       "('d', 'D')"
      ]
     },
     "execution_count": 168,
     "metadata": {},
     "output_type": "execute_result"
    }
   ],
   "source": [
    "z={'a':'A','b':'B','c':'C','d':'D'}\n",
    "z.popitem()"
   ]
  },
  {
   "cell_type": "code",
   "execution_count": 170,
   "id": "2d21acc4-2911-4482-bd51-c84f973fae9e",
   "metadata": {},
   "outputs": [
    {
     "data": {
      "text/plain": [
       "{'a': 'A', 'b': 'B', 'c': 'C'}"
      ]
     },
     "execution_count": 170,
     "metadata": {},
     "output_type": "execute_result"
    }
   ],
   "source": [
    "z"
   ]
  },
  {
   "cell_type": "code",
   "execution_count": 172,
   "id": "e3080cf4-4023-4061-a003-34706a92898d",
   "metadata": {},
   "outputs": [
    {
     "data": {
      "text/plain": [
       "('location', 'hyd')"
      ]
     },
     "execution_count": 172,
     "metadata": {},
     "output_type": "execute_result"
    }
   ],
   "source": [
    "raj={'name':'venky','Phn num':9347734261,'location':'hyd'}\n",
    "raj.popitem()"
   ]
  },
  {
   "cell_type": "code",
   "execution_count": 174,
   "id": "3eeb9a11-33dc-45df-9e2c-3f1fa4933385",
   "metadata": {},
   "outputs": [
    {
     "data": {
      "text/plain": [
       "{'name': 'venky', 'Phn num': 9347734261}"
      ]
     },
     "execution_count": 174,
     "metadata": {},
     "output_type": "execute_result"
    }
   ],
   "source": [
    "raj"
   ]
  },
  {
   "cell_type": "code",
   "execution_count": 188,
   "id": "730a45c3-f7e5-4802-82fa-c0b92650d60d",
   "metadata": {},
   "outputs": [
    {
     "data": {
      "text/plain": [
       "{}"
      ]
     },
     "execution_count": 188,
     "metadata": {},
     "output_type": "execute_result"
    }
   ],
   "source": [
    "#clear()method\n",
    "ab={'name':'rohith','company':'TCS','salary':100000}\n",
    "ab.clear()\n",
    "ab"
   ]
  },
  {
   "cell_type": "code",
   "execution_count": 190,
   "id": "96d36f01-97fd-4a31-83c1-6e44e74e3a5b",
   "metadata": {},
   "outputs": [
    {
     "data": {
      "text/plain": [
       "{}"
      ]
     },
     "execution_count": 190,
     "metadata": {},
     "output_type": "execute_result"
    }
   ],
   "source": [
    "venk={1:'apple',2:'banana',3:'orange'}\n",
    "venk.clear()\n",
    "venk"
   ]
  },
  {
   "cell_type": "code",
   "execution_count": null,
   "id": "c54a3fe4-e69f-448e-88a6-ca994ee508d8",
   "metadata": {},
   "outputs": [],
   "source": []
  }
 ],
 "metadata": {
  "kernelspec": {
   "display_name": "Python 3 (ipykernel)",
   "language": "python",
   "name": "python3"
  },
  "language_info": {
   "codemirror_mode": {
    "name": "ipython",
    "version": 3
   },
   "file_extension": ".py",
   "mimetype": "text/x-python",
   "name": "python",
   "nbconvert_exporter": "python",
   "pygments_lexer": "ipython3",
   "version": "3.12.7"
  }
 },
 "nbformat": 4,
 "nbformat_minor": 5
}
