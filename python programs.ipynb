{
 "cells": [
  {
   "cell_type": "markdown",
   "id": "17f449f5-6a00-451e-9366-2a4004b582c3",
   "metadata": {},
   "source": [
    "name of a restuarent is ram we are serving 5 veg items and 5non veg items.you order is veg item name please wait for 5 ,minutes we are not providing this order"
   ]
  },
  {
   "cell_type": "code",
   "execution_count": 10,
   "id": "79a06422-563d-4c81-a3bf-c8a7c3220811",
   "metadata": {},
   "outputs": [
    {
     "name": "stdout",
     "output_type": "stream",
     "text": [
      "you order is non veg chicken biryani please wait 5 minutes\n"
     ]
    }
   ],
   "source": [
    "order=\"chicken biryani\"\n",
    "veg =[\"panner biryani\",\"mushrooms biryani\",\"white rice\",\"curd rice\",\"pappu\"]\n",
    "nonveg =[\"chicken biryani\",\"mutton biryani\",\"egg biryani\",\"fish biryani\",\"prawns biryani\"]\n",
    "if order in veg:\n",
    "    print(f'you order is veg {order}',\"please wait 5 minutes\")\n",
    "elif order in nonveg:\n",
    "    print(f'you order is non veg {order}',\"please wait 5 minutes\")\n",
    "else:\n",
    "    print(\"we are not providing\")"
   ]
  },
  {
   "cell_type": "markdown",
   "id": "202b7338-4eab-4c0b-afdd-e2331879f59f",
   "metadata": {},
   "source": [
    "1.find the largest number among 3\n",
    "\n",
    "2.write a python program to check whether year is leap or not\n",
    "\n",
    "3.write a python program for grading system more than 90 marks consider a,greater than 80 b, less than 50 fail"
   ]
  },
  {
   "cell_type": "code",
   "execution_count": 14,
   "id": "4afc8c31-90b6-42a9-a2de-7db2dc92bc6c",
   "metadata": {},
   "outputs": [
    {
     "name": "stdout",
     "output_type": "stream",
     "text": [
      "b is a largest number\n"
     ]
    }
   ],
   "source": [
    "#1.find the largest number among 3\n",
    "a=333\n",
    "b=999\n",
    "c=666\n",
    "if a>b and a>c:\n",
    "    print('a is a largest number')\n",
    "elif b>a and b>c:\n",
    "    print('b is a largest number')\n",
    "else:\n",
    "    print('c is a largest number')"
   ]
  },
  {
   "cell_type": "code",
   "execution_count": 38,
   "id": "64d45d00-329d-4d34-982f-43f4d6a0ffa4",
   "metadata": {},
   "outputs": [
    {
     "name": "stdout",
     "output_type": "stream",
     "text": [
      "it is a leap year\n"
     ]
    }
   ],
   "source": [
    "#2.write a python program to check whether year is leap or not\n",
    "year=2024\n",
    "if year%4==0 and year%100!=0:\n",
    "  print('it is a leap year')\n",
    "else:\n",
    "  print('it is a not leap year')\n"
   ]
  },
  {
   "cell_type": "code",
   "execution_count": 63,
   "id": "75ed7469-f371-4283-b308-ea261af9a38c",
   "metadata": {},
   "outputs": [
    {
     "name": "stdout",
     "output_type": "stream",
     "text": [
      "c grade\n"
     ]
    }
   ],
   "source": [
    "#3.write a python program for grading system more than 90 marks consider a,greater than 80 b, less than 50 fail\n",
    "marks=77\n",
    "if marks>90:\n",
    "    print('a grade')\n",
    "elif marks>80:\n",
    "     print('b grade')\n",
    "elif marks>70:\n",
    "     print('c grade')\n",
    "elif marks>50:\n",
    "     print('d grade')\n",
    "else:\n",
    "     print('fail')"
   ]
  },
  {
   "cell_type": "code",
   "execution_count": 14,
   "id": "3f4cf3ea-5e06-4d4b-8836-ee63d4f21da8",
   "metadata": {},
   "outputs": [
    {
     "name": "stdout",
     "output_type": "stream",
     "text": [
      "56 d grade\n",
      "23 fail\n",
      "45 fail\n",
      "76 c grade\n"
     ]
    }
   ],
   "source": [
    "marks=[56,23,45,76]\n",
    "for grade in marks:\n",
    "    if grade>90:\n",
    "        print(grade,'a grade')\n",
    "    elif grade>80:\n",
    "        print(grade,'b grade')\n",
    "    elif grade>70:\n",
    "        print(grade,'c grade')\n",
    "    elif grade>50:\n",
    "        print(grade,'d grade')\n",
    "    else:\n",
    "        print(grade,'fail')"
   ]
  },
  {
   "cell_type": "code",
   "execution_count": 23,
   "id": "8f8f8365-b079-4d2f-b2ec-78494f444a87",
   "metadata": {},
   "outputs": [
    {
     "name": "stdout",
     "output_type": "stream",
     "text": [
      "[333, 999, 666] b is a largest number\n",
      "[333, 999, 666] b is a largest number\n",
      "[333, 999, 666] b is a largest number\n"
     ]
    }
   ],
   "source": [
    "a = 333\n",
    "b = 999\n",
    "c = 666\n",
    "numbers = [a, b, c]\n",
    "for z in numbers:\n",
    "   if a>b and a>c:\n",
    "      print('a is a largest number')\n",
    "   elif b>a and b>c:\n",
    "      print('b is a largest number')\n",
    "   else:\n",
    "      print('c is a largest number')\n"
   ]
  },
  {
   "cell_type": "code",
   "execution_count": 61,
   "id": "784ec077-3dc5-41f3-a8e1-644c18d4c47c",
   "metadata": {},
   "outputs": [
    {
     "name": "stdout",
     "output_type": "stream",
     "text": [
      "2024 it is a leap year\n"
     ]
    }
   ],
   "source": [
    "for year in range(2024, 2025):\n",
    "    if year%4==0 and year%100!=0:\n",
    "       print(f'{year} it is a leap year')\n",
    "    else:\n",
    "       print(f'{year} it is a not leap year')\n"
   ]
  }
 ],
 "metadata": {
  "kernelspec": {
   "display_name": "Python 3 (ipykernel)",
   "language": "python",
   "name": "python3"
  },
  "language_info": {
   "codemirror_mode": {
    "name": "ipython",
    "version": 3
   },
   "file_extension": ".py",
   "mimetype": "text/x-python",
   "name": "python",
   "nbconvert_exporter": "python",
   "pygments_lexer": "ipython3",
   "version": "3.12.7"
  }
 },
 "nbformat": 4,
 "nbformat_minor": 5
}
