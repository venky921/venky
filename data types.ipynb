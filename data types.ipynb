{
 "cells": [
  {
   "cell_type": "markdown",
   "id": "0c6635b9-3a20-4be6-998f-16f7608c2b16",
   "metadata": {},
   "source": [
    "#### explain about integer"
   ]
  },
  {
   "cell_type": "markdown",
   "id": "ed1d1bf7-ce1c-4947-9529-463e8400b1ff",
   "metadata": {},
   "source": [
    "An integer is a whole number that can be either positive, negative, or zero. Integers do not have any fractional or decimal parts. They are part of the number system that includes both the natural numbers (positive whole numbers) and their opposites (negative whole numbers), as well as zero.\n",
    "\n",
    "Here’s a more detailed explanation of integers:\n",
    "\n",
    "Types of Integers\n",
    "- Positive integers: These are whole numbers greater than zero. Examples: 1, 2, 3, 4, ...\n",
    "- Negative integers: These are whole numbers less than zero. Examples: -1, -2, -3, -4, ...\n",
    "- Zero (0): Zero is considered an integer, but it is neither positive nor negative.\n",
    "\n",
    "EXAMPLES: a=7,b=-8,t=2,j=333,uuh=33,jh=22,g=76,s=76,jk=87,vb=878787878,fgjh=677887875875856586"
   ]
  },
  {
   "cell_type": "markdown",
   "id": "6fcf212b-c52b-4f70-beaa-f14d4f93db5b",
   "metadata": {},
   "source": [
    "#### explain about float"
   ]
  },
  {
   "cell_type": "markdown",
   "id": "3dd469f9-e902-4b45-9055-7dcd9e7ffbdd",
   "metadata": {},
   "source": [
    "A float (short for \"floating-point number\") is a data type used in mathematics and computer programming to represent numbers that require a fractional component. Unlike integers, which are whole numbers, floats can represent real numbers, including those with decimals.\n",
    "\n",
    "Characteristics of Floats:\n",
    "Decimal Representation: Floats can have a decimal point, allowing them to express numbers like 3.14, 0.001, or -7.5.\n",
    "\n",
    "Example: 3.14, -0.99, 100.0\n",
    "Precision: Floats have limited precision, which means that some decimal numbers cannot be represented exactly in binary form. This can lead to rounding errors in calculations.\n",
    "\n",
    "Example: The value of 1/3 can't be represented exactly as a float, so it might be approximated to something like 0.3333333.\n",
    "Scientific Notation: Floats can also be written in scientific notation, which is useful for representing very large or very small numbers.\n",
    "\n",
    "Example: 1.23 × 10^5 is written as 1.23e5 or 1.23E5 in many programming languages.\n",
    "Range: Floats can represent a wide range of values, both very large and very small, but their precision is limited. In computer systems, this range and precision are governed by the floating-point standard (like IEEE 754).\n",
    "EXAMPLES: gh=79.0,h=90.6,f=-09.67,jk=89.87887,asd=9889.8,l=889.99,ravi=9.22,hag=78.78,rom,=79.11,rd=78.111111"
   ]
  },
  {
   "cell_type": "markdown",
   "id": "8c0c53d0-f0e3-406e-b8c7-2478bb407bfc",
   "metadata": {},
   "source": [
    "#### explain about complex"
   ]
  },
  {
   "cell_type": "markdown",
   "id": "9a145cdc-b254-4540-97ab-4996396fb6dd",
   "metadata": {},
   "source": [
    "A complex number is a number that consists of two parts: a real part and an imaginary part. It is an extension of the real number system, and it allows for the representation of numbers that cannot be expressed solely by real numbers.\n",
    "\n",
    "Structure of a Complex Number:\n",
    "A complex number is generally written as:\n",
    " complex=a+bj\n",
    " Where:\n",
    "a is the real part of the complex number.\n",
    "b is the imaginary part of the complex number.\n",
    "j is the imaginary unit\n",
    "EXAMPLES:hb=6+8j,bkj=90+8j,hf=90+9.0j,hn=89+88j,bnm=9+87777j,dfg=888+8.99j,cv=89+8.08j,gtr=78+0j,aqw=4569+656567j,asdfghj=34567+4567j"
   ]
  },
  {
   "cell_type": "markdown",
   "id": "68dc69c4-2181-41f4-a7ac-ee4b0a2222a8",
   "metadata": {},
   "source": [
    "#### explain about boolean"
   ]
  },
  {
   "cell_type": "markdown",
   "id": "07c33817-f59d-4d87-99de-53948db03d19",
   "metadata": {},
   "source": [
    "A Boolean is a data type that represents one of two possible values: true or false. It is named after the mathematician George Boole, who developed Boolean algebra, which is fundamental to computer science, logic, and digital circuit design.\n",
    "\n",
    "Key Points about Boolean:\n",
    "Two Possible Values:\n",
    "True: Represents a condition or statement that is correct or valid.\n",
    "False: Represents a condition or statement that is incorrect or invalid.\n",
    "In many programming languages, the Boolean data type is represented as:\n",
    "\n",
    "true and false in languages like Java, JavaScript, Python, and C++.\n",
    "1 (true) and 0 (false) in languages like C, C++, and Assembly."
   ]
  },
  {
   "cell_type": "markdown",
   "id": "51632857-6117-43ea-a2f2-9f7a2f989cb3",
   "metadata": {},
   "source": [
    "#### type conversion int to float"
   ]
  },
  {
   "cell_type": "code",
   "execution_count": 7,
   "id": "e1fff8de-50b4-41ae-a71b-e0a70be86e23",
   "metadata": {},
   "outputs": [
    {
     "name": "stdout",
     "output_type": "stream",
     "text": [
      "<class 'int'>\n",
      "<class 'float'>\n",
      "90.0\n"
     ]
    }
   ],
   "source": [
    "a=90\n",
    "print(type(a))\n",
    "b=float(a)\n",
    "print(type(b))\n",
    "print(b)"
   ]
  },
  {
   "cell_type": "code",
   "execution_count": 9,
   "id": "a86b5143-b55e-42d9-b95f-04c9ec46a8d3",
   "metadata": {},
   "outputs": [
    {
     "name": "stdout",
     "output_type": "stream",
     "text": [
      "<class 'int'>\n",
      "<class 'float'>\n",
      "87.0\n"
     ]
    }
   ],
   "source": [
    "ravi=87\n",
    "print(type(ravi))\n",
    "v=float(ravi)\n",
    "print(type(v))\n",
    "print(v)"
   ]
  },
  {
   "cell_type": "code",
   "execution_count": 11,
   "id": "6b81f161-df86-4191-b9a8-a811516423cf",
   "metadata": {},
   "outputs": [
    {
     "name": "stdout",
     "output_type": "stream",
     "text": [
      "<class 'int'>\n",
      "<class 'float'>\n",
      "6.0\n"
     ]
    }
   ],
   "source": [
    "d=6\n",
    "print(type(d))\n",
    "l=float(d)\n",
    "print(type(l))\n",
    "print(l)"
   ]
  },
  {
   "cell_type": "code",
   "execution_count": 15,
   "id": "37ffe765-d57a-4eab-b911-94b7b97ca3c4",
   "metadata": {},
   "outputs": [
    {
     "name": "stdout",
     "output_type": "stream",
     "text": [
      "<class 'int'>\n",
      "<class 'float'>\n",
      "24354.0\n"
     ]
    }
   ],
   "source": [
    "s=24354\n",
    "print(type(s))\n",
    "k=float(s)\n",
    "print(type(k))\n",
    "print(k)"
   ]
  },
  {
   "cell_type": "code",
   "execution_count": 19,
   "id": "00a8c5fa-ade3-40f5-bfe2-04c81ad741bc",
   "metadata": {},
   "outputs": [
    {
     "name": "stdout",
     "output_type": "stream",
     "text": [
      "<class 'int'>\n",
      "<class 'float'>\n",
      "12345678.0\n"
     ]
    }
   ],
   "source": [
    "z=12345678\n",
    "print(type(z))\n",
    "q=float(z)\n",
    "print(type(q))\n",
    "print(q)"
   ]
  },
  {
   "cell_type": "markdown",
   "id": "108051ba-0762-41d8-ad6c-9dc5ddf827d9",
   "metadata": {},
   "source": [
    "#### type conversions float to int"
   ]
  },
  {
   "cell_type": "code",
   "execution_count": 22,
   "id": "4638e5bd-3639-4a89-a87b-508e54ad895e",
   "metadata": {},
   "outputs": [
    {
     "name": "stdout",
     "output_type": "stream",
     "text": [
      "<class 'float'>\n",
      "<class 'int'>\n",
      "2\n"
     ]
    }
   ],
   "source": [
    "a=2.22\n",
    "print(type(a))\n",
    "b=int(a)\n",
    "print(type(b))\n",
    "print(b)"
   ]
  },
  {
   "cell_type": "code",
   "execution_count": 24,
   "id": "e1e3f0cd-dca5-46fc-ab90-6099af7d505b",
   "metadata": {},
   "outputs": [
    {
     "name": "stdout",
     "output_type": "stream",
     "text": [
      "<class 'float'>\n",
      "<class 'int'>\n",
      "45\n"
     ]
    }
   ],
   "source": [
    "c=45.06666\n",
    "print(type(c))\n",
    "d=int(c)\n",
    "print(type(d))\n",
    "print(d)"
   ]
  },
  {
   "cell_type": "code",
   "execution_count": 26,
   "id": "7b657cbc-a0d2-41d1-a4ba-a6825678390a",
   "metadata": {},
   "outputs": [
    {
     "name": "stdout",
     "output_type": "stream",
     "text": [
      "<class 'float'>\n",
      "<class 'int'>\n",
      "23456789\n"
     ]
    }
   ],
   "source": [
    "e=23456789.1\n",
    "print(type(e))\n",
    "f=int(e)\n",
    "print(type(f))\n",
    "print(f)"
   ]
  },
  {
   "cell_type": "code",
   "execution_count": 28,
   "id": "e6135ce3-e19e-4a78-be03-a057ff673d89",
   "metadata": {},
   "outputs": [
    {
     "name": "stdout",
     "output_type": "stream",
     "text": [
      "<class 'float'>\n",
      "<class 'int'>\n",
      "45\n"
     ]
    }
   ],
   "source": [
    "g=45.123456789\n",
    "print(type(g))\n",
    "h=int(g)\n",
    "print(type(h))\n",
    "print(h)"
   ]
  },
  {
   "cell_type": "code",
   "execution_count": 32,
   "id": "a8b7e17f-afb9-4cf3-be21-e34bb3d02101",
   "metadata": {},
   "outputs": [
    {
     "name": "stdout",
     "output_type": "stream",
     "text": [
      "<class 'float'>\n",
      "<class 'int'>\n",
      "123456789000000012288\n"
     ]
    }
   ],
   "source": [
    "i=123456789000000012345.23148797893456754324567843555678\n",
    "print(type(i))\n",
    "j=int(i)\n",
    "print(type(j))\n",
    "print(j)"
   ]
  },
  {
   "cell_type": "markdown",
   "id": "71ec3154-496b-42d1-9c36-85beacd3812d",
   "metadata": {},
   "source": [
    "#### type conversions int to complex"
   ]
  },
  {
   "cell_type": "code",
   "execution_count": 35,
   "id": "f4bc2c79-3bbc-4003-9c01-17ae22cafc70",
   "metadata": {},
   "outputs": [
    {
     "name": "stdout",
     "output_type": "stream",
     "text": [
      "<class 'int'>\n",
      "<class 'complex'>\n",
      "(888+0j)\n"
     ]
    }
   ],
   "source": [
    "k=888\n",
    "print(type(k))\n",
    "l=complex(k)\n",
    "print(type(l))\n",
    "print(l)"
   ]
  },
  {
   "cell_type": "code",
   "execution_count": 37,
   "id": "a9f56f18-45c7-4022-b508-7f64ac870534",
   "metadata": {},
   "outputs": [
    {
     "name": "stdout",
     "output_type": "stream",
     "text": [
      "<class 'int'>\n",
      "<class 'complex'>\n",
      "(566+0j)\n"
     ]
    }
   ],
   "source": [
    "m=566\n",
    "print(type(m))\n",
    "n=complex(m)\n",
    "print(type(n))\n",
    "print(n)"
   ]
  },
  {
   "cell_type": "code",
   "execution_count": 39,
   "id": "60862eed-e7d9-4643-ac20-9492bbb47bd5",
   "metadata": {},
   "outputs": [
    {
     "name": "stdout",
     "output_type": "stream",
     "text": [
      "<class 'int'>\n",
      "<class 'complex'>\n",
      "(777+0j)\n"
     ]
    }
   ],
   "source": [
    "o=777\n",
    "print(type(o))\n",
    "p=complex(o)\n",
    "print(type(p))\n",
    "print(p)"
   ]
  },
  {
   "cell_type": "code",
   "execution_count": 45,
   "id": "c711d3d3-6e3e-4aa2-8487-f70145f3f507",
   "metadata": {},
   "outputs": [
    {
     "name": "stdout",
     "output_type": "stream",
     "text": [
      "<class 'int'>\n",
      "<class 'complex'>\n",
      "(112+0j)\n"
     ]
    }
   ],
   "source": [
    "q=112\n",
    "print(type(q))\n",
    "r=complex(q)\n",
    "print(type(r))\n",
    "print(r)"
   ]
  },
  {
   "cell_type": "code",
   "execution_count": 53,
   "id": "c560032b-e68a-4c11-8138-f4a4d405cc92",
   "metadata": {},
   "outputs": [
    {
     "name": "stdout",
     "output_type": "stream",
     "text": [
      "<class 'int'>\n",
      "<class 'complex'>\n",
      "(789+0j)\n"
     ]
    }
   ],
   "source": [
    "s=789\n",
    "print(type(s))\n",
    "t=complex(s)\n",
    "print(type(t))\n",
    "print(t)"
   ]
  },
  {
   "cell_type": "markdown",
   "id": "714fa1d9-84de-446b-8211-51043720fc6a",
   "metadata": {},
   "source": [
    "#### type conversions float to complex"
   ]
  },
  {
   "cell_type": "code",
   "execution_count": 56,
   "id": "462cf532-8f20-4121-84d0-7c4bbbd64dbf",
   "metadata": {},
   "outputs": [
    {
     "name": "stdout",
     "output_type": "stream",
     "text": [
      "<class 'float'>\n",
      "<class 'complex'>\n",
      "(1.23+0j)\n"
     ]
    }
   ],
   "source": [
    "u=1.23\n",
    "print(type(u))\n",
    "v=complex(u)\n",
    "print(type(v))\n",
    "print(v)"
   ]
  },
  {
   "cell_type": "code",
   "execution_count": 58,
   "id": "88eb19f4-62ae-4698-8fd7-5e0391ee1e50",
   "metadata": {},
   "outputs": [
    {
     "name": "stdout",
     "output_type": "stream",
     "text": [
      "<class 'float'>\n",
      "<class 'complex'>\n",
      "(567.88+0j)\n"
     ]
    }
   ],
   "source": [
    "x=567.88\n",
    "print(type(x))\n",
    "w=complex(x)\n",
    "print(type(w))\n",
    "print(w)"
   ]
  },
  {
   "cell_type": "code",
   "execution_count": 60,
   "id": "5f172bce-8731-4d97-b2e0-0ef889b258c1",
   "metadata": {},
   "outputs": [
    {
     "name": "stdout",
     "output_type": "stream",
     "text": [
      "<class 'float'>\n",
      "<class 'complex'>\n",
      "(8998.5454545454+0j)\n"
     ]
    }
   ],
   "source": [
    "y=8998.5454545454\n",
    "print(type(y))\n",
    "z=complex(y)\n",
    "print(type(z))\n",
    "print(z)"
   ]
  },
  {
   "cell_type": "code",
   "execution_count": 62,
   "id": "b5f10bc8-bb32-4537-b5b9-70bd28876d72",
   "metadata": {},
   "outputs": [
    {
     "name": "stdout",
     "output_type": "stream",
     "text": [
      "<class 'float'>\n",
      "<class 'complex'>\n",
      "(54.547+0j)\n"
     ]
    }
   ],
   "source": [
    "a=54.547\n",
    "print(type(a))\n",
    "b=complex(a)\n",
    "print(type(b))\n",
    "print(b)"
   ]
  },
  {
   "cell_type": "code",
   "execution_count": 64,
   "id": "c16409dc-fa03-424b-b1a2-56a62678a820",
   "metadata": {},
   "outputs": [
    {
     "name": "stdout",
     "output_type": "stream",
     "text": [
      "<class 'float'>\n",
      "<class 'complex'>\n",
      "(23456789.123456787+0j)\n"
     ]
    }
   ],
   "source": [
    "c=23456789.1234567890123456789\n",
    "print(type(c))\n",
    "d=complex(c)\n",
    "print(type(d))\n",
    "print(d)"
   ]
  },
  {
   "cell_type": "markdown",
   "id": "f1a051ac-2843-41eb-a012-7853aaccedec",
   "metadata": {},
   "source": [
    "#### type conversions to complex to int"
   ]
  },
  {
   "cell_type": "code",
   "execution_count": 67,
   "id": "ebd45a51-e28c-4f96-a2dc-6489988b9db9",
   "metadata": {},
   "outputs": [
    {
     "name": "stdout",
     "output_type": "stream",
     "text": [
      "<class 'complex'>\n"
     ]
    },
    {
     "ename": "TypeError",
     "evalue": "int() argument must be a string, a bytes-like object or a real number, not 'complex'",
     "output_type": "error",
     "traceback": [
      "\u001b[1;31m---------------------------------------------------------------------------\u001b[0m",
      "\u001b[1;31mTypeError\u001b[0m                                 Traceback (most recent call last)",
      "Cell \u001b[1;32mIn[67], line 3\u001b[0m\n\u001b[0;32m      1\u001b[0m e\u001b[38;5;241m=\u001b[39m\u001b[38;5;241m1\u001b[39m\u001b[38;5;241m+\u001b[39m\u001b[38;5;241m4\u001b[39mj\n\u001b[0;32m      2\u001b[0m \u001b[38;5;28mprint\u001b[39m(\u001b[38;5;28mtype\u001b[39m(e))\n\u001b[1;32m----> 3\u001b[0m f\u001b[38;5;241m=\u001b[39m\u001b[38;5;28mint\u001b[39m(e)\n\u001b[0;32m      4\u001b[0m \u001b[38;5;28mprint\u001b[39m(\u001b[38;5;28mtype\u001b[39m(f))\n\u001b[0;32m      5\u001b[0m \u001b[38;5;28mprint\u001b[39m(f)\n",
      "\u001b[1;31mTypeError\u001b[0m: int() argument must be a string, a bytes-like object or a real number, not 'complex'"
     ]
    }
   ],
   "source": [
    "e=1+4j\n",
    "print(type(e))\n",
    "f=int(e)\n",
    "print(type(f))\n",
    "print(f)"
   ]
  },
  {
   "cell_type": "markdown",
   "id": "6320d930-1511-4127-aed5-f7b409f21b85",
   "metadata": {},
   "source": [
    "#### type conversions complex to float"
   ]
  },
  {
   "cell_type": "code",
   "execution_count": 2,
   "id": "29134540-0d5c-4ad1-ab2f-9efa193ff4cd",
   "metadata": {},
   "outputs": [
    {
     "name": "stdout",
     "output_type": "stream",
     "text": [
      "<class 'complex'>\n"
     ]
    },
    {
     "ename": "TypeError",
     "evalue": "float() argument must be a string or a real number, not 'complex'",
     "output_type": "error",
     "traceback": [
      "\u001b[1;31m---------------------------------------------------------------------------\u001b[0m",
      "\u001b[1;31mTypeError\u001b[0m                                 Traceback (most recent call last)",
      "Cell \u001b[1;32mIn[2], line 3\u001b[0m\n\u001b[0;32m      1\u001b[0m g\u001b[38;5;241m=\u001b[39m\u001b[38;5;241m56.77\u001b[39m\u001b[38;5;241m+\u001b[39m\u001b[38;5;241m7\u001b[39mj\n\u001b[0;32m      2\u001b[0m \u001b[38;5;28mprint\u001b[39m(\u001b[38;5;28mtype\u001b[39m(g))\n\u001b[1;32m----> 3\u001b[0m h\u001b[38;5;241m=\u001b[39m\u001b[38;5;28mfloat\u001b[39m(g)\n\u001b[0;32m      4\u001b[0m \u001b[38;5;28mprint\u001b[39m(\u001b[38;5;28mtype\u001b[39m(h))\n\u001b[0;32m      5\u001b[0m \u001b[38;5;28mprint\u001b[39m(h)\n",
      "\u001b[1;31mTypeError\u001b[0m: float() argument must be a string or a real number, not 'complex'"
     ]
    }
   ],
   "source": [
    "g=56.77+7j\n",
    "print(type(g))\n",
    "h=float(g)\n",
    "print(type(h))\n",
    "print(h)"
   ]
  },
  {
   "cell_type": "markdown",
   "id": "ac26a299-f303-4f90-ac7b-d1dd846a7eb2",
   "metadata": {},
   "source": [
    "naveen=9866\n",
    "ram=1999  apply arthematic operator\n",
    "abhishek=4444 apply  assignmet operatots\n"
   ]
  },
  {
   "cell_type": "code",
   "execution_count": 3,
   "id": "933f6e08-dab8-4c99-8d3d-ac6a615aa826",
   "metadata": {},
   "outputs": [
    {
     "data": {
      "text/plain": [
       "16309"
      ]
     },
     "execution_count": 3,
     "metadata": {},
     "output_type": "execute_result"
    }
   ],
   "source": [
    "naveen=9866\n",
    "ram=1999\n",
    "abhishek=4444\n",
    "a=naveen+ram+abhishek\n",
    "a\n"
   ]
  },
  {
   "cell_type": "code",
   "execution_count": 7,
   "id": "cafbda30-ce9a-4b85-8b53-32d11436926d",
   "metadata": {},
   "outputs": [
    {
     "data": {
      "text/plain": [
       "3423"
      ]
     },
     "execution_count": 7,
     "metadata": {},
     "output_type": "execute_result"
    }
   ],
   "source": [
    "b=naveen-ram-abhishek\n",
    "b"
   ]
  },
  {
   "cell_type": "code",
   "execution_count": 9,
   "id": "63e43a4d-af11-4ffa-b375-f40c2a1ff8dd",
   "metadata": {},
   "outputs": [
    {
     "data": {
      "text/plain": [
       "87645163496"
      ]
     },
     "execution_count": 9,
     "metadata": {},
     "output_type": "execute_result"
    }
   ],
   "source": [
    "c=naveen*ram*abhishek\n",
    "c"
   ]
  },
  {
   "cell_type": "code",
   "execution_count": 11,
   "id": "b2c44fac-7e07-4338-a13e-15b2667b2c70",
   "metadata": {},
   "outputs": [
    {
     "data": {
      "text/plain": [
       "0.001110591299249985"
      ]
     },
     "execution_count": 11,
     "metadata": {},
     "output_type": "execute_result"
    }
   ],
   "source": [
    "d=naveen/ram/abhishek\n",
    "d"
   ]
  },
  {
   "cell_type": "code",
   "execution_count": 15,
   "id": "52410d42-63ed-419e-8795-c660d507941b",
   "metadata": {},
   "outputs": [
    {
     "data": {
      "text/plain": [
       "0"
      ]
     },
     "execution_count": 15,
     "metadata": {},
     "output_type": "execute_result"
    }
   ],
   "source": [
    "e=naveen//ram//abhishek\n",
    "e"
   ]
  },
  {
   "cell_type": "code",
   "execution_count": 17,
   "id": "5e788a53-a910-4a12-b583-3e3f280f9676",
   "metadata": {
    "scrolled": true
   },
   "outputs": [
    {
     "data": {
      "text/plain": [
       "1870"
      ]
     },
     "execution_count": 17,
     "metadata": {},
     "output_type": "execute_result"
    }
   ],
   "source": [
    "f=naveen%ram%abhishek\n",
    "f"
   ]
  },
  {
   "cell_type": "code",
   "execution_count": 3,
   "id": "5ac75aa7-597d-421a-9a41-a82bae9a4391",
   "metadata": {},
   "outputs": [],
   "source": [
    "naveen=9866\n",
    "ram=1999\n",
    "abhishek=4444"
   ]
  },
  {
   "cell_type": "code",
   "execution_count": 5,
   "id": "2ee72af6-0de7-46de-82b9-bdd39be97610",
   "metadata": {},
   "outputs": [
    {
     "data": {
      "text/plain": [
       "11865"
      ]
     },
     "execution_count": 5,
     "metadata": {},
     "output_type": "execute_result"
    }
   ],
   "source": [
    "naveen += ram\n",
    "naveen"
   ]
  },
  {
   "cell_type": "code",
   "execution_count": 7,
   "id": "137f8a86-43b5-42e6-aaef-8b556ca54df7",
   "metadata": {},
   "outputs": [
    {
     "data": {
      "text/plain": [
       "9866"
      ]
     },
     "execution_count": 7,
     "metadata": {},
     "output_type": "execute_result"
    }
   ],
   "source": [
    "naveen-=ram\n",
    "naveen"
   ]
  },
  {
   "cell_type": "code",
   "execution_count": 9,
   "id": "2621614a-49d8-440a-ae8e-0e20e1f9a7f9",
   "metadata": {},
   "outputs": [
    {
     "data": {
      "text/plain": [
       "19722134"
      ]
     },
     "execution_count": 9,
     "metadata": {},
     "output_type": "execute_result"
    }
   ],
   "source": [
    "ram*=naveen\n",
    "ram"
   ]
  },
  {
   "cell_type": "code",
   "execution_count": 11,
   "id": "a959b878-67e8-4b5f-939d-d437819d199e",
   "metadata": {},
   "outputs": [
    {
     "data": {
      "text/plain": [
       "0.00022533058542244973"
      ]
     },
     "execution_count": 11,
     "metadata": {},
     "output_type": "execute_result"
    }
   ],
   "source": [
    "abhishek/=ram\n",
    "abhishek"
   ]
  },
  {
   "cell_type": "code",
   "execution_count": 13,
   "id": "f4c58e57-db7d-424d-a29f-497dd3b74d41",
   "metadata": {},
   "outputs": [
    {
     "data": {
      "text/plain": [
       "0.0001594136947837191"
      ]
     },
     "execution_count": 13,
     "metadata": {},
     "output_type": "execute_result"
    }
   ],
   "source": [
    "ram%=abhishek\n",
    "ram"
   ]
  },
  {
   "cell_type": "code",
   "execution_count": 15,
   "id": "2dd18a6f-2f86-42b0-ba6b-89d0732c1cca",
   "metadata": {},
   "outputs": [
    {
     "data": {
      "text/plain": [
       "0.0"
      ]
     },
     "execution_count": 15,
     "metadata": {},
     "output_type": "execute_result"
    }
   ],
   "source": [
    "ram**=naveen\n",
    "ram"
   ]
  },
  {
   "cell_type": "markdown",
   "id": "41e20ecf-5e5f-49bb-bc50-afb2953f05f0",
   "metadata": {},
   "source": [
    "#### comparison operators"
   ]
  },
  {
   "cell_type": "code",
   "execution_count": 2,
   "id": "6cb0cd8c-96b6-4952-909a-cc4d6afb6b15",
   "metadata": {},
   "outputs": [
    {
     "name": "stdout",
     "output_type": "stream",
     "text": [
      "True\n"
     ]
    }
   ],
   "source": [
    "# is equal to\n",
    "print(24==24)"
   ]
  },
  {
   "cell_type": "code",
   "execution_count": 6,
   "id": "32ec78c1-6bd7-44e4-b810-39d0d7578b5d",
   "metadata": {},
   "outputs": [
    {
     "name": "stdout",
     "output_type": "stream",
     "text": [
      "False\n"
     ]
    }
   ],
   "source": [
    "print(5==3)"
   ]
  },
  {
   "cell_type": "code",
   "execution_count": 8,
   "id": "2518827a-5b4a-4b8e-a5c4-a91050b1d30a",
   "metadata": {},
   "outputs": [
    {
     "name": "stdout",
     "output_type": "stream",
     "text": [
      "True\n"
     ]
    }
   ],
   "source": [
    "# not equal to\n",
    "print(4!=9)"
   ]
  },
  {
   "cell_type": "code",
   "execution_count": 10,
   "id": "e2fc5bfe-871e-470d-9573-5537c6559e34",
   "metadata": {},
   "outputs": [
    {
     "name": "stdout",
     "output_type": "stream",
     "text": [
      "False\n"
     ]
    }
   ],
   "source": [
    "print(4!=4)"
   ]
  },
  {
   "cell_type": "code",
   "execution_count": 12,
   "id": "cc4acecc-00d8-4f4c-bf90-a1ac69338175",
   "metadata": {},
   "outputs": [
    {
     "name": "stdout",
     "output_type": "stream",
     "text": [
      "False\n"
     ]
    }
   ],
   "source": [
    "#greaterthan\n",
    "print(5>6)"
   ]
  },
  {
   "cell_type": "code",
   "execution_count": 14,
   "id": "c9fd3dca-0b72-44fb-a9d5-d72e314a77ac",
   "metadata": {},
   "outputs": [
    {
     "name": "stdout",
     "output_type": "stream",
     "text": [
      "True\n"
     ]
    }
   ],
   "source": [
    "print(8>4)"
   ]
  },
  {
   "cell_type": "code",
   "execution_count": 16,
   "id": "b31d4192-df52-4c7b-b090-df86315e3a48",
   "metadata": {},
   "outputs": [
    {
     "name": "stdout",
     "output_type": "stream",
     "text": [
      "True\n"
     ]
    }
   ],
   "source": [
    "#less than\n",
    "print(5<7)"
   ]
  },
  {
   "cell_type": "code",
   "execution_count": 18,
   "id": "29af2230-59b4-4913-b0f3-2b1572488ac0",
   "metadata": {},
   "outputs": [
    {
     "name": "stdout",
     "output_type": "stream",
     "text": [
      "False\n"
     ]
    }
   ],
   "source": [
    "print(6<4)"
   ]
  },
  {
   "cell_type": "code",
   "execution_count": 20,
   "id": "6f228384-e89b-442d-937f-8b68f1489ac4",
   "metadata": {},
   "outputs": [
    {
     "name": "stdout",
     "output_type": "stream",
     "text": [
      "True\n"
     ]
    }
   ],
   "source": [
    "#greaterthan or equal to\n",
    "print(4>=4)"
   ]
  },
  {
   "cell_type": "code",
   "execution_count": 22,
   "id": "0fb530f1-7e5e-4a22-a707-653eddf1e8e6",
   "metadata": {},
   "outputs": [
    {
     "name": "stdout",
     "output_type": "stream",
     "text": [
      "False\n"
     ]
    }
   ],
   "source": [
    "print(2>=6)"
   ]
  },
  {
   "cell_type": "code",
   "execution_count": 24,
   "id": "998222c6-ef7f-4895-8f19-78205d6e7517",
   "metadata": {},
   "outputs": [
    {
     "name": "stdout",
     "output_type": "stream",
     "text": [
      "False\n"
     ]
    }
   ],
   "source": [
    "#lessthan or equal to\n",
    "print(8<=7)"
   ]
  },
  {
   "cell_type": "code",
   "execution_count": 26,
   "id": "0b558e14-c01f-499a-8c00-b3e2d35bd26e",
   "metadata": {},
   "outputs": [
    {
     "name": "stdout",
     "output_type": "stream",
     "text": [
      "True\n"
     ]
    }
   ],
   "source": [
    "print(5<=9)"
   ]
  },
  {
   "cell_type": "markdown",
   "id": "8183e202-853d-4305-91da-47d6880d6246",
   "metadata": {},
   "source": [
    "#### logical operatora"
   ]
  },
  {
   "cell_type": "code",
   "execution_count": 29,
   "id": "54ab1917-308f-453b-ad8e-8da6fe2c41c3",
   "metadata": {},
   "outputs": [
    {
     "name": "stdout",
     "output_type": "stream",
     "text": [
      "True\n"
     ]
    }
   ],
   "source": [
    "# and logical operator\n",
    "print(5<7 and 7<9)"
   ]
  },
  {
   "cell_type": "code",
   "execution_count": 31,
   "id": "f122a56b-bbe5-4d6c-82c7-0d4d1fa4b85b",
   "metadata": {},
   "outputs": [
    {
     "name": "stdout",
     "output_type": "stream",
     "text": [
      "False\n"
     ]
    }
   ],
   "source": [
    "print(4<8 and 3<2)"
   ]
  },
  {
   "cell_type": "code",
   "execution_count": 33,
   "id": "6f2e9376-ab3b-4d3d-bdd0-27d1416edb35",
   "metadata": {},
   "outputs": [
    {
     "name": "stdout",
     "output_type": "stream",
     "text": [
      "True\n"
     ]
    }
   ],
   "source": [
    "# or logical operator\n",
    "print(6<5 or 4>2)"
   ]
  },
  {
   "cell_type": "code",
   "execution_count": 35,
   "id": "002aab18-4aee-47dd-8cc9-de33954e4ab8",
   "metadata": {},
   "outputs": [
    {
     "name": "stdout",
     "output_type": "stream",
     "text": [
      "False\n"
     ]
    }
   ],
   "source": [
    "print(5>8 or 5<2)"
   ]
  },
  {
   "cell_type": "code",
   "execution_count": 37,
   "id": "1fd04aa0-2bf0-4be5-a83f-6ae159b90196",
   "metadata": {},
   "outputs": [
    {
     "name": "stdout",
     "output_type": "stream",
     "text": [
      "False\n"
     ]
    }
   ],
   "source": [
    "#not logical operator\n",
    "print(not(6<5 or 4>2))"
   ]
  },
  {
   "cell_type": "code",
   "execution_count": 39,
   "id": "bfd5496a-6af1-47fe-90e1-bf61f74b71d3",
   "metadata": {},
   "outputs": [
    {
     "name": "stdout",
     "output_type": "stream",
     "text": [
      "True\n"
     ]
    }
   ],
   "source": [
    "print(not(4<8 and 3<2))"
   ]
  },
  {
   "cell_type": "markdown",
   "id": "89e746ea-13be-495f-8d78-a0299eb609f7",
   "metadata": {},
   "source": [
    "#### identity operators"
   ]
  },
  {
   "cell_type": "code",
   "execution_count": 42,
   "id": "b7449374-ba91-4ddf-bd9e-30c69dfd7675",
   "metadata": {},
   "outputs": [
    {
     "name": "stdout",
     "output_type": "stream",
     "text": [
      "True\n",
      "False\n",
      "False\n",
      "True\n"
     ]
    }
   ],
   "source": [
    "g=5\n",
    "h=5\n",
    "c='hello'\n",
    "s='hel'\n",
    "print(g is h)\n",
    "print(g is not h)\n",
    "print(s is c)\n",
    "print(s is not g)"
   ]
  },
  {
   "cell_type": "markdown",
   "id": "7bab07d3-f94e-4795-9bab-a53f5fba8ce3",
   "metadata": {},
   "source": [
    "#### bitwise operators"
   ]
  },
  {
   "cell_type": "code",
   "execution_count": 2,
   "id": "f2e16edc-4c4e-4d4c-8f4a-5a7d6b518088",
   "metadata": {},
   "outputs": [
    {
     "name": "stdout",
     "output_type": "stream",
     "text": [
      "32\n"
     ]
    }
   ],
   "source": [
    "# bitwise and operator\n",
    "print(34&45)"
   ]
  },
  {
   "cell_type": "code",
   "execution_count": 30,
   "id": "72d4be7b-4a54-469c-9f87-4ebfd5012873",
   "metadata": {},
   "outputs": [
    {
     "name": "stdout",
     "output_type": "stream",
     "text": [
      "106\n"
     ]
    }
   ],
   "source": [
    "print(234&890)"
   ]
  },
  {
   "cell_type": "code",
   "execution_count": 6,
   "id": "e0e25382-c333-400c-b595-209f58ec28b6",
   "metadata": {},
   "outputs": [
    {
     "name": "stdout",
     "output_type": "stream",
     "text": [
      "1\n"
     ]
    }
   ],
   "source": [
    "print(7&777)"
   ]
  },
  {
   "cell_type": "code",
   "execution_count": 8,
   "id": "eb1341aa-65c9-4126-a008-feb55e19131e",
   "metadata": {},
   "outputs": [
    {
     "name": "stdout",
     "output_type": "stream",
     "text": [
      "47\n"
     ]
    }
   ],
   "source": [
    "# bitwise or operator\n",
    "print(34|45)"
   ]
  },
  {
   "cell_type": "code",
   "execution_count": 10,
   "id": "a18861e0-1e4a-4a88-a67c-c66244c9660f",
   "metadata": {},
   "outputs": [
    {
     "name": "stdout",
     "output_type": "stream",
     "text": [
      "1018\n"
     ]
    }
   ],
   "source": [
    "print(234|890)"
   ]
  },
  {
   "cell_type": "code",
   "execution_count": 12,
   "id": "1f6d6196-ff6d-45de-bc0a-ffb14006439d",
   "metadata": {},
   "outputs": [
    {
     "name": "stdout",
     "output_type": "stream",
     "text": [
      "783\n"
     ]
    }
   ],
   "source": [
    "print(7|777)"
   ]
  },
  {
   "cell_type": "code",
   "execution_count": 14,
   "id": "de22cd15-2929-4224-b4e5-b9ae9c113906",
   "metadata": {},
   "outputs": [
    {
     "name": "stdout",
     "output_type": "stream",
     "text": [
      "49\n"
     ]
    }
   ],
   "source": [
    "# xor operator\n",
    "print(32^17)"
   ]
  },
  {
   "cell_type": "code",
   "execution_count": 16,
   "id": "f34ef1f7-3033-4fbb-b0c4-fec38d85b0d2",
   "metadata": {},
   "outputs": [
    {
     "name": "stdout",
     "output_type": "stream",
     "text": [
      "694\n"
     ]
    }
   ],
   "source": [
    "print(287^937)"
   ]
  },
  {
   "cell_type": "code",
   "execution_count": 18,
   "id": "c4593bdf-ae69-43db-a8e1-23da7797bd32",
   "metadata": {},
   "outputs": [
    {
     "name": "stdout",
     "output_type": "stream",
     "text": [
      "360\n"
     ]
    }
   ],
   "source": [
    "# bitwise left shift\n",
    "print(45<<3)"
   ]
  },
  {
   "cell_type": "code",
   "execution_count": 20,
   "id": "cab0d497-e420-4b88-ad09-a189ac2680eb",
   "metadata": {},
   "outputs": [
    {
     "name": "stdout",
     "output_type": "stream",
     "text": [
      "1144\n"
     ]
    }
   ],
   "source": [
    "print(143<<3)"
   ]
  },
  {
   "cell_type": "code",
   "execution_count": 22,
   "id": "43ec87f0-ae8f-421d-aa10-d684c06460aa",
   "metadata": {},
   "outputs": [
    {
     "name": "stdout",
     "output_type": "stream",
     "text": [
      "105\n"
     ]
    }
   ],
   "source": [
    "# bitwise right shift\n",
    "print(420>>2)"
   ]
  },
  {
   "cell_type": "code",
   "execution_count": 24,
   "id": "6335c8e6-05e2-4b63-a9b8-fceb63b951d6",
   "metadata": {},
   "outputs": [
    {
     "name": "stdout",
     "output_type": "stream",
     "text": [
      "48\n"
     ]
    }
   ],
   "source": [
    "print(777>>4)"
   ]
  },
  {
   "cell_type": "code",
   "execution_count": null,
   "id": "d0a3268a-8614-442b-b68b-4b2ec3e02096",
   "metadata": {},
   "outputs": [],
   "source": []
  }
 ],
 "metadata": {
  "kernelspec": {
   "display_name": "Python 3 (ipykernel)",
   "language": "python",
   "name": "python3"
  },
  "language_info": {
   "codemirror_mode": {
    "name": "ipython",
    "version": 3
   },
   "file_extension": ".py",
   "mimetype": "text/x-python",
   "name": "python",
   "nbconvert_exporter": "python",
   "pygments_lexer": "ipython3",
   "version": "3.12.7"
  }
 },
 "nbformat": 4,
 "nbformat_minor": 5
}
