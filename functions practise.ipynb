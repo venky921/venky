{
 "cells": [
  {
   "cell_type": "code",
   "execution_count": 1,
   "id": "4464e0d6-6d79-4674-8025-4ea0059cc709",
   "metadata": {},
   "outputs": [],
   "source": [
    "#1.python code of  find a maximum of two number by user input\n",
    "#2.python code of find a factorial of given number by user input\n",
    "#3.python code of find a fibonacci of given number by user input\n",
    "#4.python code to find gcd of two numbers\n",
    "#5.python code to count vowels in a string\n",
    "#6.python code to find the swap of two numbers with using temp variable"
   ]
  },
  {
   "cell_type": "code",
   "execution_count": 33,
   "id": "a1c75a9b-5ed9-4cf8-9f46-fc718ba28020",
   "metadata": {},
   "outputs": [
    {
     "name": "stdin",
     "output_type": "stream",
     "text": [
      "enter number:  55\n",
      "enter number:  99999\n"
     ]
    },
    {
     "name": "stdout",
     "output_type": "stream",
     "text": [
      "99999\n"
     ]
    }
   ],
   "source": [
    "#### 1.python code of  find a maximum of two number by user input\n",
    "a=int(input('enter number: '))\n",
    "b=int(input('enter number: '))\n",
    "c=max(a,b)\n",
    "print(c)\n",
    "    "
   ]
  },
  {
   "cell_type": "code",
   "execution_count": 55,
   "id": "4dcb71db-3d9f-4da7-aac3-57eaf2a0719f",
   "metadata": {},
   "outputs": [
    {
     "name": "stdin",
     "output_type": "stream",
     "text": [
      "enter number:  3\n"
     ]
    },
    {
     "name": "stdout",
     "output_type": "stream",
     "text": [
      "The factorial of 3 is: 6\n"
     ]
    }
   ],
   "source": [
    "#2.python code of find a factorial of given number by user input\n",
    "a=int(input('enter number: '))\n",
    "factorial = 1\n",
    "if a < 0:\n",
    "    print( \"negative numbers\")\n",
    "elif a == 0:\n",
    "    print(\"factorial of 0 is 1\")\n",
    "else:\n",
    "    for i in range(1, a + 1):\n",
    "         factorial*=i\n",
    "    print(f\"The factorial of {a} is: {factorial}\")\n"
   ]
  },
  {
   "cell_type": "code",
   "execution_count": 75,
   "id": "a19e608d-db86-4351-bc0e-a91ed7c9a8cd",
   "metadata": {},
   "outputs": [
    {
     "name": "stdin",
     "output_type": "stream",
     "text": [
      "enter number:  -2\n"
     ]
    },
    {
     "name": "stdout",
     "output_type": "stream",
     "text": [
      "negative number\n"
     ]
    }
   ],
   "source": [
    "#3.python code of find a fibonacci of given number by user input\n",
    "s=int(input('enter number: '))\n",
    "a, b = 0, 1\n",
    "if s <= 0:\n",
    "    print(\"negative number\")\n",
    "elif s== 1:\n",
    "    print(f\"The Fibonacci sequence up to {s} term is: {a}\")\n",
    "else:\n",
    "    print(a, end=\" \")\n",
    "    for _ in range(1, s):\n",
    "        print(b, end=\" \")\n",
    "        a, b = b, a + b  \n",
    "\n"
   ]
  },
  {
   "cell_type": "code",
   "execution_count": 110,
   "id": "0969c54a-d85e-470e-a3e7-afa564786af5",
   "metadata": {},
   "outputs": [
    {
     "name": "stdin",
     "output_type": "stream",
     "text": [
      "enter number:  4\n",
      "enter number:  5\n"
     ]
    }
   ],
   "source": [
    "#4.python code to find gcd of two numbers\n",
    "a=int(input('enter number: '))\n",
    "b=int(input('enter number: '))\n",
    "def gcd(a, b):\n",
    "    while b != 0:\n",
    "        a, b = b, a % b\n",
    "    return a"
   ]
  },
  {
   "cell_type": "code",
   "execution_count": 112,
   "id": "fe9aad56-fceb-4496-b330-829d19c4e905",
   "metadata": {},
   "outputs": [
    {
     "data": {
      "text/plain": [
       "1"
      ]
     },
     "execution_count": 112,
     "metadata": {},
     "output_type": "execute_result"
    }
   ],
   "source": [
    "gcd(a,b)\n"
   ]
  },
  {
   "cell_type": "code",
   "execution_count": 126,
   "id": "fc2f5c6c-fb8b-4068-8f96-4cc83bb07721",
   "metadata": {},
   "outputs": [
    {
     "name": "stdin",
     "output_type": "stream",
     "text": [
      "enter a string:  aeiouksjd\n"
     ]
    },
    {
     "name": "stdout",
     "output_type": "stream",
     "text": [
      "5\n"
     ]
    }
   ],
   "source": [
    "#5.python code to count vowels in a string\n",
    "d=input(\"enter a string: \")\n",
    "a=0\n",
    "vowels=\"aeiouAEIOU\"\n",
    "for char in d:\n",
    "    if char in vowels:\n",
    "        a+=1\n",
    "print(a)"
   ]
  },
  {
   "cell_type": "code",
   "execution_count": 148,
   "id": "db9b53d1-908f-45ac-9597-43f345f51f76",
   "metadata": {},
   "outputs": [
    {
     "name": "stdin",
     "output_type": "stream",
     "text": [
      "enter number:a=  3\n",
      "enter number:b=  4\n"
     ]
    },
    {
     "name": "stdout",
     "output_type": "stream",
     "text": [
      "a=  4\n",
      "b=  3\n"
     ]
    }
   ],
   "source": [
    "#### 6.python code to find the swap of two numbers with using temp variable\n",
    "a=int(input('enter number:a= '))\n",
    "b=int(input('enter number:b= '))\n",
    "c=a\n",
    "a=b\n",
    "b=c\n",
    "print(\"a= \",a)\n",
    "print(\"b= \",b)"
   ]
  },
  {
   "cell_type": "code",
   "execution_count": null,
   "id": "318c3478-33c5-4376-8292-0a24e25fe239",
   "metadata": {},
   "outputs": [],
   "source": []
  }
 ],
 "metadata": {
  "kernelspec": {
   "display_name": "Python 3 (ipykernel)",
   "language": "python",
   "name": "python3"
  },
  "language_info": {
   "codemirror_mode": {
    "name": "ipython",
    "version": 3
   },
   "file_extension": ".py",
   "mimetype": "text/x-python",
   "name": "python",
   "nbconvert_exporter": "python",
   "pygments_lexer": "ipython3",
   "version": "3.12.7"
  }
 },
 "nbformat": 4,
 "nbformat_minor": 5
}
