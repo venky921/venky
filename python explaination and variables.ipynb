{
 "cells": [
  {
   "cell_type": "code",
   "execution_count": 1,
   "id": "22dfffb3-1215-4650-9306-97ef7638fc26",
   "metadata": {},
   "outputs": [
    {
     "name": "stdout",
     "output_type": "stream",
     "text": [
      "hello world\n"
     ]
    }
   ],
   "source": [
    "print(\"hello world\")"
   ]
  },
  {
   "cell_type": "markdown",
   "id": "1e0c4085-8163-437d-a9e1-b56d73c1cde0",
   "metadata": {},
   "source": [
    "Python is a high-level,interpreted programming language known for its simplicity and readability.It was created by Guido van Rossum and first released in 1991.Python emphasizes code readability."
   ]
  },
  {
   "cell_type": "markdown",
   "id": "9b263566-4240-4bad-a2da-88a58fbc31d6",
   "metadata": {},
   "source": [
    "#### why we need to use python?"
   ]
  },
  {
   "cell_type": "markdown",
   "id": "6a29dd64-c085-4fe3-954b-06218d5265bf",
   "metadata": {},
   "source": [
    "1. Python has a clean and readable syntax, making it easier for beginners to pick up compared to other languages. Its syntax closely resembles human language, which makes it intuitive.\n",
    "2. Python can be used for a wide variety of applications, from web development to data science, automation, artificial intelligence (AI), machine learning (ML), game development, and more.\n",
    "3. Python has a rich set of libraries and frameworks, such as NumPy (for scientific computing), Pandas (for data analysis), Flask/Django (for web development), TensorFlow and PyTorch (for machine learning), and many more. These libraries simplify complex tasks."
   ]
  },
  {
   "cell_type": "markdown",
   "id": "753ec0a4-afec-4757-ad70-57c668feac51",
   "metadata": {},
   "source": [
    "#### Advantages of python?"
   ]
  },
  {
   "cell_type": "markdown",
   "id": "86b5e936-3b19-4073-a012-84b4e96a6ceb",
   "metadata": {},
   "source": [
    "1. Easy to Learn and Use\n",
    "Simple Syntax: Python's syntax is clean, intuitive, and closely resembles the English language, making it easy for beginners to pick up.\n",
    "Readability: Code written in Python is easy to read and understand, even for people who are new to programming. This increases code maintainability and reduces errors.\n",
    "2. Versatility\n",
    "General-Purpose Language: Python can be used for a wide range of applications, such as web development, scientific computing, automation, data analysis, machine learning, artificial intelligence (AI), and more.\n",
    "Cross-Platform Compatibility: Python works on various platforms like Windows, Linux, macOS, and Unix, ensuring broad compatibility and flexibility in development.\n",
    "3. Rich Ecosystem and Libraries\n",
    "Extensive Libraries: Python comes with a vast collection of libraries and frameworks that simplify complex tasks. Some notable libraries include:\n",
    "NumPy and Pandas for data manipulation and analysis.\n",
    "Matplotlib and Seaborn for data visualization.\n",
    "Django and Flask for web development.\n",
    "TensorFlow and PyTorch for machine learning and AI.\n",
    "Community Support: Python has a large and active community, offering a wealth of resources, tutorials, forums, and open-source projects.\n",
    "4. Rapid Development\n",
    "Fast Prototyping: Python's simplicity allows developers to quickly prototype ideas and iterate on them, reducing development time.\n",
    "Productivity: Python reduces the need for writing extensive boilerplate code, enabling developers to focus on problem-solving and feature development.\n",
    "5. Open-Source\n",
    "Free to Use: Python is open-source, meaning anyone can use, modify, and distribute it for free. This promotes collaboration, innovation, and knowledge sharing.\n",
    "Vibrant Ecosystem: Being open-source, Python has contributed to the creation of a large ecosystem of third-party libraries and tools, further enhancing its capabilities."
   ]
  },
  {
   "cell_type": "markdown",
   "id": "77f453e0-f46b-49c0-9453-ca027544d5d7",
   "metadata": {},
   "source": [
    "#### Disadvantages of python?"
   ]
  },
  {
   "cell_type": "markdown",
   "id": "75830c4a-3acf-47ad-a618-3fdfa411955f",
   "metadata": {},
   "source": [
    "1. Slower Execution Speed\n",
    "Performance Issues: Python is an interpreted language, meaning it generally runs slower than compiled languages like C, C++, or Java. This is due to the dynamic nature of the language and the extra overhead introduced by the interpreter.\n",
    "Not Suitable for CPU-Intensive Tasks: For tasks requiring heavy computation or performance (like games or real-time systems), Python might not be the best choice due to its slower execution speed.\n",
    "2. High Memory Consumption\n",
    "Memory Overhead: Python's memory consumption tends to be high, particularly for applications with large data sets or when running multiple instances of the interpreter. This can be a limitation for applications running in environments with limited memory resources.\n",
    "3. Limited Mobile Development Support\n",
    "Not Ideal for Mobile Apps: Python is not commonly used for developing mobile applications. Although there are frameworks like Kivy or BeeWare, they are not as mature or efficient as the native mobile development tools available for Android (Java, Kotlin) or iOS (Swift).\n",
    "Lack of Native Mobile Support: Unlike JavaScript (with React Native), Python doesn't natively support mobile development or have strong, widespread tools for building mobile apps.\n",
    "4. Global Interpreter Lock (GIL)\n",
    "Multithreading Limitations: The Global Interpreter Lock (GIL) in CPython (the standard Python implementation) prevents multiple native threads from executing Python bytecodes in parallel. This can hinder the performance of multi-threaded programs, especially for CPU-bound tasks.\n",
    "Concurrency Restrictions: While Python can handle I/O-bound operations (e.g., web requests) well through asynchronous programming or multi-processing, it doesn't scale effectively for CPU-bound tasks using threads alone.\n",
    "5. Weak in Low-Level Programming\n",
    "Not Suitable for Systems Programming: Python is a high-level language and doesn't allow direct access to hardware or low-level system operations. If you need to work on embedded systems, operating systems, or hardware interfaces, languages like C or C++ are better choices.\n",
    "Lack of Direct Memory Management: Python manages memory automatically, which can be a disadvantage in situations that require manual memory management, such as real-time systems or operating system development."
   ]
  },
  {
   "cell_type": "markdown",
   "id": "986304ac-653c-4a28-884a-bfed5105a3f4",
   "metadata": {},
   "source": [
    "#### Application of python?"
   ]
  },
  {
   "cell_type": "markdown",
   "id": "6b7d0045-fae4-4f3a-9546-d183184b1849",
   "metadata": {},
   "source": [
    "1. Web Development\n",
    "Frameworks: Python is widely used for developing dynamic websites and web applications. Popular frameworks like Django and Flask make it easier to build secure, scalable, and maintainable web applications.\n",
    "Backend Development: Python is frequently used for server-side (backend) development, handling database queries, authentication, and server communication.\n",
    "Full-Stack Development: Python can be used with front-end technologies (JavaScript, HTML, CSS) to build full-stack applications, integrating both client-side and server-side code.\n",
    "2. Data Science and Data Analysis\n",
    "Data Manipulation: Libraries like Pandas and NumPy allow for powerful data manipulation, cleaning, and analysis. Python is widely used in analyzing large datasets and transforming data for insights.\n",
    "Data Visualization: Python is used to create visual representations of data using libraries such as Matplotlib, Seaborn, and Plotly, helping analysts communicate complex information more effectively.\n",
    "Statistics and Probability: Python's libraries (such as SciPy) are widely used for statistical analysis, hypothesis testing, and probability modeling.\n",
    "3. Machine Learning and Artificial Intelligence\n",
    "Machine Learning: Python is one of the most popular languages for developing machine learning models. Libraries like Scikit-learn, TensorFlow, and Keras provide tools for building, training, and deploying machine learning algorithms.\n",
    "Deep Learning: Python is extensively used for deep learning applications, using frameworks like PyTorch and TensorFlow to build neural networks for complex tasks like image recognition, natural language processing (NLP), and reinforcement learning.\n",
    "Natural Language Processing (NLP): Python is the go-to language for NLP tasks such as sentiment analysis, language translation, text summarization, and chatbot development. Libraries like NLTK, spaCy, and Transformers are widely used for text processing.\n",
    "4. Automation and Scripting\n",
    "Task Automation: Python can be used to automate repetitive tasks, such as file handling, web scraping, data extraction, and administrative tasks. Libraries like Selenium (for web scraping) and OpenPyXL (for working with Excel files) are frequently used in automation.\n",
    "System Administration: Python is often used for writing scripts that help with system management and monitoring, automating backups, and interacting with operating system services.\n",
    "5. Game Development\n",
    "Game Prototyping: While Python is not typically used for high-performance game development, it is great for prototyping, creating 2D games, and developing game logic. Libraries like Pygame provide tools to build simple games.\n",
    "Game AI: Python is also used to implement AI algorithms in games, including pathfinding, decision trees, and machine learning-driven NPC behavior."
   ]
  },
  {
   "cell_type": "code",
   "execution_count": 1,
   "id": "afee32da-a2fa-4d3e-a711-2d54e8bdc35b",
   "metadata": {},
   "outputs": [
    {
     "name": "stdout",
     "output_type": "stream",
     "text": [
      "20\n"
     ]
    }
   ],
   "source": [
    " A=20\n",
    "print(A)"
   ]
  },
  {
   "cell_type": "code",
   "execution_count": 3,
   "id": "1ae53adb-b2a5-4510-bebb-2ca423e9cff2",
   "metadata": {},
   "outputs": [
    {
     "name": "stdout",
     "output_type": "stream",
     "text": [
      "4\n"
     ]
    }
   ],
   "source": [
    "naveen=4\n",
    "print(naveen)"
   ]
  },
  {
   "cell_type": "code",
   "execution_count": 5,
   "id": "60c64eca-654d-4e9d-aba3-0778e17d798f",
   "metadata": {},
   "outputs": [
    {
     "name": "stdout",
     "output_type": "stream",
     "text": [
      "5\n"
     ]
    }
   ],
   "source": [
    "_ravi=5\n",
    "print(_ravi)\n"
   ]
  },
  {
   "cell_type": "code",
   "execution_count": 7,
   "id": "603f9145-5ee6-41a4-b777-eb90e19d192a",
   "metadata": {},
   "outputs": [
    {
     "name": "stdout",
     "output_type": "stream",
     "text": [
      "9\n"
     ]
    }
   ],
   "source": [
    "abc4=9\n",
    "print(abc4)"
   ]
  },
  {
   "cell_type": "code",
   "execution_count": 9,
   "id": "1733f51e-ea02-4eac-83ad-7f85e979ca8e",
   "metadata": {},
   "outputs": [
    {
     "name": "stdout",
     "output_type": "stream",
     "text": [
      "6\n"
     ]
    }
   ],
   "source": [
    "ram=5\n",
    "Ram=6\n",
    "print(Ram)"
   ]
  },
  {
   "cell_type": "code",
   "execution_count": 11,
   "id": "e2291e05-f1db-4ffe-924a-66fcc06ddee2",
   "metadata": {},
   "outputs": [
    {
     "name": "stdout",
     "output_type": "stream",
     "text": [
      "5\n"
     ]
    }
   ],
   "source": [
    "ra4v=5\n",
    "print(ra4v)"
   ]
  },
  {
   "cell_type": "code",
   "execution_count": 13,
   "id": "118b00c6-0fb1-4dfa-acf9-65c3a204eaa2",
   "metadata": {},
   "outputs": [
    {
     "name": "stdout",
     "output_type": "stream",
     "text": [
      "1\n"
     ]
    }
   ],
   "source": [
    "a12r=1\n",
    "print(a12r)"
   ]
  },
  {
   "cell_type": "code",
   "execution_count": 15,
   "id": "84eaaef9-cccb-4d91-9b70-a93708d8bd98",
   "metadata": {},
   "outputs": [
    {
     "name": "stdout",
     "output_type": "stream",
     "text": [
      "8\n"
     ]
    }
   ],
   "source": [
    "ramesh=8\n",
    "print(ramesh)"
   ]
  },
  {
   "cell_type": "code",
   "execution_count": 17,
   "id": "c49f8643-bce4-4e08-b516-8ab7a14c5709",
   "metadata": {},
   "outputs": [
    {
     "name": "stdout",
     "output_type": "stream",
     "text": [
      "54\n"
     ]
    }
   ],
   "source": [
    "ab12=54\n",
    "print(ab12)"
   ]
  },
  {
   "cell_type": "code",
   "execution_count": 19,
   "id": "4410a6f0-37b9-4ca5-8960-224e035bfb10",
   "metadata": {},
   "outputs": [
    {
     "name": "stdout",
     "output_type": "stream",
     "text": [
      "5\n"
     ]
    }
   ],
   "source": [
    "tb=5\n",
    "print(tb)"
   ]
  },
  {
   "cell_type": "code",
   "execution_count": 23,
   "id": "20a9f1ef-8554-4603-bed5-75fcbdd8ca43",
   "metadata": {},
   "outputs": [
    {
     "name": "stdout",
     "output_type": "stream",
     "text": [
      "10\n"
     ]
    }
   ],
   "source": [
    "a=5\n",
    "b=5\n",
    "c=a+b\n",
    "print(c)"
   ]
  },
  {
   "cell_type": "code",
   "execution_count": 25,
   "id": "07108020-6305-468b-bf2f-537c5f2cc566",
   "metadata": {},
   "outputs": [
    {
     "name": "stdout",
     "output_type": "stream",
     "text": [
      "-1\n"
     ]
    }
   ],
   "source": [
    "a=4\n",
    "b=5\n",
    "c=a-b\n",
    "print(c)\n",
    "    "
   ]
  },
  {
   "cell_type": "code",
   "execution_count": 27,
   "id": "b509cff8-fb52-4bff-ac37-5c924fb5d501",
   "metadata": {},
   "outputs": [
    {
     "name": "stdout",
     "output_type": "stream",
     "text": [
      "143\n"
     ]
    }
   ],
   "source": [
    "naveen=143\n",
    "print(naveen)"
   ]
  },
  {
   "cell_type": "code",
   "execution_count": 29,
   "id": "b5cae0b6-34fb-4ecc-9bb0-d85197c723e5",
   "metadata": {},
   "outputs": [
    {
     "name": "stdout",
     "output_type": "stream",
     "text": [
      "4\n"
     ]
    }
   ],
   "source": [
    "z9=4\n",
    "print(z9)"
   ]
  },
  {
   "cell_type": "code",
   "execution_count": 31,
   "id": "e2823cf3-ad8d-4ea5-a6ec-545754eb7cf3",
   "metadata": {},
   "outputs": [
    {
     "name": "stdout",
     "output_type": "stream",
     "text": [
      "5\n"
     ]
    }
   ],
   "source": [
    "t6=5\n",
    "print(t6)\n"
   ]
  },
  {
   "cell_type": "code",
   "execution_count": 33,
   "id": "c6732d30-fc93-4733-b865-2c432fd06ab3",
   "metadata": {},
   "outputs": [
    {
     "name": "stdout",
     "output_type": "stream",
     "text": [
      "7\n"
     ]
    }
   ],
   "source": [
    "gh=7\n",
    "print(gh)"
   ]
  },
  {
   "cell_type": "code",
   "execution_count": null,
   "id": "a2e743c2-0bd1-4118-855b-f90c9a11404a",
   "metadata": {},
   "outputs": [],
   "source": [
    "### ADG=78\n",
    "print(ADG)"
   ]
  },
  {
   "cell_type": "code",
   "execution_count": 41,
   "id": "335863c8-98eb-4159-916f-22ca80752567",
   "metadata": {},
   "outputs": [
    {
     "name": "stdout",
     "output_type": "stream",
     "text": [
      "7\n"
     ]
    }
   ],
   "source": [
    "ASD=7\n",
    "print(ASD)"
   ]
  },
  {
   "cell_type": "code",
   "execution_count": 43,
   "id": "b01304c6-cd9c-4f6d-978e-36a1eb489956",
   "metadata": {},
   "outputs": [
    {
     "name": "stdout",
     "output_type": "stream",
     "text": [
      "5\n"
     ]
    }
   ],
   "source": [
    "z1=5\n",
    "print(z1)"
   ]
  },
  {
   "cell_type": "code",
   "execution_count": 45,
   "id": "0069208d-a352-4186-91bb-868d6f8782ba",
   "metadata": {},
   "outputs": [
    {
     "name": "stdout",
     "output_type": "stream",
     "text": [
      "5\n"
     ]
    }
   ],
   "source": [
    "raj=5\n",
    "print(raj)"
   ]
  },
  {
   "cell_type": "code",
   "execution_count": 47,
   "id": "b91959f3-0eb7-4470-bebe-d30a928c6a66",
   "metadata": {},
   "outputs": [
    {
     "ename": "SyntaxError",
     "evalue": "invalid decimal literal (1893806393.py, line 1)",
     "output_type": "error",
     "traceback": [
      "\u001b[1;36m  Cell \u001b[1;32mIn[47], line 1\u001b[1;36m\u001b[0m\n\u001b[1;33m    1y=7\u001b[0m\n\u001b[1;37m    ^\u001b[0m\n\u001b[1;31mSyntaxError\u001b[0m\u001b[1;31m:\u001b[0m invalid decimal literal\n"
     ]
    }
   ],
   "source": [
    "1y=7\n",
    "print(1y)"
   ]
  },
  {
   "cell_type": "code",
   "execution_count": 49,
   "id": "02111fcb-391b-4711-915c-edec782a72ad",
   "metadata": {},
   "outputs": [
    {
     "ename": "SyntaxError",
     "evalue": "invalid syntax. Maybe you meant '==' or ':=' instead of '='? (1758767215.py, line 1)",
     "output_type": "error",
     "traceback": [
      "\u001b[1;36m  Cell \u001b[1;32mIn[49], line 1\u001b[1;36m\u001b[0m\n\u001b[1;33m    @qw=9\u001b[0m\n\u001b[1;37m     ^\u001b[0m\n\u001b[1;31mSyntaxError\u001b[0m\u001b[1;31m:\u001b[0m invalid syntax. Maybe you meant '==' or ':=' instead of '='?\n"
     ]
    }
   ],
   "source": [
    "@qw=9\n",
    "print(@qw)"
   ]
  },
  {
   "cell_type": "code",
   "execution_count": 51,
   "id": "5965086b-df1d-425e-a2c8-7ace28745cc8",
   "metadata": {},
   "outputs": [
    {
     "ename": "SyntaxError",
     "evalue": "invalid syntax (2189276053.py, line 1)",
     "output_type": "error",
     "traceback": [
      "\u001b[1;36m  Cell \u001b[1;32mIn[51], line 1\u001b[1;36m\u001b[0m\n\u001b[1;33m    for=4\u001b[0m\n\u001b[1;37m       ^\u001b[0m\n\u001b[1;31mSyntaxError\u001b[0m\u001b[1;31m:\u001b[0m invalid syntax\n"
     ]
    }
   ],
   "source": [
    "for=4\n",
    "print(for)"
   ]
  },
  {
   "cell_type": "code",
   "execution_count": 53,
   "id": "e68c4452-cee2-4dce-960b-10465c8a4555",
   "metadata": {},
   "outputs": [
    {
     "ename": "SyntaxError",
     "evalue": "invalid syntax (4047582447.py, line 1)",
     "output_type": "error",
     "traceback": [
      "\u001b[1;36m  Cell \u001b[1;32mIn[53], line 1\u001b[1;36m\u001b[0m\n\u001b[1;33m    if=8\u001b[0m\n\u001b[1;37m      ^\u001b[0m\n\u001b[1;31mSyntaxError\u001b[0m\u001b[1;31m:\u001b[0m invalid syntax\n"
     ]
    }
   ],
   "source": [
    "if=8\n",
    "print(if)"
   ]
  },
  {
   "cell_type": "code",
   "execution_count": 55,
   "id": "4075d6c8-376e-449f-b922-31aa317d50e5",
   "metadata": {},
   "outputs": [
    {
     "ename": "SyntaxError",
     "evalue": "invalid decimal literal (303180860.py, line 1)",
     "output_type": "error",
     "traceback": [
      "\u001b[1;36m  Cell \u001b[1;32mIn[55], line 1\u001b[1;36m\u001b[0m\n\u001b[1;33m    67t=8\u001b[0m\n\u001b[1;37m     ^\u001b[0m\n\u001b[1;31mSyntaxError\u001b[0m\u001b[1;31m:\u001b[0m invalid decimal literal\n"
     ]
    }
   ],
   "source": [
    "67t=8\n",
    "print(67t)"
   ]
  },
  {
   "cell_type": "code",
   "execution_count": 57,
   "id": "4662734b-da10-4c8f-aabe-8f64f80af3cc",
   "metadata": {},
   "outputs": [
    {
     "ename": "SyntaxError",
     "evalue": "invalid syntax (501680838.py, line 1)",
     "output_type": "error",
     "traceback": [
      "\u001b[1;36m  Cell \u001b[1;32mIn[57], line 1\u001b[1;36m\u001b[0m\n\u001b[1;33m    $py=8\u001b[0m\n\u001b[1;37m    ^\u001b[0m\n\u001b[1;31mSyntaxError\u001b[0m\u001b[1;31m:\u001b[0m invalid syntax\n"
     ]
    }
   ],
   "source": [
    "$py=8\n",
    "print($py)"
   ]
  },
  {
   "cell_type": "code",
   "execution_count": 59,
   "id": "7edb773c-db6c-41d5-9281-a1b7e8668e2f",
   "metadata": {},
   "outputs": [
    {
     "ename": "SyntaxError",
     "evalue": "invalid decimal literal (3751230224.py, line 1)",
     "output_type": "error",
     "traceback": [
      "\u001b[1;36m  Cell \u001b[1;32mIn[59], line 1\u001b[1;36m\u001b[0m\n\u001b[1;33m    78956t=9\u001b[0m\n\u001b[1;37m        ^\u001b[0m\n\u001b[1;31mSyntaxError\u001b[0m\u001b[1;31m:\u001b[0m invalid decimal literal\n"
     ]
    }
   ],
   "source": [
    "78956t=9\n",
    "print(78956t)"
   ]
  },
  {
   "cell_type": "code",
   "execution_count": 61,
   "id": "94068396-a2bb-4cb7-9f90-75c0b6765b2f",
   "metadata": {},
   "outputs": [
    {
     "ename": "SyntaxError",
     "evalue": "invalid syntax (1825670641.py, line 2)",
     "output_type": "error",
     "traceback": [
      "\u001b[1;36m  Cell \u001b[1;32mIn[61], line 2\u001b[1;36m\u001b[0m\n\u001b[1;33m    print(!yh)\u001b[0m\n\u001b[1;37m          ^\u001b[0m\n\u001b[1;31mSyntaxError\u001b[0m\u001b[1;31m:\u001b[0m invalid syntax\n"
     ]
    }
   ],
   "source": [
    "!yh=89\n",
    "print(!yh)\n"
   ]
  },
  {
   "cell_type": "code",
   "execution_count": 63,
   "id": "6686557d-56fb-4445-9761-e41cd985dc02",
   "metadata": {},
   "outputs": [
    {
     "ename": "SyntaxError",
     "evalue": "starred assignment target must be in a list or tuple (2913952275.py, line 1)",
     "output_type": "error",
     "traceback": [
      "\u001b[1;36m  Cell \u001b[1;32mIn[63], line 1\u001b[1;36m\u001b[0m\n\u001b[1;33m    *tg=9\u001b[0m\n\u001b[1;37m    ^\u001b[0m\n\u001b[1;31mSyntaxError\u001b[0m\u001b[1;31m:\u001b[0m starred assignment target must be in a list or tuple\n"
     ]
    }
   ],
   "source": [
    "*tg=9\n",
    "print(*tg)"
   ]
  },
  {
   "cell_type": "code",
   "execution_count": 65,
   "id": "c8ffba5f-39d8-4b18-a8d2-69da54e6b4d6",
   "metadata": {},
   "outputs": [
    {
     "ename": "SyntaxError",
     "evalue": "incomplete input (3538147432.py, line 2)",
     "output_type": "error",
     "traceback": [
      "\u001b[1;36m  Cell \u001b[1;32mIn[65], line 2\u001b[1;36m\u001b[0m\n\u001b[1;33m    print(67#ty)\u001b[0m\n\u001b[1;37m                ^\u001b[0m\n\u001b[1;31mSyntaxError\u001b[0m\u001b[1;31m:\u001b[0m incomplete input\n"
     ]
    }
   ],
   "source": [
    "67#ty=9\n",
    "print(67#ty)"
   ]
  },
  {
   "cell_type": "code",
   "execution_count": 67,
   "id": "b71ae304-a3c9-4e7f-bc48-bf9fb979b711",
   "metadata": {},
   "outputs": [
    {
     "ename": "SyntaxError",
     "evalue": "invalid decimal literal (144789732.py, line 1)",
     "output_type": "error",
     "traceback": [
      "\u001b[1;36m  Cell \u001b[1;32mIn[67], line 1\u001b[1;36m\u001b[0m\n\u001b[1;33m    67hg=9\u001b[0m\n\u001b[1;37m     ^\u001b[0m\n\u001b[1;31mSyntaxError\u001b[0m\u001b[1;31m:\u001b[0m invalid decimal literal\n"
     ]
    }
   ],
   "source": [
    "67hg=9\n",
    "print(67hg)"
   ]
  },
  {
   "cell_type": "code",
   "execution_count": 69,
   "id": "f39b4fb8-bfa4-4b23-afc4-1da569ab1c89",
   "metadata": {},
   "outputs": [
    {
     "ename": "SyntaxError",
     "evalue": "invalid syntax (54318460.py, line 2)",
     "output_type": "error",
     "traceback": [
      "\u001b[1;36m  Cell \u001b[1;32mIn[69], line 2\u001b[1;36m\u001b[0m\n\u001b[1;33m    print(%yugh9)\u001b[0m\n\u001b[1;37m          ^\u001b[0m\n\u001b[1;31mSyntaxError\u001b[0m\u001b[1;31m:\u001b[0m invalid syntax\n"
     ]
    }
   ],
   "source": [
    "%yugh9=12\n",
    "print(%yugh9)"
   ]
  },
  {
   "cell_type": "code",
   "execution_count": 71,
   "id": "efb93dd2-9a9b-4564-bd15-bc2c5210fbbd",
   "metadata": {},
   "outputs": [
    {
     "ename": "SyntaxError",
     "evalue": "cannot assign to literal here. Maybe you meant '==' instead of '='? (3985410661.py, line 1)",
     "output_type": "error",
     "traceback": [
      "\u001b[1;36m  Cell \u001b[1;32mIn[71], line 1\u001b[1;36m\u001b[0m\n\u001b[1;33m    4j=13\u001b[0m\n\u001b[1;37m    ^\u001b[0m\n\u001b[1;31mSyntaxError\u001b[0m\u001b[1;31m:\u001b[0m cannot assign to literal here. Maybe you meant '==' instead of '='?\n"
     ]
    }
   ],
   "source": [
    "4j=13\n",
    "print(4j)"
   ]
  },
  {
   "cell_type": "code",
   "execution_count": 73,
   "id": "02e0f519-309a-4f69-9af2-1039852b105d",
   "metadata": {},
   "outputs": [
    {
     "name": "stdout",
     "output_type": "stream",
     "text": [
      "9\n"
     ]
    }
   ],
   "source": [
    "vam=7\n",
    "vam=9\n",
    "print(vam)"
   ]
  },
  {
   "cell_type": "code",
   "execution_count": 75,
   "id": "4df145c0-168b-4523-ad46-438f795c3699",
   "metadata": {},
   "outputs": [
    {
     "ename": "SyntaxError",
     "evalue": "cannot assign to literal here. Maybe you meant '==' instead of '='? (914079187.py, line 1)",
     "output_type": "error",
     "traceback": [
      "\u001b[1;36m  Cell \u001b[1;32mIn[75], line 1\u001b[1;36m\u001b[0m\n\u001b[1;33m    0j=7\u001b[0m\n\u001b[1;37m    ^\u001b[0m\n\u001b[1;31mSyntaxError\u001b[0m\u001b[1;31m:\u001b[0m cannot assign to literal here. Maybe you meant '==' instead of '='?\n"
     ]
    }
   ],
   "source": [
    "0j=7\n",
    "print(0j)"
   ]
  },
  {
   "cell_type": "code",
   "execution_count": 77,
   "id": "d188a4c6-d905-44d9-85d0-9a6077c0bc23",
   "metadata": {},
   "outputs": [
    {
     "ename": "SyntaxError",
     "evalue": "invalid decimal literal (2273743733.py, line 2)",
     "output_type": "error",
     "traceback": [
      "\u001b[1;36m  Cell \u001b[1;32mIn[77], line 2\u001b[1;36m\u001b[0m\n\u001b[1;33m    6hg=7\u001b[0m\n\u001b[1;37m    ^\u001b[0m\n\u001b[1;31mSyntaxError\u001b[0m\u001b[1;31m:\u001b[0m invalid decimal literal\n"
     ]
    }
   ],
   "source": [
    "ra=9\n",
    "6hg=7\n",
    "jh=ra+6hg\n",
    "print(jh)"
   ]
  },
  {
   "cell_type": "code",
   "execution_count": 79,
   "id": "ca9d44f5-eb6c-4784-8747-71fd2bd25d8a",
   "metadata": {},
   "outputs": [
    {
     "ename": "SyntaxError",
     "evalue": "invalid decimal literal (1617908284.py, line 1)",
     "output_type": "error",
     "traceback": [
      "\u001b[1;36m  Cell \u001b[1;32mIn[79], line 1\u001b[1;36m\u001b[0m\n\u001b[1;33m    4r=17\u001b[0m\n\u001b[1;37m    ^\u001b[0m\n\u001b[1;31mSyntaxError\u001b[0m\u001b[1;31m:\u001b[0m invalid decimal literal\n"
     ]
    }
   ],
   "source": [
    "4r=17\n",
    "print(4r)"
   ]
  },
  {
   "cell_type": "code",
   "execution_count": 81,
   "id": "9a51826a-56e3-4a70-97b4-cf6ef5ca13a5",
   "metadata": {},
   "outputs": [
    {
     "ename": "SyntaxError",
     "evalue": "invalid syntax (2239305591.py, line 1)",
     "output_type": "error",
     "traceback": [
      "\u001b[1;36m  Cell \u001b[1;32mIn[81], line 1\u001b[1;36m\u001b[0m\n\u001b[1;33m    ^tg=6\u001b[0m\n\u001b[1;37m    ^\u001b[0m\n\u001b[1;31mSyntaxError\u001b[0m\u001b[1;31m:\u001b[0m invalid syntax\n"
     ]
    }
   ],
   "source": [
    "^tg=6\n",
    "print(^tg)"
   ]
  },
  {
   "cell_type": "code",
   "execution_count": 83,
   "id": "589fa117-ff70-4415-b368-cea42b2e1a8b",
   "metadata": {},
   "outputs": [
    {
     "ename": "SyntaxError",
     "evalue": "invalid decimal literal (239384792.py, line 1)",
     "output_type": "error",
     "traceback": [
      "\u001b[1;36m  Cell \u001b[1;32mIn[83], line 1\u001b[1;36m\u001b[0m\n\u001b[1;33m    5Ft=7\u001b[0m\n\u001b[1;37m    ^\u001b[0m\n\u001b[1;31mSyntaxError\u001b[0m\u001b[1;31m:\u001b[0m invalid decimal literal\n"
     ]
    }
   ],
   "source": [
    "5Ft=7\n",
    "print(5Ft)"
   ]
  },
  {
   "cell_type": "code",
   "execution_count": 85,
   "id": "c6b9338e-15aa-4120-90c0-65ed6d5864c1",
   "metadata": {},
   "outputs": [
    {
     "ename": "SyntaxError",
     "evalue": "invalid decimal literal (2185952092.py, line 1)",
     "output_type": "error",
     "traceback": [
      "\u001b[1;36m  Cell \u001b[1;32mIn[85], line 1\u001b[1;36m\u001b[0m\n\u001b[1;33m    55t=7\u001b[0m\n\u001b[1;37m     ^\u001b[0m\n\u001b[1;31mSyntaxError\u001b[0m\u001b[1;31m:\u001b[0m invalid decimal literal\n"
     ]
    }
   ],
   "source": [
    "55t=7\n",
    "print(55t)"
   ]
  },
  {
   "cell_type": "code",
   "execution_count": 87,
   "id": "21df0eba-ba20-4cd9-a107-941e0333cca7",
   "metadata": {},
   "outputs": [
    {
     "ename": "SyntaxError",
     "evalue": "invalid syntax (3944175997.py, line 1)",
     "output_type": "error",
     "traceback": [
      "\u001b[1;36m  Cell \u001b[1;32mIn[87], line 1\u001b[1;36m\u001b[0m\n\u001b[1;33m    @#$t=6\u001b[0m\n\u001b[1;37m     ^\u001b[0m\n\u001b[1;31mSyntaxError\u001b[0m\u001b[1;31m:\u001b[0m invalid syntax\n"
     ]
    }
   ],
   "source": [
    "@#$t=6\n",
    "print(@#$t)"
   ]
  },
  {
   "cell_type": "code",
   "execution_count": null,
   "id": "8aac9e25-88ae-4643-a7e0-9799ef56f973",
   "metadata": {},
   "outputs": [],
   "source": []
  }
 ],
 "metadata": {
  "kernelspec": {
   "display_name": "Python 3 (ipykernel)",
   "language": "python",
   "name": "python3"
  },
  "language_info": {
   "codemirror_mode": {
    "name": "ipython",
    "version": 3
   },
   "file_extension": ".py",
   "mimetype": "text/x-python",
   "name": "python",
   "nbconvert_exporter": "python",
   "pygments_lexer": "ipython3",
   "version": "3.12.7"
  }
 },
 "nbformat": 4,
 "nbformat_minor": 5
}
