{
 "cells": [
  {
   "cell_type": "code",
   "execution_count": 1,
   "id": "4840cbab-d76b-45f2-839b-1af22a8f40f5",
   "metadata": {},
   "outputs": [
    {
     "name": "stdout",
     "output_type": "stream",
     "text": [
      "a is small\n"
     ]
    }
   ],
   "source": [
    "#python  program to find smallest number among three\n",
    "a=33\n",
    "b=55\n",
    "c=54\n",
    "if a<b and a<c:\n",
    "    print('a is small')\n",
    "elif b<a and b<c:\n",
    "    print('b is small')\n",
    "else:    \n",
    "    print('c is small') "
   ]
  },
  {
   "cell_type": "code",
   "execution_count": 23,
   "id": "3d2b08c6-864d-438f-83a9-32a41143c8bd",
   "metadata": {},
   "outputs": [
    {
     "name": "stdout",
     "output_type": "stream",
     "text": [
      "11\n"
     ]
    }
   ],
   "source": [
    "#write a python program to find  the minimum in a list\n",
    "a=[33,44,55,22,66,11]\n",
    "print(min(a))\n",
    " "
   ]
  },
  {
   "cell_type": "code",
   "execution_count": 25,
   "id": "54a9bb20-4491-48b5-869d-c5d5fad90c35",
   "metadata": {},
   "outputs": [
    {
     "name": "stdout",
     "output_type": "stream",
     "text": [
      "66\n"
     ]
    }
   ],
   "source": [
    "#write a python program to find  the minimum in a list\n",
    "a=[33,44,55,22,66,11]\n",
    "print(max(a))\n",
    " "
   ]
  },
  {
   "cell_type": "code",
   "execution_count": 31,
   "id": "cd96d0f4-5fb6-4b5e-a2b8-3a049a784450",
   "metadata": {},
   "outputs": [
    {
     "name": "stdout",
     "output_type": "stream",
     "text": [
      "100\n"
     ]
    }
   ],
   "source": [
    "#python program to square of a given number\n",
    "a=10\n",
    "z=a**2\n",
    "print(z)"
   ]
  },
  {
   "cell_type": "code",
   "execution_count": 47,
   "id": "c7c3f1f3-5da3-445a-8374-44971f1c54e0",
   "metadata": {},
   "outputs": [
    {
     "name": "stdout",
     "output_type": "stream",
     "text": [
      "apple\n"
     ]
    }
   ],
   "source": [
    "#python program to copy one string to another string\n",
    "a= \"apple\"\n",
    "b = a\n",
    "print(b)"
   ]
  },
  {
   "cell_type": "code",
   "execution_count": 330,
   "id": "dafdfd4d-8d70-4fad-81ff-0c8bf52a1bf9",
   "metadata": {},
   "outputs": [
    {
     "name": "stdout",
     "output_type": "stream",
     "text": [
      "yes\n"
     ]
    }
   ],
   "source": [
    "#write a python program to check if a string is a palindrome\n",
    "c='dad'\n",
    "a=c[::-1]\n",
    "if a == c:\n",
    "    print('yes')\n",
    "else:\n",
    "    print('no')"
   ]
  },
  {
   "cell_type": "code",
   "execution_count": 94,
   "id": "0212d87c-53b2-438a-b216-0a9a197a3cb5",
   "metadata": {},
   "outputs": [
    {
     "data": {
      "text/plain": [
       "'elppa'"
      ]
     },
     "execution_count": 94,
     "metadata": {},
     "output_type": "execute_result"
    }
   ],
   "source": [
    "#write a python program to revesre of a string\n",
    "a='apple'\n",
    "a[::-1]"
   ]
  },
  {
   "cell_type": "code",
   "execution_count": 161,
   "id": "f2678952-3a26-4a05-8b2a-6305fd14a655",
   "metadata": {},
   "outputs": [
    {
     "data": {
      "text/plain": [
       "45"
      ]
     },
     "execution_count": 161,
     "metadata": {},
     "output_type": "execute_result"
    }
   ],
   "source": [
    "#Write a Python program to find the largest element in a list. \n",
    "a=[1,2,3,45,6]\n",
    "v=max(a)\n",
    "v\n",
    "    \n",
    "    "
   ]
  },
  {
   "cell_type": "code",
   "execution_count": 270,
   "id": "7ff54283-a16f-4a62-a894-95b0688097b3",
   "metadata": {},
   "outputs": [
    {
     "data": {
      "text/plain": [
       "[2, 3, 4, 5, 6, 7, 8]"
      ]
     },
     "execution_count": 270,
     "metadata": {},
     "output_type": "execute_result"
    }
   ],
   "source": [
    "#Write a Python program to find the common elements between two lists. \n",
    "a=[2,3,4,5,6,7,8,9,11]\n",
    "b=[2,3,4,6,7,5,8]\n",
    "c=set(a)\n",
    "d=set(b)\n",
    "e=c&d\n",
    "e\n",
    "list(e)"
   ]
  },
  {
   "cell_type": "code",
   "execution_count": 294,
   "id": "c3ce0d54-757c-4f76-9e1e-63f10f391682",
   "metadata": {},
   "outputs": [
    {
     "data": {
      "text/plain": [
       "[1, 2, 3, 4, 5, 7]"
      ]
     },
     "execution_count": 294,
     "metadata": {},
     "output_type": "execute_result"
    }
   ],
   "source": [
    "# Write a Python program to remove duplicates from a list. \n",
    "a=[1,2,3,4,5,7,2,1,2]\n",
    "c=set(a)\n",
    "c\n",
    "d=list(c)\n",
    "d\n"
   ]
  },
  {
   "cell_type": "code",
   "execution_count": 314,
   "id": "034d7778-6dec-4a04-acc8-78cde6bffdcd",
   "metadata": {},
   "outputs": [
    {
     "data": {
      "text/plain": [
       "2"
      ]
     },
     "execution_count": 314,
     "metadata": {},
     "output_type": "execute_result"
    }
   ],
   "source": [
    "#Write a python Program to Count the Number of Occurrences of a Character in a String. \n",
    "a='my name is venky'\n",
    "char='n'\n",
    "d=a.count(char)\n",
    "d"
   ]
  },
  {
   "cell_type": "code",
   "execution_count": 45,
   "id": "5e8985cb-144d-4284-8f6b-aee334999b7c",
   "metadata": {},
   "outputs": [
    {
     "name": "stdout",
     "output_type": "stream",
     "text": [
      "6\n",
      "5\n"
     ]
    }
   ],
   "source": [
    "#Write a program in Python to swap two numbers without using third variable?\n",
    "a=5\n",
    "b=6\n",
    "a,b=b,a\n",
    "print(a)\n",
    "print(b)"
   ]
  },
  {
   "cell_type": "code",
   "execution_count": null,
   "id": "13651f0b-98ef-455a-bf9c-62eea236be31",
   "metadata": {},
   "outputs": [],
   "source": []
  }
 ],
 "metadata": {
  "kernelspec": {
   "display_name": "Python 3 (ipykernel)",
   "language": "python",
   "name": "python3"
  },
  "language_info": {
   "codemirror_mode": {
    "name": "ipython",
    "version": 3
   },
   "file_extension": ".py",
   "mimetype": "text/x-python",
   "name": "python",
   "nbconvert_exporter": "python",
   "pygments_lexer": "ipython3",
   "version": "3.12.7"
  }
 },
 "nbformat": 4,
 "nbformat_minor": 5
}
