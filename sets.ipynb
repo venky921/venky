{
 "cells": [
  {
   "cell_type": "markdown",
   "id": "9b79c714-adb5-4538-a9f1-fc21e986418c",
   "metadata": {},
   "source": [
    "#### explain about set in python\n",
    "In Python, a set is a built-in data type that represents an unordered collection of unique elements. Sets are particularly useful when you need to eliminate duplicate values from a collection or perform mathematical set operations like union, intersection, and difference.\n",
    "\n",
    "Key Features of Sets:\n",
    "- Unordered: The elements in a set are not stored in any particular order. This means you cannot access items by index, unlike lists or tuples.\n",
    "\n",
    "- Unique Elements: A set automatically removes duplicates, meaning it only keeps one instance of each element. For example, if you add the number 3 twice, the set will only contain one 3.\n",
    "\n",
    "- Mutable: You can add or remove items from a set after it has been created, unlike other data types like strings or tuples.\n",
    "\n",
    "Supports Set Operations: Sets support various mathematical operations like union, intersection, difference, and symmetric difference.\n",
    "\n",
    "Creating a Set:\n",
    "You can create a set in Python using curly braces {} or the set() constructor"
   ]
  },
  {
   "cell_type": "code",
   "execution_count": 5,
   "id": "6bb43fc5-9025-43e9-a267-8803b8eec4fa",
   "metadata": {},
   "outputs": [],
   "source": [
    "a={'apple','mango','orange'}\n",
    "ram={1,2,3,4,1,2,5}\n",
    "venky={'a','b','c','d',1,2,3}\n",
    "ab={'thota','venky','rao',44,55,66}\n",
    "f={2122,33333,455555,77778,7777}\n",
    "g={'boll','bat','dog','a','d','g'}\n",
    "m={'f2','f1','f4','f3'}\n",
    "anji={88,22,99,33,55,88,22}\n",
    "ravi={'pakodi','bajji','cake','bakery'}\n",
    "clg={'src','sves','vv','surya','triveni'}"
   ]
  },
  {
   "cell_type": "code",
   "execution_count": 19,
   "id": "d6a587d2-7b19-4f5d-8c73-846be7be2387",
   "metadata": {},
   "outputs": [
    {
     "name": "stdout",
     "output_type": "stream",
     "text": [
      "<class 'set'>\n",
      "{1, 2, 3, 4, 5}\n"
     ]
    }
   ],
   "source": [
    "#removing duplicates\n",
    "ram={1,2,3,4,1,2,5}\n",
    "print(type(ram))\n",
    "print(ram)"
   ]
  },
  {
   "cell_type": "code",
   "execution_count": 15,
   "id": "2f60b0e7-b071-4835-b4bf-8ba28f10748b",
   "metadata": {},
   "outputs": [
    {
     "name": "stdout",
     "output_type": "stream",
     "text": [
      "<class 'set'>\n",
      "initial set: {'orange', 'apple', 'mango'}\n",
      "update set: {'orange', 2, 'apple', 'mango'}\n"
     ]
    }
   ],
   "source": [
    "#add items\n",
    "a={'apple','mango','orange'}\n",
    "print(type(a))\n",
    "print('initial set:',a)\n",
    "a.add(2)\n",
    "print('update set:',a)"
   ]
  },
  {
   "cell_type": "code",
   "execution_count": 11,
   "id": "04e6189c-ff69-46c2-beee-80406f3206d8",
   "metadata": {},
   "outputs": [
    {
     "name": "stdout",
     "output_type": "stream",
     "text": [
      "initial set: {'orange', 2, 'apple', 'mango'}\n",
      "update set: {'orange', 2, 'abc', 'apple', 'mango'}\n"
     ]
    }
   ],
   "source": [
    "print('initial set:',a)\n",
    "a.add('abc')\n",
    "print('update set:',a)"
   ]
  },
  {
   "cell_type": "code",
   "execution_count": 13,
   "id": "69c667d7-2254-466e-985f-e7c8fc6fee59",
   "metadata": {},
   "outputs": [
    {
     "name": "stdout",
     "output_type": "stream",
     "text": [
      "initial set: {'orange', 'apple', 'mango'}\n",
      "update set: {'orange', 'bakery', 'apple', 'mango', 'pakodi', 'bajji', 'cake'}\n"
     ]
    }
   ],
   "source": [
    "#update set\n",
    "a={'apple','mango','orange'}\n",
    "ravi={'pakodi','bajji','cake','bakery'}\n",
    "print('initial set:',a)\n",
    "a.update(ravi)\n",
    "print('update set:',a)"
   ]
  },
  {
   "cell_type": "code",
   "execution_count": 17,
   "id": "c486a2bc-ab36-4400-abdb-63a3a082e32a",
   "metadata": {
    "jupyter": {
     "source_hidden": true
    }
   },
   "outputs": [
    {
     "name": "stdout",
     "output_type": "stream",
     "text": [
      "initial set: {1, 2, 3, 4, 5}\n",
      "update set: {1, 2, 3, 4, 5, 'd', 'a', 'c', 'b'}\n"
     ]
    }
   ],
   "source": [
    "ram={1,2,3,4,1,2,5}\n",
    "venky={'a','b','c','d',1,2,3}\n",
    "print('initial set:',ram)\n",
    "ram.update(venky)\n",
    "print('update set:',ram)"
   ]
  },
  {
   "cell_type": "code",
   "execution_count": 21,
   "id": "45954f7e-300f-45ba-bc83-99836fb2363d",
   "metadata": {},
   "outputs": [
    {
     "name": "stdout",
     "output_type": "stream",
     "text": [
      "initial set: {66, 55, 'thota', 'rao', 44, 'venky'}\n",
      "update set: {66, 55, 'rao', 44, 'venky'}\n"
     ]
    }
   ],
   "source": [
    "#remove elements from a set\n",
    "#discard\n",
    "ab={'thota','venky','rao',44,55,66}\n",
    "print('initial set:',ab)\n",
    "ab.discard('thota')\n",
    "print('update set:',ab)"
   ]
  },
  {
   "cell_type": "code",
   "execution_count": 23,
   "id": "afff5817-4ebf-4ee6-9601-cfec34fdc0a2",
   "metadata": {},
   "outputs": [
    {
     "name": "stdout",
     "output_type": "stream",
     "text": [
      "initial set: {66, 55, 'rao', 44, 'venky'}\n",
      "update set: {66, 55, 'rao', 'venky'}\n"
     ]
    }
   ],
   "source": [
    "print('initial set:',ab)\n",
    "ab.discard(44)\n",
    "print('update set:',ab)"
   ]
  },
  {
   "cell_type": "code",
   "execution_count": 25,
   "id": "f85eb581-268e-475e-9a4a-2b659e2a0d05",
   "metadata": {},
   "outputs": [
    {
     "name": "stdout",
     "output_type": "stream",
     "text": [
      "initial set: {66, 55, 'thota', 'rao', 44, 'venky'}\n",
      "update set: {66, 55, 'rao', 44, 'venky'}\n"
     ]
    }
   ],
   "source": [
    "#remove\n",
    "ab={'thota','venky','rao',44,55,66}\n",
    "print('initial set:',ab)\n",
    "ab.remove('thota')\n",
    "print('update set:',ab)"
   ]
  },
  {
   "cell_type": "code",
   "execution_count": 27,
   "id": "1e181d15-4ab7-4317-a760-e5de35f3b902",
   "metadata": {},
   "outputs": [
    {
     "name": "stdout",
     "output_type": "stream",
     "text": [
      "initial set: {66, 55, 'rao', 44, 'venky'}\n",
      "update set: {66, 55, 44, 'venky'}\n"
     ]
    }
   ],
   "source": [
    "print('initial set:',ab)\n",
    "ab.remove('rao')\n",
    "print('update set:',ab)"
   ]
  },
  {
   "cell_type": "code",
   "execution_count": 29,
   "id": "062bc398-2982-48dc-a134-7c654d2fcb30",
   "metadata": {},
   "outputs": [
    {
     "data": {
      "text/plain": [
       "{1, 2, 3, 4, 5, 6, 7, 8, 9, 33, 546}"
      ]
     },
     "execution_count": 29,
     "metadata": {},
     "output_type": "execute_result"
    }
   ],
   "source": [
    "#operators in set\n",
    "#union\n",
    "a={1,2,3,4,5,33,546,7}\n",
    "b={4,5,6,3,7,8,9}\n",
    "a|b"
   ]
  },
  {
   "cell_type": "code",
   "execution_count": 31,
   "id": "524ee48b-6f34-4589-a7fc-5243a2b1f183",
   "metadata": {},
   "outputs": [
    {
     "data": {
      "text/plain": [
       "{'a', 'b', 'c', 'd', 'f', 'm', 'n', 'o', 'q', 'z'}"
      ]
     },
     "execution_count": 31,
     "metadata": {},
     "output_type": "execute_result"
    }
   ],
   "source": [
    "c={'a','b','c','d','f','z'}\n",
    "d={'b','c','z','m','n','q','o'}\n",
    "c|d"
   ]
  },
  {
   "cell_type": "code",
   "execution_count": 33,
   "id": "368c9d5e-1fd1-4509-9b33-18e6ab6ff97b",
   "metadata": {},
   "outputs": [
    {
     "data": {
      "text/plain": [
       "{'apple', 'banana', 'grapes', 'lemon', 'mango', 'orange'}"
      ]
     },
     "execution_count": 33,
     "metadata": {},
     "output_type": "execute_result"
    }
   ],
   "source": [
    "f={'mango','apple','banana'}\n",
    "h={'apple','grapes','lemon','banana','orange'}\n",
    "f|h"
   ]
  },
  {
   "cell_type": "code",
   "execution_count": 35,
   "id": "d8270c55-fd2e-4269-9a43-5ec39b45e9df",
   "metadata": {},
   "outputs": [
    {
     "data": {
      "text/plain": [
       "{1.2, 2.3, 3.4, 4.555, 4.6, 5.7, 6.8, 11.2, 33.4}"
      ]
     },
     "execution_count": 35,
     "metadata": {},
     "output_type": "execute_result"
    }
   ],
   "source": [
    "v={1.2,2.3,3.4,4.6,6.8,5.7,1.2,2.3}\n",
    "j={2.3,3.4,11.2,33.4,4.555,6.8,2.3,33.4,4.555}\n",
    "v|j"
   ]
  },
  {
   "cell_type": "code",
   "execution_count": 37,
   "id": "598cb447-d55e-4486-aa9e-72488d7a6f7c",
   "metadata": {},
   "outputs": [
    {
     "data": {
      "text/plain": [
       "{3, 4, 5, 7}"
      ]
     },
     "execution_count": 37,
     "metadata": {},
     "output_type": "execute_result"
    }
   ],
   "source": [
    "#intesection\n",
    "a={1,2,3,4,5,33,546,7}\n",
    "b={4,5,6,3,7,8,9}\n",
    "a&b"
   ]
  },
  {
   "cell_type": "code",
   "execution_count": 39,
   "id": "6f591731-6065-479b-9c7e-d18fcf039b34",
   "metadata": {},
   "outputs": [
    {
     "data": {
      "text/plain": [
       "{'b', 'c', 'z'}"
      ]
     },
     "execution_count": 39,
     "metadata": {},
     "output_type": "execute_result"
    }
   ],
   "source": [
    "c={'a','b','c','d','f','z'}\n",
    "d={'b','c','z','m','n','q','o'}\n",
    "c&d"
   ]
  },
  {
   "cell_type": "code",
   "execution_count": 41,
   "id": "b0f842bb-e631-46a8-b248-6198d9068e1d",
   "metadata": {},
   "outputs": [
    {
     "data": {
      "text/plain": [
       "{'apple', 'banana'}"
      ]
     },
     "execution_count": 41,
     "metadata": {},
     "output_type": "execute_result"
    }
   ],
   "source": [
    "f={'mango','apple','banana'}\n",
    "h={'apple','grapes','lemon','banana','orange'}\n",
    "f&h"
   ]
  },
  {
   "cell_type": "code",
   "execution_count": 43,
   "id": "c8967805-405f-4638-8417-1ee8cb579c16",
   "metadata": {},
   "outputs": [
    {
     "data": {
      "text/plain": [
       "{2.3, 3.4, 6.8}"
      ]
     },
     "execution_count": 43,
     "metadata": {},
     "output_type": "execute_result"
    }
   ],
   "source": [
    "v={1.2,2.3,3.4,4.6,6.8,5.7,1.2,2.3}\n",
    "j={2.3,3.4,11.2,33.4,4.555,6.8,2.3,33.4,4.555}\n",
    "v&j"
   ]
  },
  {
   "cell_type": "code",
   "execution_count": 1,
   "id": "d3ef9558-7659-4553-9927-637ebb65a4b1",
   "metadata": {},
   "outputs": [
    {
     "data": {
      "text/plain": [
       "{1, 2, 33, 546}"
      ]
     },
     "execution_count": 1,
     "metadata": {},
     "output_type": "execute_result"
    }
   ],
   "source": [
    "#difference\n",
    "a={1,2,3,4,5,33,546,7}\n",
    "b={4,5,6,3,7,8,9}\n",
    "a-b"
   ]
  },
  {
   "cell_type": "code",
   "execution_count": 47,
   "id": "ccd53637-1b25-4029-ab3c-97c200f9c7c5",
   "metadata": {},
   "outputs": [
    {
     "data": {
      "text/plain": [
       "{'a', 'd', 'f'}"
      ]
     },
     "execution_count": 47,
     "metadata": {},
     "output_type": "execute_result"
    }
   ],
   "source": [
    "c={'a','b','c','d','f','z'}\n",
    "d={'b','c','z','m','n','q','o'}\n",
    "c-d"
   ]
  },
  {
   "cell_type": "code",
   "execution_count": 61,
   "id": "5fd22c2c-ed79-4c97-9825-278ecdb362be",
   "metadata": {},
   "outputs": [
    {
     "data": {
      "text/plain": [
       "{'grapes', 'lemon', 'orange'}"
      ]
     },
     "execution_count": 61,
     "metadata": {},
     "output_type": "execute_result"
    }
   ],
   "source": [
    "f={'mango','apple','banana'}\n",
    "h={'apple','grapes','lemon','banana','orange'}\n",
    "h-f"
   ]
  },
  {
   "cell_type": "code",
   "execution_count": 51,
   "id": "bafdcc3b-16e5-45da-9f67-da78fa831755",
   "metadata": {},
   "outputs": [
    {
     "data": {
      "text/plain": [
       "{4.555, 11.2, 33.4}"
      ]
     },
     "execution_count": 51,
     "metadata": {},
     "output_type": "execute_result"
    }
   ],
   "source": [
    "v={1.2,2.3,3.4,4.6,6.8,5.7,1.2,2.3}\n",
    "j={2.3,3.4,11.2,33.4,4.555,6.8,2.3,33.4,4.555}\n",
    "j-v"
   ]
  },
  {
   "cell_type": "code",
   "execution_count": 53,
   "id": "3ad7df51-ddae-4888-88e9-8638666ca1dd",
   "metadata": {},
   "outputs": [
    {
     "data": {
      "text/plain": [
       "{1, 2, 6, 8, 9, 33, 546}"
      ]
     },
     "execution_count": 53,
     "metadata": {},
     "output_type": "execute_result"
    }
   ],
   "source": [
    "#symmetric difference\n",
    "a={1,2,3,4,5,33,546,7}\n",
    "b={4,5,6,3,7,8,9}\n",
    "a^b"
   ]
  },
  {
   "cell_type": "code",
   "execution_count": 55,
   "id": "8fede1e8-7d05-4910-9ce6-31d08943c51d",
   "metadata": {},
   "outputs": [
    {
     "data": {
      "text/plain": [
       "{'a', 'd', 'f', 'm', 'n', 'o', 'q'}"
      ]
     },
     "execution_count": 55,
     "metadata": {},
     "output_type": "execute_result"
    }
   ],
   "source": [
    "c={'a','b','c','d','f','z'}\n",
    "d={'b','c','z','m','n','q','o'}\n",
    "c^d"
   ]
  },
  {
   "cell_type": "code",
   "execution_count": 57,
   "id": "9eb90061-4139-4a46-9b89-7c7edbab447e",
   "metadata": {},
   "outputs": [
    {
     "data": {
      "text/plain": [
       "{'grapes', 'lemon', 'mango', 'orange'}"
      ]
     },
     "execution_count": 57,
     "metadata": {},
     "output_type": "execute_result"
    }
   ],
   "source": [
    "f={'mango','apple','banana'}\n",
    "h={'apple','grapes','lemon','banana','orange'}\n",
    "f^h"
   ]
  },
  {
   "cell_type": "code",
   "execution_count": 59,
   "id": "22036ef8-ed06-4d48-8d6f-0dde24f732f3",
   "metadata": {},
   "outputs": [
    {
     "data": {
      "text/plain": [
       "{1.2, 4.555, 4.6, 5.7, 11.2, 33.4}"
      ]
     },
     "execution_count": 59,
     "metadata": {},
     "output_type": "execute_result"
    }
   ],
   "source": [
    "v={1.2,2.3,3.4,4.6,6.8,5.7,1.2,2.3}\n",
    "j={2.3,3.4,11.2,33.4,4.555,6.8,2.3,33.4,4.555}\n",
    "j^v"
   ]
  },
  {
   "cell_type": "code",
   "execution_count": null,
   "id": "c6932f14-075d-47dc-a1fc-bbfb1dcbbbf9",
   "metadata": {},
   "outputs": [],
   "source": []
  }
 ],
 "metadata": {
  "kernelspec": {
   "display_name": "Python 3 (ipykernel)",
   "language": "python",
   "name": "python3"
  },
  "language_info": {
   "codemirror_mode": {
    "name": "ipython",
    "version": 3
   },
   "file_extension": ".py",
   "mimetype": "text/x-python",
   "name": "python",
   "nbconvert_exporter": "python",
   "pygments_lexer": "ipython3",
   "version": "3.12.7"
  }
 },
 "nbformat": 4,
 "nbformat_minor": 5
}
