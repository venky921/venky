{
 "cells": [
  {
   "cell_type": "markdown",
   "id": "1c6845a8-bcef-40bb-8e2c-90d430f387a4",
   "metadata": {},
   "source": [
    "#### explain about tuples"
   ]
  },
  {
   "cell_type": "markdown",
   "id": "d2eeec81-1a71-43e7-a704-c6a5d6d17e39",
   "metadata": {},
   "source": [
    "\n",
    "In Python, tuples are an ordered collection of elements, similar to lists, but with the key difference that tuples are immutable. This means that once a tuple is created, its elements cannot be modified, added, or removed. Tuples are used to group related data together and are commonly used when the data should not be changed.\n",
    "\n",
    "A tuple can be created by placing elements inside parentheses () and separating them with commas.\n",
    "\n",
    "EXAMPLES"
   ]
  },
  {
   "cell_type": "code",
   "execution_count": 12,
   "id": "afec5ef4-d19b-4c9d-8a64-633d27c7ecd6",
   "metadata": {},
   "outputs": [],
   "source": [
    "a=(\"apple\",\"banana\",\"orange\",\"papayaa\")\n",
    "venky=(1,\"ram\",3,4,\"dog\")\n",
    "d2=(3.6,6.8,9.6,55,66,True,False,\"ram\")\n",
    "z=(23,)\n",
    "a=(\"hyd\",)\n",
    "hari=(\"chicken\",\"mutton\",\"fish\",\"egg\")\n",
    "menu=(\"idly\",\"bajji\",\"dosa\",\"puri\")\n",
    "insta=(\"reels\",\"stories\",\"chats\",\"profiles\")\n",
    "cities=(\"hyd\",\"vizag\",\"chennai\",\"bengulur\")\n",
    "study=(\"id\",9878,\"hyd\",\"degree\")"
   ]
  },
  {
   "cell_type": "code",
   "execution_count": 208,
   "id": "7accc83a-c0a1-4d7e-a7ee-6bc983cb0467",
   "metadata": {},
   "outputs": [
    {
     "name": "stdout",
     "output_type": "stream",
     "text": [
      "<class 'tuple'>\n"
     ]
    },
    {
     "data": {
      "text/plain": [
       "'apple'"
      ]
     },
     "execution_count": 208,
     "metadata": {},
     "output_type": "execute_result"
    }
   ],
   "source": [
    "a=(\"apple\",\"banana\",\"orange\",\"papayaa\")\n",
    "print(type(a))\n",
    "a[0]"
   ]
  },
  {
   "cell_type": "code",
   "execution_count": 27,
   "id": "0a3af231-91f7-41bd-b17b-a0abb29d2ea2",
   "metadata": {},
   "outputs": [
    {
     "data": {
      "text/plain": [
       "'orange'"
      ]
     },
     "execution_count": 27,
     "metadata": {},
     "output_type": "execute_result"
    }
   ],
   "source": [
    "a[2]"
   ]
  },
  {
   "cell_type": "code",
   "execution_count": 18,
   "id": "30983dfd-6a93-415b-be92-e5daf10ec209",
   "metadata": {},
   "outputs": [
    {
     "data": {
      "text/plain": [
       "'papayaa'"
      ]
     },
     "execution_count": 18,
     "metadata": {},
     "output_type": "execute_result"
    }
   ],
   "source": [
    "a[3]"
   ]
  },
  {
   "cell_type": "code",
   "execution_count": 22,
   "id": "6a71af59-745d-47f3-bf21-40da61e6bb4d",
   "metadata": {},
   "outputs": [
    {
     "data": {
      "text/plain": [
       "'papayaa'"
      ]
     },
     "execution_count": 22,
     "metadata": {},
     "output_type": "execute_result"
    }
   ],
   "source": [
    "a[-1]"
   ]
  },
  {
   "cell_type": "code",
   "execution_count": 25,
   "id": "4bc7c61b-199b-4b0d-8d2d-c6fd73ef4e9e",
   "metadata": {},
   "outputs": [
    {
     "data": {
      "text/plain": [
       "'orange'"
      ]
     },
     "execution_count": 25,
     "metadata": {},
     "output_type": "execute_result"
    }
   ],
   "source": [
    "a[-2]"
   ]
  },
  {
   "cell_type": "code",
   "execution_count": 31,
   "id": "a1d7abc0-e5cb-4f7d-bd3c-f695a8402242",
   "metadata": {},
   "outputs": [
    {
     "data": {
      "text/plain": [
       "('banana', 'orange')"
      ]
     },
     "execution_count": 31,
     "metadata": {},
     "output_type": "execute_result"
    }
   ],
   "source": [
    "a[1:3]"
   ]
  },
  {
   "cell_type": "code",
   "execution_count": 33,
   "id": "bb868865-cd18-4fcd-9147-73d2bcf4cfe9",
   "metadata": {},
   "outputs": [
    {
     "data": {
      "text/plain": [
       "('orange', 'papayaa')"
      ]
     },
     "execution_count": 33,
     "metadata": {},
     "output_type": "execute_result"
    }
   ],
   "source": [
    "a[2:7]"
   ]
  },
  {
   "cell_type": "code",
   "execution_count": 35,
   "id": "0e1248b0-2d48-42cc-bb26-1146864faea4",
   "metadata": {},
   "outputs": [
    {
     "data": {
      "text/plain": [
       "('apple', 'banana', 'orange')"
      ]
     },
     "execution_count": 35,
     "metadata": {},
     "output_type": "execute_result"
    }
   ],
   "source": [
    "a[-4:-1]"
   ]
  },
  {
   "cell_type": "code",
   "execution_count": 37,
   "id": "23cc79a0-6aa0-4caa-b316-72705d808347",
   "metadata": {},
   "outputs": [
    {
     "data": {
      "text/plain": [
       "('apple', 'banana')"
      ]
     },
     "execution_count": 37,
     "metadata": {},
     "output_type": "execute_result"
    }
   ],
   "source": [
    "a[-6:-2]"
   ]
  },
  {
   "cell_type": "code",
   "execution_count": 210,
   "id": "04535889-3b70-44bf-afc7-75070ba0e35b",
   "metadata": {},
   "outputs": [
    {
     "name": "stdout",
     "output_type": "stream",
     "text": [
      "<class 'tuple'>\n"
     ]
    },
    {
     "data": {
      "text/plain": [
       "1"
      ]
     },
     "execution_count": 210,
     "metadata": {},
     "output_type": "execute_result"
    }
   ],
   "source": [
    "venky=(1,\"ram\",3,4,\"dog\")\n",
    "print(type(venky))\n",
    "venky[0]"
   ]
  },
  {
   "cell_type": "code",
   "execution_count": 41,
   "id": "85a305ff-ca7c-46d9-9751-f06215f948f2",
   "metadata": {},
   "outputs": [
    {
     "data": {
      "text/plain": [
       "'ram'"
      ]
     },
     "execution_count": 41,
     "metadata": {},
     "output_type": "execute_result"
    }
   ],
   "source": [
    "venky[1]"
   ]
  },
  {
   "cell_type": "code",
   "execution_count": 43,
   "id": "8e02fcbb-b663-4164-8463-712a7ff3e52f",
   "metadata": {},
   "outputs": [
    {
     "data": {
      "text/plain": [
       "3"
      ]
     },
     "execution_count": 43,
     "metadata": {},
     "output_type": "execute_result"
    }
   ],
   "source": [
    "venky[2]"
   ]
  },
  {
   "cell_type": "code",
   "execution_count": 45,
   "id": "ed062a3d-7708-4975-a205-49ab68b8868e",
   "metadata": {},
   "outputs": [
    {
     "data": {
      "text/plain": [
       "4"
      ]
     },
     "execution_count": 45,
     "metadata": {},
     "output_type": "execute_result"
    }
   ],
   "source": [
    "venky[-2]"
   ]
  },
  {
   "cell_type": "code",
   "execution_count": 47,
   "id": "4d9072f9-e923-483e-8b83-1ebd5115408c",
   "metadata": {},
   "outputs": [
    {
     "data": {
      "text/plain": [
       "'dog'"
      ]
     },
     "execution_count": 47,
     "metadata": {},
     "output_type": "execute_result"
    }
   ],
   "source": [
    "venky[-1]"
   ]
  },
  {
   "cell_type": "code",
   "execution_count": 51,
   "id": "df5ef65c-d180-45ef-a2b3-56b05b34e302",
   "metadata": {},
   "outputs": [
    {
     "data": {
      "text/plain": [
       "('ram', 3, 4, 'dog')"
      ]
     },
     "execution_count": 51,
     "metadata": {},
     "output_type": "execute_result"
    }
   ],
   "source": [
    "venky[1:6]"
   ]
  },
  {
   "cell_type": "code",
   "execution_count": 53,
   "id": "dc7e2a11-b17a-42fd-bef9-04503049019e",
   "metadata": {},
   "outputs": [
    {
     "data": {
      "text/plain": [
       "(1, 'ram')"
      ]
     },
     "execution_count": 53,
     "metadata": {},
     "output_type": "execute_result"
    }
   ],
   "source": [
    "venky[-6:-3]"
   ]
  },
  {
   "cell_type": "code",
   "execution_count": 212,
   "id": "5f22abbc-8d9f-406a-8a04-6262460fc6a9",
   "metadata": {},
   "outputs": [
    {
     "name": "stdout",
     "output_type": "stream",
     "text": [
      "<class 'tuple'>\n"
     ]
    },
    {
     "data": {
      "text/plain": [
       "55"
      ]
     },
     "execution_count": 212,
     "metadata": {},
     "output_type": "execute_result"
    }
   ],
   "source": [
    "d2=(3.6,6.8,9.6,55,66,True,False,\"ram\")\n",
    "print(type(d2))\n",
    "d2[3]"
   ]
  },
  {
   "cell_type": "code",
   "execution_count": 57,
   "id": "c77ed54a-cc3f-433e-a587-c4bc499a4b9d",
   "metadata": {},
   "outputs": [
    {
     "data": {
      "text/plain": [
       "True"
      ]
     },
     "execution_count": 57,
     "metadata": {},
     "output_type": "execute_result"
    }
   ],
   "source": [
    "d2[5]"
   ]
  },
  {
   "cell_type": "code",
   "execution_count": 59,
   "id": "638d3a69-4359-4547-8d75-98795306e993",
   "metadata": {},
   "outputs": [
    {
     "data": {
      "text/plain": [
       "True"
      ]
     },
     "execution_count": 59,
     "metadata": {},
     "output_type": "execute_result"
    }
   ],
   "source": [
    "d2[-3]"
   ]
  },
  {
   "cell_type": "code",
   "execution_count": 61,
   "id": "3de03e6d-4ff4-4be1-9461-b127cee56cd9",
   "metadata": {},
   "outputs": [
    {
     "data": {
      "text/plain": [
       "'ram'"
      ]
     },
     "execution_count": 61,
     "metadata": {},
     "output_type": "execute_result"
    }
   ],
   "source": [
    "d2[-1]"
   ]
  },
  {
   "cell_type": "code",
   "execution_count": 63,
   "id": "9e512aaa-fef0-4ffa-9417-cbf01183c8d8",
   "metadata": {},
   "outputs": [
    {
     "data": {
      "text/plain": [
       "(6.8, 9.6, 55)"
      ]
     },
     "execution_count": 63,
     "metadata": {},
     "output_type": "execute_result"
    }
   ],
   "source": [
    "d2[1:4]"
   ]
  },
  {
   "cell_type": "code",
   "execution_count": 65,
   "id": "5c8574c3-3d70-40ae-9a1e-d5f5816371f5",
   "metadata": {},
   "outputs": [
    {
     "data": {
      "text/plain": [
       "(66, True, False)"
      ]
     },
     "execution_count": 65,
     "metadata": {},
     "output_type": "execute_result"
    }
   ],
   "source": [
    "d2[-4:-1]"
   ]
  },
  {
   "cell_type": "code",
   "execution_count": 67,
   "id": "8dc25c93-eac8-41b8-a24e-37d6d25474b1",
   "metadata": {},
   "outputs": [
    {
     "data": {
      "text/plain": [
       "23"
      ]
     },
     "execution_count": 67,
     "metadata": {},
     "output_type": "execute_result"
    }
   ],
   "source": [
    "z=(23,)\n",
    "z[0]"
   ]
  },
  {
   "cell_type": "code",
   "execution_count": 71,
   "id": "f60e6509-a6d6-4b12-b4ea-e0a454d8d933",
   "metadata": {},
   "outputs": [
    {
     "data": {
      "text/plain": [
       "23"
      ]
     },
     "execution_count": 71,
     "metadata": {},
     "output_type": "execute_result"
    }
   ],
   "source": [
    "z[-1]"
   ]
  },
  {
   "cell_type": "code",
   "execution_count": 73,
   "id": "e9fe3e31-e0e7-453f-b976-0a1e476db492",
   "metadata": {},
   "outputs": [
    {
     "data": {
      "text/plain": [
       "(23,)"
      ]
     },
     "execution_count": 73,
     "metadata": {},
     "output_type": "execute_result"
    }
   ],
   "source": [
    "z[0:5]"
   ]
  },
  {
   "cell_type": "code",
   "execution_count": 75,
   "id": "ac3ecb80-33eb-4aa3-8fe5-8217bf0020b7",
   "metadata": {},
   "outputs": [
    {
     "data": {
      "text/plain": [
       "()"
      ]
     },
     "execution_count": 75,
     "metadata": {},
     "output_type": "execute_result"
    }
   ],
   "source": [
    "z[-5:-1]"
   ]
  },
  {
   "cell_type": "code",
   "execution_count": 94,
   "id": "18e54ef5-2b5c-4ce9-93d7-925f98a128a1",
   "metadata": {},
   "outputs": [
    {
     "data": {
      "text/plain": [
       "'hyd'"
      ]
     },
     "execution_count": 94,
     "metadata": {},
     "output_type": "execute_result"
    }
   ],
   "source": [
    "a=(\"hyd\",)\n",
    "a[0]"
   ]
  },
  {
   "cell_type": "code",
   "execution_count": 96,
   "id": "901111b0-d1aa-446d-bb05-5f58e888d730",
   "metadata": {},
   "outputs": [
    {
     "data": {
      "text/plain": [
       "'hyd'"
      ]
     },
     "execution_count": 96,
     "metadata": {},
     "output_type": "execute_result"
    }
   ],
   "source": [
    "a[-1]"
   ]
  },
  {
   "cell_type": "code",
   "execution_count": 98,
   "id": "401bcb44-a697-4726-ac4d-9fa7db0904c0",
   "metadata": {},
   "outputs": [
    {
     "data": {
      "text/plain": [
       "('hyd',)"
      ]
     },
     "execution_count": 98,
     "metadata": {},
     "output_type": "execute_result"
    }
   ],
   "source": [
    "a[0:2]"
   ]
  },
  {
   "cell_type": "code",
   "execution_count": 102,
   "id": "dd1deb94-3530-4f61-8f39-936887c2da69",
   "metadata": {},
   "outputs": [
    {
     "data": {
      "text/plain": [
       "()"
      ]
     },
     "execution_count": 102,
     "metadata": {},
     "output_type": "execute_result"
    }
   ],
   "source": [
    "a[-2:-1]"
   ]
  },
  {
   "cell_type": "code",
   "execution_count": 214,
   "id": "ca118242-00fb-4676-836c-4dae55cdd95c",
   "metadata": {},
   "outputs": [
    {
     "name": "stdout",
     "output_type": "stream",
     "text": [
      "<class 'tuple'>\n"
     ]
    },
    {
     "data": {
      "text/plain": [
       "'fish'"
      ]
     },
     "execution_count": 214,
     "metadata": {},
     "output_type": "execute_result"
    }
   ],
   "source": [
    "hari=(\"chicken\",\"mutton\",\"fish\",\"egg\")\n",
    "print(type(hari))\n",
    "hari[2]"
   ]
  },
  {
   "cell_type": "code",
   "execution_count": 112,
   "id": "b327cae1-f25d-443d-afec-3b93b4ffd54c",
   "metadata": {},
   "outputs": [
    {
     "data": {
      "text/plain": [
       "'chicken'"
      ]
     },
     "execution_count": 112,
     "metadata": {},
     "output_type": "execute_result"
    }
   ],
   "source": [
    "hari[-4]"
   ]
  },
  {
   "cell_type": "code",
   "execution_count": 114,
   "id": "b52495ae-d7c5-4634-8031-5c2a41227faf",
   "metadata": {},
   "outputs": [
    {
     "data": {
      "text/plain": [
       "('mutton', 'fish')"
      ]
     },
     "execution_count": 114,
     "metadata": {},
     "output_type": "execute_result"
    }
   ],
   "source": [
    "hari[1:3]"
   ]
  },
  {
   "cell_type": "code",
   "execution_count": 116,
   "id": "d0e66a09-9165-4bfa-b385-2ba9b2d895cf",
   "metadata": {},
   "outputs": [
    {
     "data": {
      "text/plain": [
       "('chicken', 'mutton')"
      ]
     },
     "execution_count": 116,
     "metadata": {},
     "output_type": "execute_result"
    }
   ],
   "source": [
    "hari[-6:-2]"
   ]
  },
  {
   "cell_type": "code",
   "execution_count": 118,
   "id": "e33ed757-5539-4422-add3-1a0d69c93e2a",
   "metadata": {},
   "outputs": [
    {
     "data": {
      "text/plain": [
       "'puri'"
      ]
     },
     "execution_count": 118,
     "metadata": {},
     "output_type": "execute_result"
    }
   ],
   "source": [
    "menu=(\"idly\",\"bajji\",\"dosa\",\"puri\")\n",
    "menu[3]"
   ]
  },
  {
   "cell_type": "code",
   "execution_count": 120,
   "id": "5b015351-b155-41f8-b62b-45d9607ecb75",
   "metadata": {},
   "outputs": [
    {
     "data": {
      "text/plain": [
       "'dosa'"
      ]
     },
     "execution_count": 120,
     "metadata": {},
     "output_type": "execute_result"
    }
   ],
   "source": [
    "menu[2]"
   ]
  },
  {
   "cell_type": "code",
   "execution_count": 122,
   "id": "6dd19d90-23e2-4cb8-9ca1-0a3d879a52aa",
   "metadata": {},
   "outputs": [
    {
     "data": {
      "text/plain": [
       "'dosa'"
      ]
     },
     "execution_count": 122,
     "metadata": {},
     "output_type": "execute_result"
    }
   ],
   "source": [
    "menu[-2]"
   ]
  },
  {
   "cell_type": "code",
   "execution_count": 124,
   "id": "53052621-a36d-41d5-9e95-df091cfb381d",
   "metadata": {},
   "outputs": [
    {
     "data": {
      "text/plain": [
       "'bajji'"
      ]
     },
     "execution_count": 124,
     "metadata": {},
     "output_type": "execute_result"
    }
   ],
   "source": [
    "menu[-3]"
   ]
  },
  {
   "cell_type": "code",
   "execution_count": 126,
   "id": "34af3fb5-0988-4c64-995a-29881333ad0f",
   "metadata": {},
   "outputs": [
    {
     "data": {
      "text/plain": [
       "('bajji', 'dosa')"
      ]
     },
     "execution_count": 126,
     "metadata": {},
     "output_type": "execute_result"
    }
   ],
   "source": [
    "menu[1:3]"
   ]
  },
  {
   "cell_type": "code",
   "execution_count": 128,
   "id": "ba28c9a2-b675-4993-aacf-eaf4521cf041",
   "metadata": {},
   "outputs": [
    {
     "data": {
      "text/plain": [
       "('idly', 'bajji', 'dosa')"
      ]
     },
     "execution_count": 128,
     "metadata": {},
     "output_type": "execute_result"
    }
   ],
   "source": [
    "menu[-4:-1]"
   ]
  },
  {
   "cell_type": "code",
   "execution_count": 216,
   "id": "778e2de8-55e8-488b-af55-8e00d61a2641",
   "metadata": {},
   "outputs": [
    {
     "name": "stdout",
     "output_type": "stream",
     "text": [
      "<class 'tuple'>\n"
     ]
    },
    {
     "data": {
      "text/plain": [
       "'profiles'"
      ]
     },
     "execution_count": 216,
     "metadata": {},
     "output_type": "execute_result"
    }
   ],
   "source": [
    "insta=(\"reels\",\"stories\",\"chats\",\"profiles\")\n",
    "print(type(insta))\n",
    "insta[3]"
   ]
  },
  {
   "cell_type": "code",
   "execution_count": 134,
   "id": "60d48135-42ff-4760-b011-dd6e2593a6d8",
   "metadata": {},
   "outputs": [
    {
     "data": {
      "text/plain": [
       "'chats'"
      ]
     },
     "execution_count": 134,
     "metadata": {},
     "output_type": "execute_result"
    }
   ],
   "source": [
    "insta[2]"
   ]
  },
  {
   "cell_type": "code",
   "execution_count": 136,
   "id": "9ec71c6c-3a5a-4869-a7bc-afc6d99d91d0",
   "metadata": {},
   "outputs": [
    {
     "data": {
      "text/plain": [
       "'reels'"
      ]
     },
     "execution_count": 136,
     "metadata": {},
     "output_type": "execute_result"
    }
   ],
   "source": [
    "insta[-4]"
   ]
  },
  {
   "cell_type": "code",
   "execution_count": 138,
   "id": "c8d2efd7-09fb-40c0-9bea-ef492d503df5",
   "metadata": {},
   "outputs": [
    {
     "data": {
      "text/plain": [
       "'profiles'"
      ]
     },
     "execution_count": 138,
     "metadata": {},
     "output_type": "execute_result"
    }
   ],
   "source": [
    "insta[-1]"
   ]
  },
  {
   "cell_type": "code",
   "execution_count": 140,
   "id": "6cc01bc1-fbce-4f04-822b-947d4368a6c5",
   "metadata": {},
   "outputs": [
    {
     "data": {
      "text/plain": [
       "('stories', 'chats')"
      ]
     },
     "execution_count": 140,
     "metadata": {},
     "output_type": "execute_result"
    }
   ],
   "source": [
    "insta[1:3]"
   ]
  },
  {
   "cell_type": "code",
   "execution_count": 144,
   "id": "86421256-743e-4477-a04f-200f201f4a2a",
   "metadata": {},
   "outputs": [
    {
     "data": {
      "text/plain": [
       "('reels', 'stories')"
      ]
     },
     "execution_count": 144,
     "metadata": {},
     "output_type": "execute_result"
    }
   ],
   "source": [
    "insta[-4:-2]"
   ]
  },
  {
   "cell_type": "code",
   "execution_count": 148,
   "id": "7a682187-bb89-4795-a5a0-204130822d91",
   "metadata": {},
   "outputs": [
    {
     "data": {
      "text/plain": [
       "'chennai'"
      ]
     },
     "execution_count": 148,
     "metadata": {},
     "output_type": "execute_result"
    }
   ],
   "source": [
    "cities=(\"hyd\",\"vizag\",\"chennai\",\"bengulur\")\n",
    "cities[2]"
   ]
  },
  {
   "cell_type": "code",
   "execution_count": 152,
   "id": "da64a9bf-d3a9-49c9-b85f-3e73e1917de4",
   "metadata": {},
   "outputs": [
    {
     "data": {
      "text/plain": [
       "'vizag'"
      ]
     },
     "execution_count": 152,
     "metadata": {},
     "output_type": "execute_result"
    }
   ],
   "source": [
    "cities[1]"
   ]
  },
  {
   "cell_type": "code",
   "execution_count": 154,
   "id": "91b4bf48-9bcc-418e-9b06-e25e6b3236a1",
   "metadata": {},
   "outputs": [
    {
     "data": {
      "text/plain": [
       "'vizag'"
      ]
     },
     "execution_count": 154,
     "metadata": {},
     "output_type": "execute_result"
    }
   ],
   "source": [
    "cities[-3]"
   ]
  },
  {
   "cell_type": "code",
   "execution_count": 156,
   "id": "4944afb3-0b43-4cd7-87d5-223a1b18baa1",
   "metadata": {},
   "outputs": [
    {
     "data": {
      "text/plain": [
       "'bengulur'"
      ]
     },
     "execution_count": 156,
     "metadata": {},
     "output_type": "execute_result"
    }
   ],
   "source": [
    "cities[-1]"
   ]
  },
  {
   "cell_type": "code",
   "execution_count": 158,
   "id": "bfdc039a-774d-41a6-8628-28df566c8fbc",
   "metadata": {},
   "outputs": [
    {
     "data": {
      "text/plain": [
       "('vizag', 'chennai', 'bengulur')"
      ]
     },
     "execution_count": 158,
     "metadata": {},
     "output_type": "execute_result"
    }
   ],
   "source": [
    "cities[1:4]"
   ]
  },
  {
   "cell_type": "code",
   "execution_count": 162,
   "id": "662b87da-b46c-41f7-af7d-b71171867dee",
   "metadata": {},
   "outputs": [
    {
     "data": {
      "text/plain": [
       "('hyd', 'vizag', 'chennai')"
      ]
     },
     "execution_count": 162,
     "metadata": {},
     "output_type": "execute_result"
    }
   ],
   "source": [
    "cities[-5:-1]"
   ]
  },
  {
   "cell_type": "code",
   "execution_count": 164,
   "id": "7fd3e34f-bc72-4245-987d-3c6ba02dae9b",
   "metadata": {},
   "outputs": [
    {
     "data": {
      "text/plain": [
       "9878"
      ]
     },
     "execution_count": 164,
     "metadata": {},
     "output_type": "execute_result"
    }
   ],
   "source": [
    "study=(\"id\",9878,\"hyd\",\"degree\")\n",
    "study[1]"
   ]
  },
  {
   "cell_type": "code",
   "execution_count": 166,
   "id": "5b68f8fe-45c6-4cba-a072-5e9a944e3b90",
   "metadata": {},
   "outputs": [
    {
     "data": {
      "text/plain": [
       "'degree'"
      ]
     },
     "execution_count": 166,
     "metadata": {},
     "output_type": "execute_result"
    }
   ],
   "source": [
    "study[3]"
   ]
  },
  {
   "cell_type": "code",
   "execution_count": 168,
   "id": "dfb83be2-9132-4b11-8430-5faad054bd05",
   "metadata": {},
   "outputs": [
    {
     "data": {
      "text/plain": [
       "'id'"
      ]
     },
     "execution_count": 168,
     "metadata": {},
     "output_type": "execute_result"
    }
   ],
   "source": [
    "study[-4]"
   ]
  },
  {
   "cell_type": "code",
   "execution_count": 170,
   "id": "598a887d-cc08-4720-a9ec-724a8e5a0558",
   "metadata": {},
   "outputs": [
    {
     "data": {
      "text/plain": [
       "9878"
      ]
     },
     "execution_count": 170,
     "metadata": {},
     "output_type": "execute_result"
    }
   ],
   "source": [
    "study[-3]"
   ]
  },
  {
   "cell_type": "code",
   "execution_count": 172,
   "id": "a14e365f-7e9d-4015-9faa-1519cd99c8bd",
   "metadata": {},
   "outputs": [
    {
     "data": {
      "text/plain": [
       "(9878, 'hyd', 'degree')"
      ]
     },
     "execution_count": 172,
     "metadata": {},
     "output_type": "execute_result"
    }
   ],
   "source": [
    "study[1:5]"
   ]
  },
  {
   "cell_type": "code",
   "execution_count": 174,
   "id": "5a351f9b-49e6-49ed-adb4-3ea2273f20fe",
   "metadata": {},
   "outputs": [
    {
     "data": {
      "text/plain": [
       "('id',)"
      ]
     },
     "execution_count": 174,
     "metadata": {},
     "output_type": "execute_result"
    }
   ],
   "source": [
    "study[-6:-3]"
   ]
  },
  {
   "cell_type": "markdown",
   "id": "be190635-ab79-4f08-a694-7ff1ec672221",
   "metadata": {},
   "source": [
    "##### tuple methods\n",
    "count"
   ]
  },
  {
   "cell_type": "code",
   "execution_count": 176,
   "id": "4b4e2326-b952-48e4-99c1-5e29990571df",
   "metadata": {},
   "outputs": [
    {
     "data": {
      "text/plain": [
       "3"
      ]
     },
     "execution_count": 176,
     "metadata": {},
     "output_type": "execute_result"
    }
   ],
   "source": [
    "a=('apple','banana','orange','mango','apple','mango','apple')\n",
    "a.count('apple')"
   ]
  },
  {
   "cell_type": "code",
   "execution_count": 178,
   "id": "0c944715-4e73-4dc9-bd78-96913a552adc",
   "metadata": {},
   "outputs": [
    {
     "data": {
      "text/plain": [
       "6"
      ]
     },
     "execution_count": 178,
     "metadata": {},
     "output_type": "execute_result"
    }
   ],
   "source": [
    "b=(1,2,3,4,5,6,1,2,1,1,1,1)\n",
    "b.count(1)"
   ]
  },
  {
   "cell_type": "code",
   "execution_count": 181,
   "id": "bd1b8bcf-2889-43c5-b2db-1c6990afff42",
   "metadata": {},
   "outputs": [
    {
     "data": {
      "text/plain": [
       "3"
      ]
     },
     "execution_count": 181,
     "metadata": {},
     "output_type": "execute_result"
    }
   ],
   "source": [
    "c=(1.2,3.4,3.4,1.2,4.3,2.3,1.2)\n",
    "c.count(1.2)"
   ]
  },
  {
   "cell_type": "code",
   "execution_count": 183,
   "id": "610a11a7-e036-4bdf-a205-469665b5d7cd",
   "metadata": {},
   "outputs": [
    {
     "data": {
      "text/plain": [
       "2"
      ]
     },
     "execution_count": 183,
     "metadata": {},
     "output_type": "execute_result"
    }
   ],
   "source": [
    "d=(1,2,3,4,'app','app',1,2,'bag',1.3)\n",
    "d.count('app')"
   ]
  },
  {
   "cell_type": "code",
   "execution_count": 185,
   "id": "a37116c1-9cc5-481f-9445-d5849d9b743e",
   "metadata": {},
   "outputs": [
    {
     "data": {
      "text/plain": [
       "3"
      ]
     },
     "execution_count": 185,
     "metadata": {},
     "output_type": "execute_result"
    }
   ],
   "source": [
    "s=('a','b','a','c','a',1,2,3)\n",
    "s.count('a')"
   ]
  },
  {
   "cell_type": "markdown",
   "id": "a812ac6a-5524-4f43-b1b1-417852da05ec",
   "metadata": {},
   "source": [
    "index"
   ]
  },
  {
   "cell_type": "code",
   "execution_count": 188,
   "id": "4ce8bffc-9692-404e-a276-3548f85ea879",
   "metadata": {},
   "outputs": [
    {
     "data": {
      "text/plain": [
       "3"
      ]
     },
     "execution_count": 188,
     "metadata": {},
     "output_type": "execute_result"
    }
   ],
   "source": [
    "a=('apple','banana','orange','mango','apple','mango','apple')\n",
    "a.index('mango')"
   ]
  },
  {
   "cell_type": "code",
   "execution_count": 190,
   "id": "eaa48841-4fab-4b1c-86c4-d564f66b822d",
   "metadata": {},
   "outputs": [
    {
     "data": {
      "text/plain": [
       "1"
      ]
     },
     "execution_count": 190,
     "metadata": {},
     "output_type": "execute_result"
    }
   ],
   "source": [
    "b=(1,2,3,4,5,6,1,2,1,1,1,1)\n",
    "b.index(2)"
   ]
  },
  {
   "cell_type": "code",
   "execution_count": 192,
   "id": "7375b5d5-13b8-4889-8df3-c8a3a732a5e8",
   "metadata": {},
   "outputs": [
    {
     "data": {
      "text/plain": [
       "5"
      ]
     },
     "execution_count": 192,
     "metadata": {},
     "output_type": "execute_result"
    }
   ],
   "source": [
    "c=(1.2,3.4,3.4,1.2,4.3,2.3,1.2,2.3)\n",
    "c.index(2.3)"
   ]
  },
  {
   "cell_type": "code",
   "execution_count": 196,
   "id": "62d3cf5d-60c2-4643-affa-b3afd7b8d138",
   "metadata": {},
   "outputs": [
    {
     "data": {
      "text/plain": [
       "4"
      ]
     },
     "execution_count": 196,
     "metadata": {},
     "output_type": "execute_result"
    }
   ],
   "source": [
    "d=(1,2,3,4,'app','app',1,2,'bag',1.3,2,3)\n",
    "d.index('app')"
   ]
  },
  {
   "cell_type": "code",
   "execution_count": 200,
   "id": "0dabb52a-ea98-4637-9e0b-8f62ac611546",
   "metadata": {},
   "outputs": [
    {
     "data": {
      "text/plain": [
       "3"
      ]
     },
     "execution_count": 200,
     "metadata": {},
     "output_type": "execute_result"
    }
   ],
   "source": [
    "s=('a','b',1,2,3,'a','c','a',1,2,3)\n",
    "s.index(2)"
   ]
  },
  {
   "cell_type": "code",
   "execution_count": null,
   "id": "b2252717-61a2-4fdd-a2b0-ab4de49db468",
   "metadata": {},
   "outputs": [],
   "source": []
  }
 ],
 "metadata": {
  "kernelspec": {
   "display_name": "Python 3 (ipykernel)",
   "language": "python",
   "name": "python3"
  },
  "language_info": {
   "codemirror_mode": {
    "name": "ipython",
    "version": 3
   },
   "file_extension": ".py",
   "mimetype": "text/x-python",
   "name": "python",
   "nbconvert_exporter": "python",
   "pygments_lexer": "ipython3",
   "version": "3.12.7"
  }
 },
 "nbformat": 4,
 "nbformat_minor": 5
}
