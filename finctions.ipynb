{
 "cells": [
  {
   "cell_type": "code",
   "execution_count": 1,
   "id": "27364236-318d-4ccf-b189-fdcc17499cd0",
   "metadata": {},
   "outputs": [],
   "source": [
    "#user defined functions\n",
    "def a(a,c):\n",
    "    p=a+c\n",
    "    print(p)"
   ]
  },
  {
   "cell_type": "code",
   "execution_count": 3,
   "id": "023aaa76-04a6-456b-a5d6-f39390537a96",
   "metadata": {},
   "outputs": [
    {
     "name": "stdout",
     "output_type": "stream",
     "text": [
      "154\n"
     ]
    }
   ],
   "source": [
    "a(66,88)"
   ]
  },
  {
   "cell_type": "code",
   "execution_count": 39,
   "id": "32bb25d0-140e-4378-8dad-e2ce40c3b473",
   "metadata": {},
   "outputs": [],
   "source": [
    "def details(name,age,location):\n",
    "    print(f'my name is {name} and age is {age} and location is {location}')\n",
    "      "
   ]
  },
  {
   "cell_type": "code",
   "execution_count": 43,
   "id": "4aeb4773-7032-48a6-934c-e2d593d30cbf",
   "metadata": {},
   "outputs": [
    {
     "name": "stdout",
     "output_type": "stream",
     "text": [
      "my name is rohith and age is 21 and location is hyd\n"
     ]
    }
   ],
   "source": [
    "details('rohith',21,'hyd')"
   ]
  },
  {
   "cell_type": "code",
   "execution_count": 13,
   "id": "4e382263-69be-4520-8efe-d6e4d6d551c3",
   "metadata": {},
   "outputs": [
    {
     "name": "stdin",
     "output_type": "stream",
     "text": [
      "enter a value:  676\n"
     ]
    }
   ],
   "source": [
    "#type functions\n",
    "#dynamic\n",
    "a=int(input(\"enter a value: \"))\n",
    "      "
   ]
  },
  {
   "cell_type": "code",
   "execution_count": 15,
   "id": "bb537604-19d4-47e0-b8a1-b46ee6e4b010",
   "metadata": {},
   "outputs": [
    {
     "name": "stdout",
     "output_type": "stream",
     "text": [
      "676\n"
     ]
    }
   ],
   "source": [
    "print(a)"
   ]
  },
  {
   "cell_type": "code",
   "execution_count": 21,
   "id": "e4b1f195-bfa2-40bc-abd1-c37214c68a62",
   "metadata": {},
   "outputs": [
    {
     "name": "stdin",
     "output_type": "stream",
     "text": [
      "enter ; 4.5555\n"
     ]
    },
    {
     "name": "stdout",
     "output_type": "stream",
     "text": [
      "4.5555\n"
     ]
    }
   ],
   "source": [
    "b=float(input(\"enter ;\"))\n",
    "print(b)"
   ]
  },
  {
   "cell_type": "code",
   "execution_count": 25,
   "id": "c8929c8c-7590-49ff-ad2f-afd8f83aa2f4",
   "metadata": {},
   "outputs": [
    {
     "name": "stdin",
     "output_type": "stream",
     "text": [
      "enter your name:  venky\n"
     ]
    },
    {
     "name": "stdout",
     "output_type": "stream",
     "text": [
      "venky\n"
     ]
    }
   ],
   "source": [
    "c=input('enter your name: ')\n",
    "print(c)"
   ]
  },
  {
   "cell_type": "code",
   "execution_count": 79,
   "id": "b099b623-d538-4724-aa0d-4febb59a82f3",
   "metadata": {},
   "outputs": [],
   "source": [
    "#local variables\n",
    "def a():\n",
    "    num='44'\n",
    "    print(num)\n"
   ]
  },
  {
   "cell_type": "code",
   "execution_count": 81,
   "id": "d3f66c31-a3ee-4f87-9b65-892af6de56be",
   "metadata": {},
   "outputs": [
    {
     "name": "stdout",
     "output_type": "stream",
     "text": [
      "44\n"
     ]
    }
   ],
   "source": [
    "a()"
   ]
  },
  {
   "cell_type": "code",
   "execution_count": 87,
   "id": "0d9a4673-de3a-4cd4-a908-306d0fa4c3ae",
   "metadata": {},
   "outputs": [],
   "source": [
    "#global varibles\n",
    "num=333\n",
    "def s():\n",
    "    print(num)"
   ]
  },
  {
   "cell_type": "code",
   "execution_count": 89,
   "id": "0e529dc6-8ea1-425a-863f-56519a7a4ed6",
   "metadata": {},
   "outputs": [
    {
     "name": "stdout",
     "output_type": "stream",
     "text": [
      "333\n"
     ]
    }
   ],
   "source": [
    "s()"
   ]
  },
  {
   "cell_type": "code",
   "execution_count": 91,
   "id": "cb5847f7-e486-4583-9a47-a99c1d15cec3",
   "metadata": {},
   "outputs": [
    {
     "name": "stdout",
     "output_type": "stream",
     "text": [
      "333\n"
     ]
    }
   ],
   "source": [
    "print(num)"
   ]
  },
  {
   "cell_type": "code",
   "execution_count": 95,
   "id": "669fe534-1946-4f44-a96a-c5b4b7912b06",
   "metadata": {},
   "outputs": [],
   "source": [
    "#lmbda function\n",
    "def adding(a,b,c):\n",
    "    return lambda a,b,c:a+b+c"
   ]
  },
  {
   "cell_type": "code",
   "execution_count": 103,
   "id": "c078ef80-19a7-4034-b875-cfc6991f7ba1",
   "metadata": {},
   "outputs": [
    {
     "data": {
      "text/plain": [
       "15"
      ]
     },
     "execution_count": 103,
     "metadata": {},
     "output_type": "execute_result"
    }
   ],
   "source": [
    "u(4,5,6)"
   ]
  },
  {
   "cell_type": "code",
   "execution_count": 105,
   "id": "5bdcf463-5383-4b9c-93d6-f324883833e1",
   "metadata": {},
   "outputs": [
    {
     "name": "stdin",
     "output_type": "stream",
     "text": [
      "enter a value:  4\n",
      "enter b value:  5\n",
      "enter c value:  6\n"
     ]
    }
   ],
   "source": [
    "a=int(input('enter a value: '))\n",
    "b=int(input('enter b value: '))\n",
    "c=int(input('enter c value: '))\n",
    "def adding(a,b,c):\n",
    "    return lambda a,b,c:a+b+c\n",
    "    "
   ]
  },
  {
   "cell_type": "code",
   "execution_count": 107,
   "id": "3e4a01bf-590a-4b6b-9935-2776edbd1955",
   "metadata": {},
   "outputs": [
    {
     "data": {
      "text/plain": [
       "15"
      ]
     },
     "execution_count": 107,
     "metadata": {},
     "output_type": "execute_result"
    }
   ],
   "source": [
    "u(a,b,c)"
   ]
  },
  {
   "cell_type": "code",
   "execution_count": 109,
   "id": "3203489b-47fa-44b7-949d-8786b0294830",
   "metadata": {},
   "outputs": [
    {
     "name": "stdin",
     "output_type": "stream",
     "text": [
      "enter a value:  2\n",
      "enter b value:  2\n",
      "enter c value:  2\n"
     ]
    }
   ],
   "source": [
    "a=int(input('enter a value: '))\n",
    "b=int(input('enter b value: '))\n",
    "c=int(input('enter c value: '))\n",
    "def x(a,b,c):\n",
    "    z=a*b*c\n",
    "    print(z)"
   ]
  },
  {
   "cell_type": "code",
   "execution_count": 111,
   "id": "3d96d079-9929-4249-bb14-9070f99831f6",
   "metadata": {},
   "outputs": [
    {
     "name": "stdout",
     "output_type": "stream",
     "text": [
      "8\n"
     ]
    }
   ],
   "source": [
    "x(a,b,c)"
   ]
  },
  {
   "cell_type": "code",
   "execution_count": null,
   "id": "90236c8c-0e21-4516-a6b5-ead706b12475",
   "metadata": {},
   "outputs": [],
   "source": []
  }
 ],
 "metadata": {
  "kernelspec": {
   "display_name": "Python 3 (ipykernel)",
   "language": "python",
   "name": "python3"
  },
  "language_info": {
   "codemirror_mode": {
    "name": "ipython",
    "version": 3
   },
   "file_extension": ".py",
   "mimetype": "text/x-python",
   "name": "python",
   "nbconvert_exporter": "python",
   "pygments_lexer": "ipython3",
   "version": "3.12.7"
  }
 },
 "nbformat": 4,
 "nbformat_minor": 5
}
