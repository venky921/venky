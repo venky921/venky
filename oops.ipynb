{
 "cells": [
  {
   "cell_type": "code",
   "execution_count": 1,
   "id": "1272e17d-e0be-4d83-b91c-71fd8e8af3e0",
   "metadata": {},
   "outputs": [],
   "source": [
    "#oops\n",
    "class venky:\n",
    "    x=5"
   ]
  },
  {
   "cell_type": "code",
   "execution_count": 7,
   "id": "9caae046-534a-4178-b4f9-93538bdf67d6",
   "metadata": {},
   "outputs": [
    {
     "data": {
      "text/plain": [
       "5"
      ]
     },
     "execution_count": 7,
     "metadata": {},
     "output_type": "execute_result"
    }
   ],
   "source": [
    "obj1=venky()\n",
    "obj1.x"
   ]
  },
  {
   "cell_type": "code",
   "execution_count": 15,
   "id": "e5b985f8-b135-48ec-8640-7039cf22ac1c",
   "metadata": {},
   "outputs": [],
   "source": [
    "class dog:\n",
    "    def __init__(self,name,age):\n",
    "      self.name=name\n",
    "      self.age=age\n",
    "    def sound(self):\n",
    "      print('boow boow')\n",
    "    "
   ]
  },
  {
   "cell_type": "code",
   "execution_count": 19,
   "id": "b1758055-2525-4f9f-9310-4b9272605dda",
   "metadata": {},
   "outputs": [],
   "source": [
    "dog1=dog(\"rocky\",5)\n",
    "dog2=dog(\"bunty\",3)\n",
    "dog3=dog(\"chinnu\",2)"
   ]
  },
  {
   "cell_type": "code",
   "execution_count": 23,
   "id": "e124bce7-d94a-49d2-b1a7-92f7b186bff4",
   "metadata": {},
   "outputs": [
    {
     "name": "stdout",
     "output_type": "stream",
     "text": [
      "name is rocky and age is 5\n",
      "name is bunty and age is 3\n",
      "name is chinnu and age is 2\n"
     ]
    }
   ],
   "source": [
    "print(f'name is {dog1.name} and age is {dog1.age}')\n",
    "print(f'name is {dog2.name} and age is {dog2.age}')\n",
    "print(f'name is {dog3.name} and age is {dog3.age}')"
   ]
  },
  {
   "cell_type": "code",
   "execution_count": 29,
   "id": "16b80f86-1186-4cdd-983b-cbefa94b8810",
   "metadata": {},
   "outputs": [
    {
     "name": "stdout",
     "output_type": "stream",
     "text": [
      "boow boow\n"
     ]
    }
   ],
   "source": [
    "dog1.sound()"
   ]
  },
  {
   "cell_type": "code",
   "execution_count": 48,
   "id": "e6a7b11c-2121-4dd0-a17b-fec3bcf27c03",
   "metadata": {},
   "outputs": [],
   "source": [
    "class company:\n",
    "    def __init__ (self,name,domain):\n",
    "        self.name=name\n",
    "        self.domain=domain\n",
    "    def user(self):\n",
    "        print('good')\n",
    "        \n",
    "        "
   ]
  },
  {
   "cell_type": "code",
   "execution_count": 50,
   "id": "fd4b859a-a3b5-4ee3-81dc-984dc5e85b34",
   "metadata": {},
   "outputs": [],
   "source": [
    "worker1=company('raju','software enng')\n",
    "worker2=company('venky','data analyst')\n",
    "worker3=company('rohith','full stack')"
   ]
  },
  {
   "cell_type": "code",
   "execution_count": 52,
   "id": "f0cda67b-40e0-4b4a-ba23-0b13807b4ede",
   "metadata": {},
   "outputs": [
    {
     "name": "stdout",
     "output_type": "stream",
     "text": [
      "name is raju and worked in software enng\n",
      "name is venky and worked in data analyst\n",
      "name is rohith and worked in full stack\n"
     ]
    }
   ],
   "source": [
    "print(f'name is {worker1.name} and worked in {worker1.domain}')\n",
    "print(f'name is {worker2.name} and worked in {worker2.domain}')\n",
    "print(f'name is {worker3.name} and worked in {worker3.domain}')"
   ]
  },
  {
   "cell_type": "code",
   "execution_count": 56,
   "id": "825f50df-3589-40af-a01a-ff386ae10912",
   "metadata": {},
   "outputs": [
    {
     "name": "stdout",
     "output_type": "stream",
     "text": [
      "good\n",
      "good\n",
      "good\n"
     ]
    }
   ],
   "source": [
    "worker1.user()\n",
    "worker2.user()\n",
    "worker3.user()\n"
   ]
  },
  {
   "cell_type": "code",
   "execution_count": 70,
   "id": "cdf466e5-14ac-4102-882b-62fe6220533b",
   "metadata": {},
   "outputs": [],
   "source": [
    "#str method\n",
    "class institute:\n",
    "    def __init__ (self,name,branch,rollno):\n",
    "        self.name=name\n",
    "        self.branch=branch\n",
    "        self.rollno=rollno\n",
    "    def student(self):\n",
    "        print('not presented')\n",
    "    def __str__ (self):\n",
    "        return f'name is {self.name} and branch {self.branch} roll number {self.rollno}'\n",
    "        "
   ]
  },
  {
   "cell_type": "code",
   "execution_count": 72,
   "id": "e02bf906-140b-43c1-ba2e-03654eff457c",
   "metadata": {},
   "outputs": [],
   "source": [
    "student1=institute('raj','science',1)\n",
    "student2=institute('kalyan','arts',2)\n",
    "student3=institute('rohith','science',3)\n",
    "student4=institute('venky','arts',4)\n",
    "student5=institute('rajesh','science',5)\n",
    "student6=institute('sagar','arts',6)\n",
    "student7=institute('subbu','science',7)"
   ]
  },
  {
   "cell_type": "code",
   "execution_count": 82,
   "id": "9b06dc1e-e568-48af-90ab-a29a56c1cf7a",
   "metadata": {},
   "outputs": [
    {
     "name": "stdout",
     "output_type": "stream",
     "text": [
      "not presented\n",
      "name is raj and branch science roll number 1\n",
      "name is kalyan and branch arts roll number 2\n",
      "name is rohith and branch science roll number 3\n",
      "name is venky and branch arts roll number 4\n",
      "name is rajesh and branch science roll number 5\n",
      "name is sagar and branch arts roll number 6\n",
      "name is subbu and branch science roll number 7\n"
     ]
    }
   ],
   "source": [
    "student1.student()\n",
    "print(student1)\n",
    "print(student2)\n",
    "print(student3)\n",
    "print(student4)\n",
    "print(student5)\n",
    "print(student6)\n",
    "print(student7)"
   ]
  },
  {
   "cell_type": "code",
   "execution_count": 84,
   "id": "82ed0c41-a660-478e-8622-a73f716be660",
   "metadata": {},
   "outputs": [],
   "source": [
    "class cars:\n",
    "    def __init__ (self,name,model,registration):\n",
    "        self.name=name\n",
    "        self.model=model\n",
    "        self.registration=registration\n",
    "    def inf(self):\n",
    "        print('saled')\n",
    "    def __str__ (self):\n",
    "        return f'car name is {self.name} and model is {self.model} and registered in {self.registration}'\n",
    "        "
   ]
  },
  {
   "cell_type": "code",
   "execution_count": 92,
   "id": "275ed0a5-b460-4144-9aac-bf7b07d400b2",
   "metadata": {},
   "outputs": [],
   "source": [
    "car1=cars('honda','city','ap')\n",
    "car2=cars('volse vagon','polo','tg')\n",
    "car3=cars('maruti suzuki','swift','ap')\n",
    "car4=cars('mahindra','xuv700','tg')\n",
    "car5=cars('toyota','creta','ap')\n",
    "car6=cars('skod','300','tg')\n"
   ]
  },
  {
   "cell_type": "code",
   "execution_count": 98,
   "id": "6b717f5a-dfe1-4c72-8a41-64babd026b6a",
   "metadata": {},
   "outputs": [
    {
     "name": "stdout",
     "output_type": "stream",
     "text": [
      "car name is honda and model is city and registered in ap\n",
      "car name is volse vagon and model is polo and registered in tg\n",
      "car name is maruti suzuki and model is swift and registered in ap\n",
      "car name is mahindra and model is xuv700 and registered in tg\n",
      "car name is toyota and model is creta and registered in ap\n",
      "car name is skod and model is 300 and registered in tg\n",
      "saled\n"
     ]
    }
   ],
   "source": [
    "print(car1)\n",
    "print(car2)\n",
    "print(car3)\n",
    "print(car4)\n",
    "print(car5)\n",
    "print(car6)\n",
    "car1.inf()"
   ]
  },
  {
   "cell_type": "code",
   "execution_count": null,
   "id": "30449768-4ad0-49c8-9641-5908f424f056",
   "metadata": {},
   "outputs": [],
   "source": []
  }
 ],
 "metadata": {
  "kernelspec": {
   "display_name": "Python 3 (ipykernel)",
   "language": "python",
   "name": "python3"
  },
  "language_info": {
   "codemirror_mode": {
    "name": "ipython",
    "version": 3
   },
   "file_extension": ".py",
   "mimetype": "text/x-python",
   "name": "python",
   "nbconvert_exporter": "python",
   "pygments_lexer": "ipython3",
   "version": "3.12.7"
  }
 },
 "nbformat": 4,
 "nbformat_minor": 5
}
