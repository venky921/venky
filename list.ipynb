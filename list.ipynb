{
 "cells": [
  {
   "cell_type": "markdown",
   "id": "fd4426b8-f7d8-44c9-8cbc-8f530774f2e1",
   "metadata": {},
   "source": [
    "#### what is list"
   ]
  },
  {
   "cell_type": "markdown",
   "id": "4529624e-76d3-4a85-ae97-e417f2b6669e",
   "metadata": {},
   "source": [
    "A list is a collection of ordered, mutable (changeable) elements, which can be of any data type such as numbers, strings, or other objects. Lists are a fundamental data structure in programming, particularly in languages like Python.\n",
    "examples:\n",
    "- a=[1,2,3,4,5]\n",
    "- cv=['a','g','j','n']\n",
    "- rak=[\"apple\",\"banana\",\"mango\",\"orange\"]\n",
    "- avb=[656,88,44,09,77]\n",
    "- raju=[1,4,8,\"app\",\"boll\",\"cat\"]\n",
    "- raje=[5.7,7.7,5.9,5.7,6.6]\n",
    "- rajesh=[3,4,6,2.2,2.4,\"apple\",\"ram\"]\n",
    "- venky=[111111111,222222222222,3333333333333,4444444444444]\n",
    "- ravi=[\"veg\",\"sapota\",\"z',\"l\",\"q\"]\n",
    "- naveen=[8+8j,7+9j,2+8j,4+6j,3+1j]\n",
    "  "
   ]
  },
  {
   "cell_type": "markdown",
   "id": "95f065aa-f7bd-469b-ad12-2485bc0a483a",
   "metadata": {},
   "source": [
    "#### types of list"
   ]
  },
  {
   "cell_type": "markdown",
   "id": "abff1d5c-3e0b-4ca1-971a-4ea1233f5bb5",
   "metadata": {},
   "source": [
    "Method\t          Description\n",
    "append()\tAdds an element at the end of the list\n",
    "clear()\t    Removes all the elements from the list\n",
    "copy()\t    Returns a copy of the list\n",
    "count()\t    Returns the number of elements with the specified value\n",
    "extend()\tAdd the elements of a list (or any iterable), to the end of the current list\n",
    "index()\t    Returns the index of the first element with the specified value\n",
    "insert()\tAdds an element at the specified position\n",
    "pop()\t    Removes the element at the specified position\n",
    "remove()\tRemoves the item with the specified value\n",
    "reverse()\tReverses the order of the list\n",
    "sort()\t    Sorts the list"
   ]
  },
  {
   "cell_type": "markdown",
   "id": "c0e8f82f-f5ab-45b2-bb6c-7055d1cedd4e",
   "metadata": {},
   "source": [
    "#### accessing elements from list\n",
    "#### index"
   ]
  },
  {
   "cell_type": "code",
   "execution_count": 10,
   "id": "a4a063b2-5ca0-4770-9869-0b29f74fe3df",
   "metadata": {},
   "outputs": [
    {
     "data": {
      "text/plain": [
       "4"
      ]
     },
     "execution_count": 10,
     "metadata": {},
     "output_type": "execute_result"
    }
   ],
   "source": [
    "a=[1,2,3,4,5]\n",
    "a[3]"
   ]
  },
  {
   "cell_type": "code",
   "execution_count": 12,
   "id": "4e79d78d-f17f-42da-9270-44f149321fa8",
   "metadata": {},
   "outputs": [
    {
     "data": {
      "text/plain": [
       "8.9"
      ]
     },
     "execution_count": 12,
     "metadata": {},
     "output_type": "execute_result"
    }
   ],
   "source": [
    "b=[1.2,2.3,3.4,4.5,6.7,8.9]\n",
    "b[5]"
   ]
  },
  {
   "cell_type": "code",
   "execution_count": 14,
   "id": "49fd2f28-99d1-4a60-be2f-d926e58d886c",
   "metadata": {},
   "outputs": [
    {
     "data": {
      "text/plain": [
       "'r'"
      ]
     },
     "execution_count": 14,
     "metadata": {},
     "output_type": "execute_result"
    }
   ],
   "source": [
    "c=['a','e','u','h','r','s']\n",
    "c[4]"
   ]
  },
  {
   "cell_type": "code",
   "execution_count": 16,
   "id": "f2101f9f-c4b1-4ab5-b291-9621d52808ae",
   "metadata": {},
   "outputs": [
    {
     "data": {
      "text/plain": [
       "'orange'"
      ]
     },
     "execution_count": 16,
     "metadata": {},
     "output_type": "execute_result"
    }
   ],
   "source": [
    "d=['apple','banana','biryani','rice','veg','orange']\n",
    "d[5]"
   ]
  },
  {
   "cell_type": "code",
   "execution_count": 18,
   "id": "bf48d7aa-963f-4527-b639-876f52a0926f",
   "metadata": {},
   "outputs": [
    {
     "data": {
      "text/plain": [
       "44"
      ]
     },
     "execution_count": 18,
     "metadata": {},
     "output_type": "execute_result"
    }
   ],
   "source": [
    "e=[11,22,33,44,'banana','race','taj']\n",
    "e[3]"
   ]
  },
  {
   "cell_type": "code",
   "execution_count": 20,
   "id": "2fe844ff-a6c7-470c-a7a2-07b0d4293c24",
   "metadata": {},
   "outputs": [
    {
     "data": {
      "text/plain": [
       "4"
      ]
     },
     "execution_count": 20,
     "metadata": {},
     "output_type": "execute_result"
    }
   ],
   "source": [
    "a[-2]"
   ]
  },
  {
   "cell_type": "code",
   "execution_count": 22,
   "id": "8ceb52e7-455d-446a-acba-79b1a6dce2f1",
   "metadata": {},
   "outputs": [
    {
     "data": {
      "text/plain": [
       "4.5"
      ]
     },
     "execution_count": 22,
     "metadata": {},
     "output_type": "execute_result"
    }
   ],
   "source": [
    "b[-3]"
   ]
  },
  {
   "cell_type": "code",
   "execution_count": 24,
   "id": "66ae55e7-1df1-4baf-aaa2-34800329870e",
   "metadata": {},
   "outputs": [
    {
     "data": {
      "text/plain": [
       "'e'"
      ]
     },
     "execution_count": 24,
     "metadata": {},
     "output_type": "execute_result"
    }
   ],
   "source": [
    "c[-5]"
   ]
  },
  {
   "cell_type": "code",
   "execution_count": 26,
   "id": "e68f75c3-fff3-4f76-a604-51235a2feecb",
   "metadata": {},
   "outputs": [
    {
     "data": {
      "text/plain": [
       "'biryani'"
      ]
     },
     "execution_count": 26,
     "metadata": {},
     "output_type": "execute_result"
    }
   ],
   "source": [
    "d[-4]"
   ]
  },
  {
   "cell_type": "code",
   "execution_count": 28,
   "id": "d4b43ffc-bc19-4609-9263-27baaf756bb1",
   "metadata": {},
   "outputs": [
    {
     "data": {
      "text/plain": [
       "22"
      ]
     },
     "execution_count": 28,
     "metadata": {},
     "output_type": "execute_result"
    }
   ],
   "source": [
    "e[-6]"
   ]
  },
  {
   "cell_type": "markdown",
   "id": "d84b4c39-a90f-4f7e-96ba-000e33788bf3",
   "metadata": {},
   "source": [
    "#### slicing"
   ]
  },
  {
   "cell_type": "code",
   "execution_count": 34,
   "id": "748bef5c-cf4e-46fb-accd-e86186d03e9f",
   "metadata": {},
   "outputs": [
    {
     "data": {
      "text/plain": [
       "[66666, 777777, 88889]"
      ]
     },
     "execution_count": 34,
     "metadata": {},
     "output_type": "execute_result"
    }
   ],
   "source": [
    "f=[22,3333,444444,66666,777777,88889,9999,4333,322,566]\n",
    "f[3:6]"
   ]
  },
  {
   "cell_type": "code",
   "execution_count": 36,
   "id": "5d4854ad-7f60-4202-bda5-d2607513e8a0",
   "metadata": {},
   "outputs": [
    {
     "data": {
      "text/plain": [
       "['d', 'f', 't', 'k', 'we', 'e']"
      ]
     },
     "execution_count": 36,
     "metadata": {},
     "output_type": "execute_result"
    }
   ],
   "source": [
    "g=['a','s','d','f','t','k','we','e','w','r']\n",
    "g[2:8]"
   ]
  },
  {
   "cell_type": "code",
   "execution_count": 40,
   "id": "0c0e0bc6-157f-40b4-a54f-bd5b4ee07c9b",
   "metadata": {},
   "outputs": [
    {
     "data": {
      "text/plain": [
       "[2, 3, 4, 5, 6, 7, 8, 9]"
      ]
     },
     "execution_count": 40,
     "metadata": {},
     "output_type": "execute_result"
    }
   ],
   "source": [
    "h=[1,2,3,4,5,6,7,8,9,0]\n",
    "h[1:9]"
   ]
  },
  {
   "cell_type": "code",
   "execution_count": 42,
   "id": "861fea65-a184-42d1-9ba4-6e9a3c1f5507",
   "metadata": {},
   "outputs": [
    {
     "data": {
      "text/plain": [
       "[9, 2, 7, 3]"
      ]
     },
     "execution_count": 42,
     "metadata": {},
     "output_type": "execute_result"
    }
   ],
   "source": [
    "i=[1,5,78,9,2,7,3,'s','d','e','s','t']\n",
    "i[3:7]"
   ]
  },
  {
   "cell_type": "markdown",
   "id": "43ea5c0c-d882-4c63-8b8a-8178b36ada9b",
   "metadata": {},
   "source": [
    "j=[33,44,22,55,66,'a','d','f','e',4+7j,3+5j,3+8j]\n",
    "j[1:10]"
   ]
  },
  {
   "cell_type": "code",
   "execution_count": 52,
   "id": "77fde9a2-5383-4f22-9d46-76c7d4239ff1",
   "metadata": {},
   "outputs": [
    {
     "data": {
      "text/plain": [
       "[9999, 4333]"
      ]
     },
     "execution_count": 52,
     "metadata": {},
     "output_type": "execute_result"
    }
   ],
   "source": [
    "f[-4:-2]"
   ]
  },
  {
   "cell_type": "code",
   "execution_count": 58,
   "id": "95bf3219-f017-4545-8dc8-d3230f791d0b",
   "metadata": {},
   "outputs": [
    {
     "data": {
      "text/plain": [
       "['d', 'f', 't', 'k', 'we']"
      ]
     },
     "execution_count": 58,
     "metadata": {},
     "output_type": "execute_result"
    }
   ],
   "source": [
    "g[-8:-3]"
   ]
  },
  {
   "cell_type": "code",
   "execution_count": 60,
   "id": "cecb7640-f2f2-41ca-9593-0a42040beda0",
   "metadata": {},
   "outputs": [
    {
     "data": {
      "text/plain": [
       "[5, 6, 7, 8, 9]"
      ]
     },
     "execution_count": 60,
     "metadata": {},
     "output_type": "execute_result"
    }
   ],
   "source": [
    "h[-6:-1]"
   ]
  },
  {
   "cell_type": "code",
   "execution_count": 62,
   "id": "54a47e60-8203-4f1b-8272-7d6447166145",
   "metadata": {},
   "outputs": [
    {
     "data": {
      "text/plain": [
       "[9, 2, 7, 3, 's', 'd', 'e', 's']"
      ]
     },
     "execution_count": 62,
     "metadata": {},
     "output_type": "execute_result"
    }
   ],
   "source": [
    "i[-9:-1]"
   ]
  },
  {
   "cell_type": "code",
   "execution_count": 68,
   "id": "c3fbf0e3-1270-4edc-9b5a-a791c2ebaed6",
   "metadata": {},
   "outputs": [
    {
     "data": {
      "text/plain": [
       "[(4+7j), (3+5j)]"
      ]
     },
     "execution_count": 68,
     "metadata": {},
     "output_type": "execute_result"
    }
   ],
   "source": [
    "j[-3:-1]"
   ]
  },
  {
   "cell_type": "markdown",
   "id": "661cf812-b221-4cc4-a8d1-926ccdc76b5c",
   "metadata": {},
   "source": [
    "#### list methods\n",
    "#### append"
   ]
  },
  {
   "cell_type": "markdown",
   "id": "401d3bfb-34aa-490f-a0ab-b209e1f78903",
   "metadata": {},
   "source": [
    "a=[1,3,7,8,6,0,2]\n",
    "a.append(7)\n",
    "print(a)"
   ]
  },
  {
   "cell_type": "code",
   "execution_count": 5,
   "id": "b44b0cb3-616b-4c39-8168-6b429a5af5cd",
   "metadata": {},
   "outputs": [
    {
     "name": "stdout",
     "output_type": "stream",
     "text": [
      "[22, 44, 55, 6, 77, 88, 99, 55]\n"
     ]
    }
   ],
   "source": [
    "b=[22,44,55,6,77,88,99]\n",
    "b.append(55)\n",
    "print(b)"
   ]
  },
  {
   "cell_type": "code",
   "execution_count": 7,
   "id": "3bf9b67b-6dd5-439a-9fb5-8d43d7032989",
   "metadata": {},
   "outputs": [
    {
     "name": "stdout",
     "output_type": "stream",
     "text": [
      "[1.2, 2.3, 4.5, 6.7, 4.7, 8.9, 4.6, 3.1]\n"
     ]
    }
   ],
   "source": [
    "c=[1.2,2.3,4.5,6.7,4.7,8.9,4.6]\n",
    "c.append(3.1)\n",
    "print(c)"
   ]
  },
  {
   "cell_type": "code",
   "execution_count": 9,
   "id": "646e8983-bfe5-450f-9a66-614d991a32c0",
   "metadata": {},
   "outputs": [
    {
     "name": "stdout",
     "output_type": "stream",
     "text": [
      "['apple', 'banana', 'raj', 'orange', 'pineapple', 'ravi']\n"
     ]
    }
   ],
   "source": [
    "d=['apple','banana','raj','orange','pineapple']\n",
    "d.append('ravi')\n",
    "print(d)"
   ]
  },
  {
   "cell_type": "code",
   "execution_count": 11,
   "id": "a0ef9e05-473a-4ac1-86eb-72a5fbe374a1",
   "metadata": {},
   "outputs": [
    {
     "name": "stdout",
     "output_type": "stream",
     "text": [
      "[1.2, 2.3, 3.4, 5.6, 7.32, 6.3, 2, 'ra']\n"
     ]
    }
   ],
   "source": [
    "e=[1.2,2.3,3.4,5.6,7.32,6.3,2]\n",
    "e.append('ra')\n",
    "print(e)"
   ]
  },
  {
   "cell_type": "markdown",
   "id": "ee0ec955-1b61-4a14-8bff-eda4c0865426",
   "metadata": {},
   "source": [
    "#### extend"
   ]
  },
  {
   "cell_type": "code",
   "execution_count": 23,
   "id": "de5026e0-7d02-437f-866b-527bc932f1b2",
   "metadata": {},
   "outputs": [
    {
     "data": {
      "text/plain": [
       "[1, 3, 7, 8, 6, 0, 2, 7, 2, 3, 4, 5, 2, 3, 4, 5]"
      ]
     },
     "execution_count": 23,
     "metadata": {},
     "output_type": "execute_result"
    }
   ],
   "source": [
    "f=[2,3,4,5]\n",
    "a.extend(f)\n",
    "a"
   ]
  },
  {
   "cell_type": "code",
   "execution_count": 27,
   "id": "6fdd1516-7235-4639-8143-c936e43abf65",
   "metadata": {},
   "outputs": [
    {
     "data": {
      "text/plain": [
       "[2, 3, 4, 5, 2, 3, 4, 5, 2.4, 4.5, 6.3, 3.7]"
      ]
     },
     "execution_count": 27,
     "metadata": {},
     "output_type": "execute_result"
    }
   ],
   "source": [
    "g=[2.4,4.5,6.3,3.7]\n",
    "b.extend(g)\n",
    "b"
   ]
  },
  {
   "cell_type": "code",
   "execution_count": 1,
   "id": "db55b04b-df18-4bf4-98f0-950672a8bc23",
   "metadata": {},
   "outputs": [
    {
     "data": {
      "text/plain": [
       "[1, 2, 3, 4, 4444, 55555, 66666]"
      ]
     },
     "execution_count": 1,
     "metadata": {},
     "output_type": "execute_result"
    }
   ],
   "source": [
    "z=[1,2,3,4]\n",
    "h=[4444,55555,66666]\n",
    "z.extend(h)\n",
    "z"
   ]
  },
  {
   "cell_type": "code",
   "execution_count": 5,
   "id": "fd3ca2de-e25b-4f84-a779-82c9a469bcec",
   "metadata": {},
   "outputs": [
    {
     "data": {
      "text/plain": [
       "['as', 'yt', 'tyfg', 'fghhj', 'fh', 'gf', 1, 2, 3, 4]"
      ]
     },
     "execution_count": 5,
     "metadata": {},
     "output_type": "execute_result"
    }
   ],
   "source": [
    "y=['as','yt','tyfg','fghhj','fh','gf']\n",
    "c=[1,2,3,4]\n",
    "y.extend(c)\n",
    "y"
   ]
  },
  {
   "cell_type": "code",
   "execution_count": 9,
   "id": "75ca3ef7-bc8b-48c6-ae22-df6ecd7529bb",
   "metadata": {},
   "outputs": [
    {
     "data": {
      "text/plain": [
       "[4.5, 4.2, 3.5, 4.1, 54, 54564, 13256879, 1342, 35666]"
      ]
     },
     "execution_count": 9,
     "metadata": {},
     "output_type": "execute_result"
    }
   ],
   "source": [
    "x=[4.5,4.2,3.5,4.1,54]\n",
    "d=[54564,13256879,1342,35666]\n",
    "x.extend(d)\n",
    "x"
   ]
  },
  {
   "cell_type": "markdown",
   "id": "4e142ca7-78f3-4787-8537-b048375c00c4",
   "metadata": {},
   "source": [
    "#### pop"
   ]
  },
  {
   "cell_type": "code",
   "execution_count": 12,
   "id": "553cd8ca-2833-4fa0-b0ed-8284b1bfd0d3",
   "metadata": {},
   "outputs": [
    {
     "data": {
      "text/plain": [
       "8"
      ]
     },
     "execution_count": 12,
     "metadata": {},
     "output_type": "execute_result"
    }
   ],
   "source": [
    "d=[1,2,3,4,5,6,7,8]\n",
    "d.pop( )"
   ]
  },
  {
   "cell_type": "code",
   "execution_count": 14,
   "id": "b2de1692-3534-4936-9bf9-447755be8594",
   "metadata": {},
   "outputs": [
    {
     "data": {
      "text/plain": [
       "23.45"
      ]
     },
     "execution_count": 14,
     "metadata": {},
     "output_type": "execute_result"
    }
   ],
   "source": [
    "f=[1.2,3.4,5.6,54.6,23.45,54.3,46.4,34.5,554.6]\n",
    "f.pop(4)"
   ]
  },
  {
   "cell_type": "code",
   "execution_count": 16,
   "id": "5537b0f7-7038-44b6-9d16-9f2572c3a07e",
   "metadata": {},
   "outputs": [
    {
     "data": {
      "text/plain": [
       "46.4"
      ]
     },
     "execution_count": 16,
     "metadata": {},
     "output_type": "execute_result"
    }
   ],
   "source": [
    "f.pop(-3)"
   ]
  },
  {
   "cell_type": "code",
   "execution_count": 18,
   "id": "d6aff7e9-b69a-46ab-8354-ba4dca549761",
   "metadata": {},
   "outputs": [
    {
     "data": {
      "text/plain": [
       "'y'"
      ]
     },
     "execution_count": 18,
     "metadata": {},
     "output_type": "execute_result"
    }
   ],
   "source": [
    "g=['q','w','e','r','t','y']\n",
    "g.pop( )"
   ]
  },
  {
   "cell_type": "code",
   "execution_count": 26,
   "id": "7be131c7-1735-4256-8611-bd1a72fc1f80",
   "metadata": {},
   "outputs": [
    {
     "data": {
      "text/plain": [
       "54"
      ]
     },
     "execution_count": 26,
     "metadata": {},
     "output_type": "execute_result"
    }
   ],
   "source": [
    "h=['ap','ss','eee','dd','gg',1,2,3,4,54]\n",
    "h.pop( )"
   ]
  },
  {
   "cell_type": "code",
   "execution_count": 28,
   "id": "9239064d-ba2a-4a11-b755-43cd6b92f357",
   "metadata": {},
   "outputs": [
    {
     "data": {
      "text/plain": [
       "234"
      ]
     },
     "execution_count": 28,
     "metadata": {},
     "output_type": "execute_result"
    }
   ],
   "source": [
    "r=[32456789,34256789,234,1234,345,456,567]\n",
    "r.pop(2)"
   ]
  },
  {
   "cell_type": "markdown",
   "id": "9ce5ada4-69fa-410d-8179-1603eca357de",
   "metadata": {},
   "source": [
    "#### count"
   ]
  },
  {
   "cell_type": "code",
   "execution_count": 31,
   "id": "1cb8ea85-0bee-4915-a0e2-30d0be8933c5",
   "metadata": {},
   "outputs": [
    {
     "data": {
      "text/plain": [
       "2"
      ]
     },
     "execution_count": 31,
     "metadata": {},
     "output_type": "execute_result"
    }
   ],
   "source": [
    "f=[11,22,33,44,55,66,11,22,33]\n",
    "f.count(11)\n"
   ]
  },
  {
   "cell_type": "code",
   "execution_count": 33,
   "id": "ea135c82-39c8-4b24-b87d-894363ea447d",
   "metadata": {},
   "outputs": [
    {
     "data": {
      "text/plain": [
       "3"
      ]
     },
     "execution_count": 33,
     "metadata": {},
     "output_type": "execute_result"
    }
   ],
   "source": [
    "j=['a','e','i','g','h','h','h','g','a']\n",
    "j.count('h')"
   ]
  },
  {
   "cell_type": "code",
   "execution_count": 35,
   "id": "7bd97a90-d309-47e5-8a3b-404482c90a4f",
   "metadata": {},
   "outputs": [
    {
     "data": {
      "text/plain": [
       "7"
      ]
     },
     "execution_count": 35,
     "metadata": {},
     "output_type": "execute_result"
    }
   ],
   "source": [
    "h=[1,2,3,4,1,1,1,1,1,1,2,2,2,2,4]\n",
    "h.count(1)"
   ]
  },
  {
   "cell_type": "code",
   "execution_count": 37,
   "id": "293755bc-eb0c-45f6-a4d8-6d3070b7b4df",
   "metadata": {},
   "outputs": [
    {
     "data": {
      "text/plain": [
       "3"
      ]
     },
     "execution_count": 37,
     "metadata": {},
     "output_type": "execute_result"
    }
   ],
   "source": [
    "f=['apple','cat','king','apple','cat','apple']\n",
    "f.count('apple')"
   ]
  },
  {
   "cell_type": "code",
   "execution_count": 39,
   "id": "4f67325b-0299-4b16-aab0-6f13b03f8ba1",
   "metadata": {},
   "outputs": [
    {
     "data": {
      "text/plain": [
       "3"
      ]
     },
     "execution_count": 39,
     "metadata": {},
     "output_type": "execute_result"
    }
   ],
   "source": [
    "v=[1,2,3,4,1,1,1,1,2,2,'a','a','a','b','b','t','yu']\n",
    "v.count('a')"
   ]
  },
  {
   "cell_type": "code",
   "execution_count": null,
   "id": "7040444d-0594-4c4c-806c-1ccd130cee15",
   "metadata": {},
   "outputs": [],
   "source": []
  }
 ],
 "metadata": {
  "kernelspec": {
   "display_name": "Python 3 (ipykernel)",
   "language": "python",
   "name": "python3"
  },
  "language_info": {
   "codemirror_mode": {
    "name": "ipython",
    "version": 3
   },
   "file_extension": ".py",
   "mimetype": "text/x-python",
   "name": "python",
   "nbconvert_exporter": "python",
   "pygments_lexer": "ipython3",
   "version": "3.12.7"
  }
 },
 "nbformat": 4,
 "nbformat_minor": 5
}
